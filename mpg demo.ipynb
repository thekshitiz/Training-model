{
 "cells": [
  {
   "cell_type": "markdown",
   "id": "d8e3cf60-ad6c-4bf9-a1ef-1f25094d8c64",
   "metadata": {},
   "source": [
    "## 1. Preparing the data"
   ]
  },
  {
   "cell_type": "markdown",
   "id": "b11a9884-3cb6-4958-ab60-163c39d3611f",
   "metadata": {
    "tags": []
   },
   "source": [
    "### Import"
   ]
  },
  {
   "cell_type": "code",
   "execution_count": 1,
   "id": "48986007-a302-4760-b6ec-d6830af35a3f",
   "metadata": {},
   "outputs": [],
   "source": [
    "import pandas as pd"
   ]
  },
  {
   "cell_type": "code",
   "execution_count": 2,
   "id": "67177527-297d-4451-a3cf-b7b785bf17b9",
   "metadata": {},
   "outputs": [],
   "source": [
    "# read in the CSV file\n",
    "original_data = pd.read_csv(\"car-data.csv\")"
   ]
  },
  {
   "cell_type": "code",
   "execution_count": 3,
   "id": "d8268c3f-a692-4c6b-ad2c-da92d73c8418",
   "metadata": {},
   "outputs": [
    {
     "data": {
      "text/html": [
       "<div>\n",
       "<style scoped>\n",
       "    .dataframe tbody tr th:only-of-type {\n",
       "        vertical-align: middle;\n",
       "    }\n",
       "\n",
       "    .dataframe tbody tr th {\n",
       "        vertical-align: top;\n",
       "    }\n",
       "\n",
       "    .dataframe thead th {\n",
       "        text-align: right;\n",
       "    }\n",
       "</style>\n",
       "<table border=\"1\" class=\"dataframe\">\n",
       "  <thead>\n",
       "    <tr style=\"text-align: right;\">\n",
       "      <th></th>\n",
       "      <th>mpg</th>\n",
       "      <th>cyl</th>\n",
       "      <th>disp</th>\n",
       "      <th>hp</th>\n",
       "      <th>wgt</th>\n",
       "      <th>acc</th>\n",
       "      <th>country</th>\n",
       "      <th>year</th>\n",
       "      <th>make</th>\n",
       "      <th>model</th>\n",
       "    </tr>\n",
       "  </thead>\n",
       "  <tbody>\n",
       "    <tr>\n",
       "      <th>0</th>\n",
       "      <td>18.0</td>\n",
       "      <td>8</td>\n",
       "      <td>307.0</td>\n",
       "      <td>130</td>\n",
       "      <td>3504</td>\n",
       "      <td>12.0</td>\n",
       "      <td>1</td>\n",
       "      <td>70</td>\n",
       "      <td>chevrolet</td>\n",
       "      <td>chevelle malibu</td>\n",
       "    </tr>\n",
       "    <tr>\n",
       "      <th>1</th>\n",
       "      <td>15.0</td>\n",
       "      <td>8</td>\n",
       "      <td>350.0</td>\n",
       "      <td>165</td>\n",
       "      <td>3693</td>\n",
       "      <td>11.5</td>\n",
       "      <td>1</td>\n",
       "      <td>70</td>\n",
       "      <td>buick</td>\n",
       "      <td>skylark 320</td>\n",
       "    </tr>\n",
       "    <tr>\n",
       "      <th>2</th>\n",
       "      <td>18.0</td>\n",
       "      <td>8</td>\n",
       "      <td>318.0</td>\n",
       "      <td>150</td>\n",
       "      <td>3436</td>\n",
       "      <td>11.0</td>\n",
       "      <td>1</td>\n",
       "      <td>70</td>\n",
       "      <td>plymouth</td>\n",
       "      <td>satellite</td>\n",
       "    </tr>\n",
       "    <tr>\n",
       "      <th>3</th>\n",
       "      <td>16.0</td>\n",
       "      <td>8</td>\n",
       "      <td>304.0</td>\n",
       "      <td>150</td>\n",
       "      <td>3433</td>\n",
       "      <td>12.0</td>\n",
       "      <td>1</td>\n",
       "      <td>70</td>\n",
       "      <td>amc</td>\n",
       "      <td>rebel sst</td>\n",
       "    </tr>\n",
       "    <tr>\n",
       "      <th>4</th>\n",
       "      <td>17.0</td>\n",
       "      <td>8</td>\n",
       "      <td>302.0</td>\n",
       "      <td>140</td>\n",
       "      <td>3449</td>\n",
       "      <td>10.5</td>\n",
       "      <td>1</td>\n",
       "      <td>70</td>\n",
       "      <td>ford</td>\n",
       "      <td>torino</td>\n",
       "    </tr>\n",
       "    <tr>\n",
       "      <th>5</th>\n",
       "      <td>15.0</td>\n",
       "      <td>8</td>\n",
       "      <td>429.0</td>\n",
       "      <td>198</td>\n",
       "      <td>4341</td>\n",
       "      <td>10.0</td>\n",
       "      <td>1</td>\n",
       "      <td>70</td>\n",
       "      <td>ford</td>\n",
       "      <td>galaxie 500</td>\n",
       "    </tr>\n",
       "    <tr>\n",
       "      <th>6</th>\n",
       "      <td>14.0</td>\n",
       "      <td>8</td>\n",
       "      <td>454.0</td>\n",
       "      <td>220</td>\n",
       "      <td>4354</td>\n",
       "      <td>9.0</td>\n",
       "      <td>1</td>\n",
       "      <td>70</td>\n",
       "      <td>chevrolet</td>\n",
       "      <td>impala</td>\n",
       "    </tr>\n",
       "    <tr>\n",
       "      <th>7</th>\n",
       "      <td>14.0</td>\n",
       "      <td>8</td>\n",
       "      <td>440.0</td>\n",
       "      <td>215</td>\n",
       "      <td>4312</td>\n",
       "      <td>8.5</td>\n",
       "      <td>1</td>\n",
       "      <td>70</td>\n",
       "      <td>plymouth</td>\n",
       "      <td>fury iii</td>\n",
       "    </tr>\n",
       "    <tr>\n",
       "      <th>8</th>\n",
       "      <td>14.0</td>\n",
       "      <td>8</td>\n",
       "      <td>455.0</td>\n",
       "      <td>225</td>\n",
       "      <td>4425</td>\n",
       "      <td>10.0</td>\n",
       "      <td>1</td>\n",
       "      <td>70</td>\n",
       "      <td>pontiac</td>\n",
       "      <td>catalina</td>\n",
       "    </tr>\n",
       "    <tr>\n",
       "      <th>9</th>\n",
       "      <td>15.0</td>\n",
       "      <td>8</td>\n",
       "      <td>390.0</td>\n",
       "      <td>190</td>\n",
       "      <td>3850</td>\n",
       "      <td>8.5</td>\n",
       "      <td>1</td>\n",
       "      <td>70</td>\n",
       "      <td>amc</td>\n",
       "      <td>ambassador dpl</td>\n",
       "    </tr>\n",
       "  </tbody>\n",
       "</table>\n",
       "</div>"
      ],
      "text/plain": [
       "    mpg  cyl   disp   hp   wgt   acc  country  year       make  \\\n",
       "0  18.0    8  307.0  130  3504  12.0        1    70  chevrolet   \n",
       "1  15.0    8  350.0  165  3693  11.5        1    70      buick   \n",
       "2  18.0    8  318.0  150  3436  11.0        1    70   plymouth   \n",
       "3  16.0    8  304.0  150  3433  12.0        1    70        amc   \n",
       "4  17.0    8  302.0  140  3449  10.5        1    70       ford   \n",
       "5  15.0    8  429.0  198  4341  10.0        1    70       ford   \n",
       "6  14.0    8  454.0  220  4354   9.0        1    70  chevrolet   \n",
       "7  14.0    8  440.0  215  4312   8.5        1    70   plymouth   \n",
       "8  14.0    8  455.0  225  4425  10.0        1    70    pontiac   \n",
       "9  15.0    8  390.0  190  3850   8.5        1    70        amc   \n",
       "\n",
       "             model  \n",
       "0  chevelle malibu  \n",
       "1      skylark 320  \n",
       "2        satellite  \n",
       "3        rebel sst  \n",
       "4           torino  \n",
       "5      galaxie 500  \n",
       "6           impala  \n",
       "7         fury iii  \n",
       "8         catalina  \n",
       "9   ambassador dpl  "
      ]
     },
     "execution_count": 3,
     "metadata": {},
     "output_type": "execute_result"
    }
   ],
   "source": [
    "original_data.head(10)"
   ]
  },
  {
   "cell_type": "code",
   "execution_count": 4,
   "id": "96da82d9-6bf5-4940-87de-5a69a428eecf",
   "metadata": {},
   "outputs": [
    {
     "data": {
      "text/plain": [
       "mpg                 15.0\n",
       "cyl                    8\n",
       "disp               383.0\n",
       "hp                   170\n",
       "wgt                 3563\n",
       "acc                 10.0\n",
       "country                1\n",
       "year                  70\n",
       "make               dodge\n",
       "model      challenger se\n",
       "Name: 10, dtype: object"
      ]
     },
     "execution_count": 4,
     "metadata": {},
     "output_type": "execute_result"
    }
   ],
   "source": [
    "# view specific row #11\n",
    "original_data.iloc[10]"
   ]
  },
  {
   "cell_type": "markdown",
   "id": "4d82bef4-d65e-4424-aac0-a8075eb6306d",
   "metadata": {
    "tags": []
   },
   "source": [
    "## 2. Cleanup / Validation"
   ]
  },
  {
   "cell_type": "code",
   "execution_count": 5,
   "id": "2c9f53be-b9aa-4aa9-abc3-7d57b07c0d48",
   "metadata": {},
   "outputs": [],
   "source": [
    "# making a copy of imported data\n",
    "data = original_data.copy()"
   ]
  },
  {
   "cell_type": "code",
   "execution_count": 6,
   "id": "de7c293f-5a98-4b73-836f-c924084db147",
   "metadata": {},
   "outputs": [
    {
     "data": {
      "text/html": [
       "<div>\n",
       "<style scoped>\n",
       "    .dataframe tbody tr th:only-of-type {\n",
       "        vertical-align: middle;\n",
       "    }\n",
       "\n",
       "    .dataframe tbody tr th {\n",
       "        vertical-align: top;\n",
       "    }\n",
       "\n",
       "    .dataframe thead th {\n",
       "        text-align: right;\n",
       "    }\n",
       "</style>\n",
       "<table border=\"1\" class=\"dataframe\">\n",
       "  <thead>\n",
       "    <tr style=\"text-align: right;\">\n",
       "      <th></th>\n",
       "      <th>mpg</th>\n",
       "      <th>cyl</th>\n",
       "      <th>disp</th>\n",
       "      <th>hp</th>\n",
       "      <th>wgt</th>\n",
       "      <th>acc</th>\n",
       "      <th>country</th>\n",
       "      <th>year</th>\n",
       "      <th>make</th>\n",
       "      <th>model</th>\n",
       "    </tr>\n",
       "  </thead>\n",
       "  <tbody>\n",
       "    <tr>\n",
       "      <th>0</th>\n",
       "      <td>18.0</td>\n",
       "      <td>8</td>\n",
       "      <td>307.0</td>\n",
       "      <td>130</td>\n",
       "      <td>3504</td>\n",
       "      <td>12.0</td>\n",
       "      <td>1</td>\n",
       "      <td>70</td>\n",
       "      <td>chevrolet</td>\n",
       "      <td>chevelle malibu</td>\n",
       "    </tr>\n",
       "    <tr>\n",
       "      <th>1</th>\n",
       "      <td>15.0</td>\n",
       "      <td>8</td>\n",
       "      <td>350.0</td>\n",
       "      <td>165</td>\n",
       "      <td>3693</td>\n",
       "      <td>11.5</td>\n",
       "      <td>1</td>\n",
       "      <td>70</td>\n",
       "      <td>buick</td>\n",
       "      <td>skylark 320</td>\n",
       "    </tr>\n",
       "    <tr>\n",
       "      <th>2</th>\n",
       "      <td>18.0</td>\n",
       "      <td>8</td>\n",
       "      <td>318.0</td>\n",
       "      <td>150</td>\n",
       "      <td>3436</td>\n",
       "      <td>11.0</td>\n",
       "      <td>1</td>\n",
       "      <td>70</td>\n",
       "      <td>plymouth</td>\n",
       "      <td>satellite</td>\n",
       "    </tr>\n",
       "    <tr>\n",
       "      <th>3</th>\n",
       "      <td>16.0</td>\n",
       "      <td>8</td>\n",
       "      <td>304.0</td>\n",
       "      <td>150</td>\n",
       "      <td>3433</td>\n",
       "      <td>12.0</td>\n",
       "      <td>1</td>\n",
       "      <td>70</td>\n",
       "      <td>amc</td>\n",
       "      <td>rebel sst</td>\n",
       "    </tr>\n",
       "    <tr>\n",
       "      <th>4</th>\n",
       "      <td>17.0</td>\n",
       "      <td>8</td>\n",
       "      <td>302.0</td>\n",
       "      <td>140</td>\n",
       "      <td>3449</td>\n",
       "      <td>10.5</td>\n",
       "      <td>1</td>\n",
       "      <td>70</td>\n",
       "      <td>ford</td>\n",
       "      <td>torino</td>\n",
       "    </tr>\n",
       "  </tbody>\n",
       "</table>\n",
       "</div>"
      ],
      "text/plain": [
       "    mpg  cyl   disp   hp   wgt   acc  country  year       make  \\\n",
       "0  18.0    8  307.0  130  3504  12.0        1    70  chevrolet   \n",
       "1  15.0    8  350.0  165  3693  11.5        1    70      buick   \n",
       "2  18.0    8  318.0  150  3436  11.0        1    70   plymouth   \n",
       "3  16.0    8  304.0  150  3433  12.0        1    70        amc   \n",
       "4  17.0    8  302.0  140  3449  10.5        1    70       ford   \n",
       "\n",
       "             model  \n",
       "0  chevelle malibu  \n",
       "1      skylark 320  \n",
       "2        satellite  \n",
       "3        rebel sst  \n",
       "4           torino  "
      ]
     },
     "execution_count": 6,
     "metadata": {},
     "output_type": "execute_result"
    }
   ],
   "source": [
    "data.head()"
   ]
  },
  {
   "cell_type": "code",
   "execution_count": 7,
   "id": "100c2991-fd80-4936-99d3-d058140a1063",
   "metadata": {},
   "outputs": [],
   "source": [
    "# rename the coulumns\n",
    "cols = { \n",
    "    \"mpg\": \"MPG\",\n",
    "    \"cyl\": \"Cylinders\",\n",
    "    \"disp\": \"Displacement\",\n",
    "    \"hp\": \"Horsepower\",\n",
    "    \"wgt\": \"Weight\",\n",
    "    \"acc\": \"Acceleration\",\n",
    "    \"country\": \"Country\",\n",
    "    \"year\": \"Year\",\n",
    "    \"make\": \"Make\",\n",
    "    \"model\": \"Model\" }\n",
    "data = data.rename(columns=cols)"
   ]
  },
  {
   "cell_type": "code",
   "execution_count": 8,
   "id": "6d8e73a6-681d-40b8-aacc-361018af2cda",
   "metadata": {},
   "outputs": [
    {
     "data": {
      "text/html": [
       "<div>\n",
       "<style scoped>\n",
       "    .dataframe tbody tr th:only-of-type {\n",
       "        vertical-align: middle;\n",
       "    }\n",
       "\n",
       "    .dataframe tbody tr th {\n",
       "        vertical-align: top;\n",
       "    }\n",
       "\n",
       "    .dataframe thead th {\n",
       "        text-align: right;\n",
       "    }\n",
       "</style>\n",
       "<table border=\"1\" class=\"dataframe\">\n",
       "  <thead>\n",
       "    <tr style=\"text-align: right;\">\n",
       "      <th></th>\n",
       "      <th>MPG</th>\n",
       "      <th>Cylinders</th>\n",
       "      <th>Displacement</th>\n",
       "      <th>Horsepower</th>\n",
       "      <th>Weight</th>\n",
       "      <th>Acceleration</th>\n",
       "      <th>Country</th>\n",
       "      <th>Year</th>\n",
       "      <th>Make</th>\n",
       "      <th>Model</th>\n",
       "    </tr>\n",
       "  </thead>\n",
       "  <tbody>\n",
       "    <tr>\n",
       "      <th>0</th>\n",
       "      <td>18.0</td>\n",
       "      <td>8</td>\n",
       "      <td>307.0</td>\n",
       "      <td>130</td>\n",
       "      <td>3504</td>\n",
       "      <td>12.0</td>\n",
       "      <td>1</td>\n",
       "      <td>70</td>\n",
       "      <td>chevrolet</td>\n",
       "      <td>chevelle malibu</td>\n",
       "    </tr>\n",
       "    <tr>\n",
       "      <th>1</th>\n",
       "      <td>15.0</td>\n",
       "      <td>8</td>\n",
       "      <td>350.0</td>\n",
       "      <td>165</td>\n",
       "      <td>3693</td>\n",
       "      <td>11.5</td>\n",
       "      <td>1</td>\n",
       "      <td>70</td>\n",
       "      <td>buick</td>\n",
       "      <td>skylark 320</td>\n",
       "    </tr>\n",
       "    <tr>\n",
       "      <th>2</th>\n",
       "      <td>18.0</td>\n",
       "      <td>8</td>\n",
       "      <td>318.0</td>\n",
       "      <td>150</td>\n",
       "      <td>3436</td>\n",
       "      <td>11.0</td>\n",
       "      <td>1</td>\n",
       "      <td>70</td>\n",
       "      <td>plymouth</td>\n",
       "      <td>satellite</td>\n",
       "    </tr>\n",
       "    <tr>\n",
       "      <th>3</th>\n",
       "      <td>16.0</td>\n",
       "      <td>8</td>\n",
       "      <td>304.0</td>\n",
       "      <td>150</td>\n",
       "      <td>3433</td>\n",
       "      <td>12.0</td>\n",
       "      <td>1</td>\n",
       "      <td>70</td>\n",
       "      <td>amc</td>\n",
       "      <td>rebel sst</td>\n",
       "    </tr>\n",
       "    <tr>\n",
       "      <th>4</th>\n",
       "      <td>17.0</td>\n",
       "      <td>8</td>\n",
       "      <td>302.0</td>\n",
       "      <td>140</td>\n",
       "      <td>3449</td>\n",
       "      <td>10.5</td>\n",
       "      <td>1</td>\n",
       "      <td>70</td>\n",
       "      <td>ford</td>\n",
       "      <td>torino</td>\n",
       "    </tr>\n",
       "  </tbody>\n",
       "</table>\n",
       "</div>"
      ],
      "text/plain": [
       "    MPG  Cylinders  Displacement Horsepower  Weight  Acceleration  Country  \\\n",
       "0  18.0          8         307.0        130    3504          12.0        1   \n",
       "1  15.0          8         350.0        165    3693          11.5        1   \n",
       "2  18.0          8         318.0        150    3436          11.0        1   \n",
       "3  16.0          8         304.0        150    3433          12.0        1   \n",
       "4  17.0          8         302.0        140    3449          10.5        1   \n",
       "\n",
       "   Year       Make            Model  \n",
       "0    70  chevrolet  chevelle malibu  \n",
       "1    70      buick      skylark 320  \n",
       "2    70   plymouth        satellite  \n",
       "3    70        amc        rebel sst  \n",
       "4    70       ford           torino  "
      ]
     },
     "execution_count": 8,
     "metadata": {},
     "output_type": "execute_result"
    }
   ],
   "source": [
    "data.head()"
   ]
  },
  {
   "cell_type": "code",
   "execution_count": 9,
   "id": "dd42c8a4-2d10-41f6-8d14-9e533fce2647",
   "metadata": {},
   "outputs": [
    {
     "data": {
      "text/plain": [
       "MPG             0\n",
       "Cylinders       0\n",
       "Displacement    0\n",
       "Horsepower      0\n",
       "Weight          0\n",
       "Acceleration    0\n",
       "Country         0\n",
       "Year            0\n",
       "Make            0\n",
       "Model           2\n",
       "dtype: int64"
      ]
     },
     "execution_count": 9,
     "metadata": {},
     "output_type": "execute_result"
    }
   ],
   "source": [
    "# check for null values \n",
    "\n",
    "data.isnull().sum()"
   ]
  },
  {
   "cell_type": "code",
   "execution_count": 10,
   "id": "0316ad59-71d6-4e3a-91cc-2d5521d0289f",
   "metadata": {},
   "outputs": [
    {
     "data": {
      "text/plain": [
       "MPG             float64\n",
       "Cylinders         int64\n",
       "Displacement    float64\n",
       "Horsepower       object\n",
       "Weight            int64\n",
       "Acceleration    float64\n",
       "Country           int64\n",
       "Year              int64\n",
       "Make             object\n",
       "Model            object\n",
       "dtype: object"
      ]
     },
     "execution_count": 10,
     "metadata": {},
     "output_type": "execute_result"
    }
   ],
   "source": [
    "# view the data types\n",
    "data.dtypes"
   ]
  },
  {
   "cell_type": "code",
   "execution_count": 11,
   "id": "4c706e31-0162-4f54-bc6b-cd96e0cb5010",
   "metadata": {},
   "outputs": [
    {
     "data": {
      "text/plain": [
       "MPG              25.0\n",
       "Cylinders           4\n",
       "Displacement     98.0\n",
       "Horsepower          ?\n",
       "Weight           2046\n",
       "Acceleration     19.0\n",
       "Country             1\n",
       "Year               71\n",
       "Make             ford\n",
       "Model           pinto\n",
       "Name: 32, dtype: object"
      ]
     },
     "execution_count": 11,
     "metadata": {},
     "output_type": "execute_result"
    }
   ],
   "source": [
    "data.iloc[32]"
   ]
  },
  {
   "cell_type": "code",
   "execution_count": 12,
   "id": "bf437aec-7064-447b-8fe0-383a7d8f2c98",
   "metadata": {},
   "outputs": [],
   "source": [
    "# replace ? with blanks \n",
    "data.replace(to_replace=\"?\", value=None, inplace=True)"
   ]
  },
  {
   "cell_type": "code",
   "execution_count": 13,
   "id": "8fdb38e6-51e0-4120-8719-6883191ebb0d",
   "metadata": {},
   "outputs": [
    {
     "data": {
      "text/plain": [
       "MPG              25.0\n",
       "Cylinders           4\n",
       "Displacement     98.0\n",
       "Horsepower       None\n",
       "Weight           2046\n",
       "Acceleration     19.0\n",
       "Country             1\n",
       "Year               71\n",
       "Make             ford\n",
       "Model           pinto\n",
       "Name: 32, dtype: object"
      ]
     },
     "execution_count": 13,
     "metadata": {},
     "output_type": "execute_result"
    }
   ],
   "source": [
    "data.iloc[32]"
   ]
  },
  {
   "cell_type": "code",
   "execution_count": 14,
   "id": "3b90aedb-8005-451f-8fcd-af8dafa70da4",
   "metadata": {},
   "outputs": [],
   "source": [
    "# drop records with missing values\n",
    "data = data.dropna()"
   ]
  },
  {
   "cell_type": "code",
   "execution_count": 15,
   "id": "09ad47c8-3d52-4053-a982-e88a7bc61a7e",
   "metadata": {},
   "outputs": [],
   "source": [
    "# convert horsepower to int\n",
    "data['Horsepower'] = data['Horsepower'].astype(int)"
   ]
  },
  {
   "cell_type": "code",
   "execution_count": 16,
   "id": "cd5a4cb6-d55a-45f9-a0d2-e5c7b48c20cf",
   "metadata": {},
   "outputs": [
    {
     "data": {
      "text/plain": [
       "MPG             float64\n",
       "Cylinders         int64\n",
       "Displacement    float64\n",
       "Horsepower        int32\n",
       "Weight            int64\n",
       "Acceleration    float64\n",
       "Country           int64\n",
       "Year              int64\n",
       "Make             object\n",
       "Model            object\n",
       "dtype: object"
      ]
     },
     "execution_count": 16,
     "metadata": {},
     "output_type": "execute_result"
    }
   ],
   "source": [
    "data.dtypes"
   ]
  },
  {
   "cell_type": "code",
   "execution_count": 17,
   "id": "f84cc728-d938-40ad-a384-97064306b663",
   "metadata": {},
   "outputs": [],
   "source": [
    "# format year from two digit to four digit\n",
    "data['Year'] = data['Year'].add(1900)"
   ]
  },
  {
   "cell_type": "code",
   "execution_count": 18,
   "id": "be92e8df-af05-4d4f-bc44-aba3c0b14f63",
   "metadata": {},
   "outputs": [
    {
     "data": {
      "text/html": [
       "<div>\n",
       "<style scoped>\n",
       "    .dataframe tbody tr th:only-of-type {\n",
       "        vertical-align: middle;\n",
       "    }\n",
       "\n",
       "    .dataframe tbody tr th {\n",
       "        vertical-align: top;\n",
       "    }\n",
       "\n",
       "    .dataframe thead th {\n",
       "        text-align: right;\n",
       "    }\n",
       "</style>\n",
       "<table border=\"1\" class=\"dataframe\">\n",
       "  <thead>\n",
       "    <tr style=\"text-align: right;\">\n",
       "      <th></th>\n",
       "      <th>MPG</th>\n",
       "      <th>Cylinders</th>\n",
       "      <th>Displacement</th>\n",
       "      <th>Horsepower</th>\n",
       "      <th>Weight</th>\n",
       "      <th>Acceleration</th>\n",
       "      <th>Country</th>\n",
       "      <th>Year</th>\n",
       "      <th>Make</th>\n",
       "      <th>Model</th>\n",
       "    </tr>\n",
       "  </thead>\n",
       "  <tbody>\n",
       "    <tr>\n",
       "      <th>0</th>\n",
       "      <td>18.0</td>\n",
       "      <td>8</td>\n",
       "      <td>307.0</td>\n",
       "      <td>130</td>\n",
       "      <td>3504</td>\n",
       "      <td>12.0</td>\n",
       "      <td>1</td>\n",
       "      <td>1970</td>\n",
       "      <td>chevrolet</td>\n",
       "      <td>chevelle malibu</td>\n",
       "    </tr>\n",
       "    <tr>\n",
       "      <th>1</th>\n",
       "      <td>15.0</td>\n",
       "      <td>8</td>\n",
       "      <td>350.0</td>\n",
       "      <td>165</td>\n",
       "      <td>3693</td>\n",
       "      <td>11.5</td>\n",
       "      <td>1</td>\n",
       "      <td>1970</td>\n",
       "      <td>buick</td>\n",
       "      <td>skylark 320</td>\n",
       "    </tr>\n",
       "    <tr>\n",
       "      <th>2</th>\n",
       "      <td>18.0</td>\n",
       "      <td>8</td>\n",
       "      <td>318.0</td>\n",
       "      <td>150</td>\n",
       "      <td>3436</td>\n",
       "      <td>11.0</td>\n",
       "      <td>1</td>\n",
       "      <td>1970</td>\n",
       "      <td>plymouth</td>\n",
       "      <td>satellite</td>\n",
       "    </tr>\n",
       "    <tr>\n",
       "      <th>3</th>\n",
       "      <td>16.0</td>\n",
       "      <td>8</td>\n",
       "      <td>304.0</td>\n",
       "      <td>150</td>\n",
       "      <td>3433</td>\n",
       "      <td>12.0</td>\n",
       "      <td>1</td>\n",
       "      <td>1970</td>\n",
       "      <td>amc</td>\n",
       "      <td>rebel sst</td>\n",
       "    </tr>\n",
       "    <tr>\n",
       "      <th>4</th>\n",
       "      <td>17.0</td>\n",
       "      <td>8</td>\n",
       "      <td>302.0</td>\n",
       "      <td>140</td>\n",
       "      <td>3449</td>\n",
       "      <td>10.5</td>\n",
       "      <td>1</td>\n",
       "      <td>1970</td>\n",
       "      <td>ford</td>\n",
       "      <td>torino</td>\n",
       "    </tr>\n",
       "  </tbody>\n",
       "</table>\n",
       "</div>"
      ],
      "text/plain": [
       "    MPG  Cylinders  Displacement  Horsepower  Weight  Acceleration  Country  \\\n",
       "0  18.0          8         307.0         130    3504          12.0        1   \n",
       "1  15.0          8         350.0         165    3693          11.5        1   \n",
       "2  18.0          8         318.0         150    3436          11.0        1   \n",
       "3  16.0          8         304.0         150    3433          12.0        1   \n",
       "4  17.0          8         302.0         140    3449          10.5        1   \n",
       "\n",
       "   Year       Make            Model  \n",
       "0  1970  chevrolet  chevelle malibu  \n",
       "1  1970      buick      skylark 320  \n",
       "2  1970   plymouth        satellite  \n",
       "3  1970        amc        rebel sst  \n",
       "4  1970       ford           torino  "
      ]
     },
     "execution_count": 18,
     "metadata": {},
     "output_type": "execute_result"
    }
   ],
   "source": [
    "data.head()"
   ]
  },
  {
   "cell_type": "markdown",
   "id": "0e5725fd-0ce6-4bd5-b64a-8bc7e735cf68",
   "metadata": {
    "tags": []
   },
   "source": [
    "## 3. Feature Selection & Feature Engineering"
   ]
  },
  {
   "cell_type": "code",
   "execution_count": 19,
   "id": "aa534323-e3eb-4ecb-ba00-3625c7f791d2",
   "metadata": {},
   "outputs": [
    {
     "data": {
      "text/html": [
       "<div>\n",
       "<style scoped>\n",
       "    .dataframe tbody tr th:only-of-type {\n",
       "        vertical-align: middle;\n",
       "    }\n",
       "\n",
       "    .dataframe tbody tr th {\n",
       "        vertical-align: top;\n",
       "    }\n",
       "\n",
       "    .dataframe thead th {\n",
       "        text-align: right;\n",
       "    }\n",
       "</style>\n",
       "<table border=\"1\" class=\"dataframe\">\n",
       "  <thead>\n",
       "    <tr style=\"text-align: right;\">\n",
       "      <th></th>\n",
       "      <th>MPG</th>\n",
       "      <th>Cylinders</th>\n",
       "      <th>Displacement</th>\n",
       "      <th>Horsepower</th>\n",
       "      <th>Weight</th>\n",
       "      <th>Acceleration</th>\n",
       "      <th>Country</th>\n",
       "      <th>Year</th>\n",
       "      <th>Make</th>\n",
       "      <th>Model</th>\n",
       "    </tr>\n",
       "  </thead>\n",
       "  <tbody>\n",
       "    <tr>\n",
       "      <th>0</th>\n",
       "      <td>18.0</td>\n",
       "      <td>8</td>\n",
       "      <td>307.0</td>\n",
       "      <td>130</td>\n",
       "      <td>3504</td>\n",
       "      <td>12.0</td>\n",
       "      <td>1</td>\n",
       "      <td>1970</td>\n",
       "      <td>chevrolet</td>\n",
       "      <td>chevelle malibu</td>\n",
       "    </tr>\n",
       "  </tbody>\n",
       "</table>\n",
       "</div>"
      ],
      "text/plain": [
       "    MPG  Cylinders  Displacement  Horsepower  Weight  Acceleration  Country  \\\n",
       "0  18.0          8         307.0         130    3504          12.0        1   \n",
       "\n",
       "   Year       Make            Model  \n",
       "0  1970  chevrolet  chevelle malibu  "
      ]
     },
     "execution_count": 19,
     "metadata": {},
     "output_type": "execute_result"
    }
   ],
   "source": [
    "data.head(1)"
   ]
  },
  {
   "cell_type": "code",
   "execution_count": 20,
   "id": "5603b427-0212-4bdf-b062-9541abd95cf9",
   "metadata": {},
   "outputs": [],
   "source": [
    "# drop the make and model columns\n",
    "data = data.drop('Make',axis =1 )\n",
    "data = data.drop('Model',axis =1 )"
   ]
  },
  {
   "cell_type": "code",
   "execution_count": 21,
   "id": "adf031fd-ba3a-4523-9ae9-74deeb7b7cd3",
   "metadata": {},
   "outputs": [
    {
     "data": {
      "text/html": [
       "<div>\n",
       "<style scoped>\n",
       "    .dataframe tbody tr th:only-of-type {\n",
       "        vertical-align: middle;\n",
       "    }\n",
       "\n",
       "    .dataframe tbody tr th {\n",
       "        vertical-align: top;\n",
       "    }\n",
       "\n",
       "    .dataframe thead th {\n",
       "        text-align: right;\n",
       "    }\n",
       "</style>\n",
       "<table border=\"1\" class=\"dataframe\">\n",
       "  <thead>\n",
       "    <tr style=\"text-align: right;\">\n",
       "      <th></th>\n",
       "      <th>MPG</th>\n",
       "      <th>Cylinders</th>\n",
       "      <th>Displacement</th>\n",
       "      <th>Horsepower</th>\n",
       "      <th>Weight</th>\n",
       "      <th>Acceleration</th>\n",
       "      <th>Country</th>\n",
       "      <th>Year</th>\n",
       "    </tr>\n",
       "  </thead>\n",
       "  <tbody>\n",
       "    <tr>\n",
       "      <th>0</th>\n",
       "      <td>18.0</td>\n",
       "      <td>8</td>\n",
       "      <td>307.0</td>\n",
       "      <td>130</td>\n",
       "      <td>3504</td>\n",
       "      <td>12.0</td>\n",
       "      <td>1</td>\n",
       "      <td>1970</td>\n",
       "    </tr>\n",
       "  </tbody>\n",
       "</table>\n",
       "</div>"
      ],
      "text/plain": [
       "    MPG  Cylinders  Displacement  Horsepower  Weight  Acceleration  Country  \\\n",
       "0  18.0          8         307.0         130    3504          12.0        1   \n",
       "\n",
       "   Year  \n",
       "0  1970  "
      ]
     },
     "execution_count": 21,
     "metadata": {},
     "output_type": "execute_result"
    }
   ],
   "source": [
    "data.head(1)"
   ]
  },
  {
   "cell_type": "code",
   "execution_count": 22,
   "id": "70c96ff6-f323-409c-bbe2-2ed20a5cc64b",
   "metadata": {},
   "outputs": [],
   "source": [
    "# change country to one hot encoding\n",
    "data['Country'] = data['Country'].map({1: 'USA', 2: 'Europe', 3: 'Japan'})\n",
    "data = pd.get_dummies(data, columns=['Country'], prefix='', prefix_sep='')"
   ]
  },
  {
   "cell_type": "code",
   "execution_count": 23,
   "id": "cd00550f-fe68-480c-bd4b-bad089068b66",
   "metadata": {},
   "outputs": [
    {
     "data": {
      "text/html": [
       "<div>\n",
       "<style scoped>\n",
       "    .dataframe tbody tr th:only-of-type {\n",
       "        vertical-align: middle;\n",
       "    }\n",
       "\n",
       "    .dataframe tbody tr th {\n",
       "        vertical-align: top;\n",
       "    }\n",
       "\n",
       "    .dataframe thead th {\n",
       "        text-align: right;\n",
       "    }\n",
       "</style>\n",
       "<table border=\"1\" class=\"dataframe\">\n",
       "  <thead>\n",
       "    <tr style=\"text-align: right;\">\n",
       "      <th></th>\n",
       "      <th>MPG</th>\n",
       "      <th>Cylinders</th>\n",
       "      <th>Displacement</th>\n",
       "      <th>Horsepower</th>\n",
       "      <th>Weight</th>\n",
       "      <th>Acceleration</th>\n",
       "      <th>Year</th>\n",
       "      <th>Europe</th>\n",
       "      <th>Japan</th>\n",
       "      <th>USA</th>\n",
       "    </tr>\n",
       "  </thead>\n",
       "  <tbody>\n",
       "    <tr>\n",
       "      <th>0</th>\n",
       "      <td>18.0</td>\n",
       "      <td>8</td>\n",
       "      <td>307.0</td>\n",
       "      <td>130</td>\n",
       "      <td>3504</td>\n",
       "      <td>12.0</td>\n",
       "      <td>1970</td>\n",
       "      <td>0</td>\n",
       "      <td>0</td>\n",
       "      <td>1</td>\n",
       "    </tr>\n",
       "    <tr>\n",
       "      <th>1</th>\n",
       "      <td>15.0</td>\n",
       "      <td>8</td>\n",
       "      <td>350.0</td>\n",
       "      <td>165</td>\n",
       "      <td>3693</td>\n",
       "      <td>11.5</td>\n",
       "      <td>1970</td>\n",
       "      <td>0</td>\n",
       "      <td>0</td>\n",
       "      <td>1</td>\n",
       "    </tr>\n",
       "    <tr>\n",
       "      <th>2</th>\n",
       "      <td>18.0</td>\n",
       "      <td>8</td>\n",
       "      <td>318.0</td>\n",
       "      <td>150</td>\n",
       "      <td>3436</td>\n",
       "      <td>11.0</td>\n",
       "      <td>1970</td>\n",
       "      <td>0</td>\n",
       "      <td>0</td>\n",
       "      <td>1</td>\n",
       "    </tr>\n",
       "    <tr>\n",
       "      <th>3</th>\n",
       "      <td>16.0</td>\n",
       "      <td>8</td>\n",
       "      <td>304.0</td>\n",
       "      <td>150</td>\n",
       "      <td>3433</td>\n",
       "      <td>12.0</td>\n",
       "      <td>1970</td>\n",
       "      <td>0</td>\n",
       "      <td>0</td>\n",
       "      <td>1</td>\n",
       "    </tr>\n",
       "    <tr>\n",
       "      <th>4</th>\n",
       "      <td>17.0</td>\n",
       "      <td>8</td>\n",
       "      <td>302.0</td>\n",
       "      <td>140</td>\n",
       "      <td>3449</td>\n",
       "      <td>10.5</td>\n",
       "      <td>1970</td>\n",
       "      <td>0</td>\n",
       "      <td>0</td>\n",
       "      <td>1</td>\n",
       "    </tr>\n",
       "  </tbody>\n",
       "</table>\n",
       "</div>"
      ],
      "text/plain": [
       "    MPG  Cylinders  Displacement  Horsepower  Weight  Acceleration  Year  \\\n",
       "0  18.0          8         307.0         130    3504          12.0  1970   \n",
       "1  15.0          8         350.0         165    3693          11.5  1970   \n",
       "2  18.0          8         318.0         150    3436          11.0  1970   \n",
       "3  16.0          8         304.0         150    3433          12.0  1970   \n",
       "4  17.0          8         302.0         140    3449          10.5  1970   \n",
       "\n",
       "   Europe  Japan  USA  \n",
       "0       0      0    1  \n",
       "1       0      0    1  \n",
       "2       0      0    1  \n",
       "3       0      0    1  \n",
       "4       0      0    1  "
      ]
     },
     "execution_count": 23,
     "metadata": {},
     "output_type": "execute_result"
    }
   ],
   "source": [
    "data.head()"
   ]
  },
  {
   "cell_type": "code",
   "execution_count": 24,
   "id": "03b79f0d-bc0c-4e48-a9d4-3b51ac4b388d",
   "metadata": {},
   "outputs": [
    {
     "data": {
      "text/html": [
       "<div>\n",
       "<style scoped>\n",
       "    .dataframe tbody tr th:only-of-type {\n",
       "        vertical-align: middle;\n",
       "    }\n",
       "\n",
       "    .dataframe tbody tr th {\n",
       "        vertical-align: top;\n",
       "    }\n",
       "\n",
       "    .dataframe thead th {\n",
       "        text-align: right;\n",
       "    }\n",
       "</style>\n",
       "<table border=\"1\" class=\"dataframe\">\n",
       "  <thead>\n",
       "    <tr style=\"text-align: right;\">\n",
       "      <th></th>\n",
       "      <th>MPG</th>\n",
       "      <th>Cylinders</th>\n",
       "      <th>Displacement</th>\n",
       "      <th>Horsepower</th>\n",
       "      <th>Weight</th>\n",
       "      <th>Acceleration</th>\n",
       "      <th>Year</th>\n",
       "      <th>Europe</th>\n",
       "      <th>Japan</th>\n",
       "      <th>USA</th>\n",
       "    </tr>\n",
       "  </thead>\n",
       "  <tbody>\n",
       "    <tr>\n",
       "      <th>MPG</th>\n",
       "      <td>1.000000</td>\n",
       "      <td>-0.777254</td>\n",
       "      <td>-0.804760</td>\n",
       "      <td>-0.777768</td>\n",
       "      <td>-0.831764</td>\n",
       "      <td>0.422076</td>\n",
       "      <td>0.579658</td>\n",
       "      <td>0.246606</td>\n",
       "      <td>0.449369</td>\n",
       "      <td>-0.563736</td>\n",
       "    </tr>\n",
       "    <tr>\n",
       "      <th>Cylinders</th>\n",
       "      <td>-0.777254</td>\n",
       "      <td>1.000000</td>\n",
       "      <td>0.950638</td>\n",
       "      <td>0.842898</td>\n",
       "      <td>0.897210</td>\n",
       "      <td>-0.504300</td>\n",
       "      <td>-0.345426</td>\n",
       "      <td>-0.355225</td>\n",
       "      <td>-0.400235</td>\n",
       "      <td>0.608541</td>\n",
       "    </tr>\n",
       "    <tr>\n",
       "      <th>Displacement</th>\n",
       "      <td>-0.804760</td>\n",
       "      <td>0.950638</td>\n",
       "      <td>1.000000</td>\n",
       "      <td>0.897275</td>\n",
       "      <td>0.932769</td>\n",
       "      <td>-0.543423</td>\n",
       "      <td>-0.369486</td>\n",
       "      <td>-0.374646</td>\n",
       "      <td>-0.437174</td>\n",
       "      <td>0.654213</td>\n",
       "    </tr>\n",
       "    <tr>\n",
       "      <th>Horsepower</th>\n",
       "      <td>-0.777768</td>\n",
       "      <td>0.842898</td>\n",
       "      <td>0.897275</td>\n",
       "      <td>1.000000</td>\n",
       "      <td>0.864284</td>\n",
       "      <td>-0.688670</td>\n",
       "      <td>-0.415064</td>\n",
       "      <td>-0.286980</td>\n",
       "      <td>-0.319117</td>\n",
       "      <td>0.488148</td>\n",
       "    </tr>\n",
       "    <tr>\n",
       "      <th>Weight</th>\n",
       "      <td>-0.831764</td>\n",
       "      <td>0.897210</td>\n",
       "      <td>0.932769</td>\n",
       "      <td>0.864284</td>\n",
       "      <td>1.000000</td>\n",
       "      <td>-0.415836</td>\n",
       "      <td>-0.307805</td>\n",
       "      <td>-0.296699</td>\n",
       "      <td>-0.444370</td>\n",
       "      <td>0.598945</td>\n",
       "    </tr>\n",
       "    <tr>\n",
       "      <th>Acceleration</th>\n",
       "      <td>0.422076</td>\n",
       "      <td>-0.504300</td>\n",
       "      <td>-0.543423</td>\n",
       "      <td>-0.688670</td>\n",
       "      <td>-0.415836</td>\n",
       "      <td>1.000000</td>\n",
       "      <td>0.288478</td>\n",
       "      <td>0.209536</td>\n",
       "      <td>0.112154</td>\n",
       "      <td>-0.256880</td>\n",
       "    </tr>\n",
       "    <tr>\n",
       "      <th>Year</th>\n",
       "      <td>0.579658</td>\n",
       "      <td>-0.345426</td>\n",
       "      <td>-0.369486</td>\n",
       "      <td>-0.415064</td>\n",
       "      <td>-0.307805</td>\n",
       "      <td>0.288478</td>\n",
       "      <td>1.000000</td>\n",
       "      <td>-0.036896</td>\n",
       "      <td>0.198186</td>\n",
       "      <td>-0.134272</td>\n",
       "    </tr>\n",
       "    <tr>\n",
       "      <th>Europe</th>\n",
       "      <td>0.246606</td>\n",
       "      <td>-0.355225</td>\n",
       "      <td>-0.374646</td>\n",
       "      <td>-0.286980</td>\n",
       "      <td>-0.296699</td>\n",
       "      <td>0.209536</td>\n",
       "      <td>-0.036896</td>\n",
       "      <td>1.000000</td>\n",
       "      <td>-0.227929</td>\n",
       "      <td>-0.597345</td>\n",
       "    </tr>\n",
       "    <tr>\n",
       "      <th>Japan</th>\n",
       "      <td>0.449369</td>\n",
       "      <td>-0.400235</td>\n",
       "      <td>-0.437174</td>\n",
       "      <td>-0.319117</td>\n",
       "      <td>-0.444370</td>\n",
       "      <td>0.112154</td>\n",
       "      <td>0.198186</td>\n",
       "      <td>-0.227929</td>\n",
       "      <td>1.000000</td>\n",
       "      <td>-0.644722</td>\n",
       "    </tr>\n",
       "    <tr>\n",
       "      <th>USA</th>\n",
       "      <td>-0.563736</td>\n",
       "      <td>0.608541</td>\n",
       "      <td>0.654213</td>\n",
       "      <td>0.488148</td>\n",
       "      <td>0.598945</td>\n",
       "      <td>-0.256880</td>\n",
       "      <td>-0.134272</td>\n",
       "      <td>-0.597345</td>\n",
       "      <td>-0.644722</td>\n",
       "      <td>1.000000</td>\n",
       "    </tr>\n",
       "  </tbody>\n",
       "</table>\n",
       "</div>"
      ],
      "text/plain": [
       "                   MPG  Cylinders  Displacement  Horsepower    Weight  \\\n",
       "MPG           1.000000  -0.777254     -0.804760   -0.777768 -0.831764   \n",
       "Cylinders    -0.777254   1.000000      0.950638    0.842898  0.897210   \n",
       "Displacement -0.804760   0.950638      1.000000    0.897275  0.932769   \n",
       "Horsepower   -0.777768   0.842898      0.897275    1.000000  0.864284   \n",
       "Weight       -0.831764   0.897210      0.932769    0.864284  1.000000   \n",
       "Acceleration  0.422076  -0.504300     -0.543423   -0.688670 -0.415836   \n",
       "Year          0.579658  -0.345426     -0.369486   -0.415064 -0.307805   \n",
       "Europe        0.246606  -0.355225     -0.374646   -0.286980 -0.296699   \n",
       "Japan         0.449369  -0.400235     -0.437174   -0.319117 -0.444370   \n",
       "USA          -0.563736   0.608541      0.654213    0.488148  0.598945   \n",
       "\n",
       "              Acceleration      Year    Europe     Japan       USA  \n",
       "MPG               0.422076  0.579658  0.246606  0.449369 -0.563736  \n",
       "Cylinders        -0.504300 -0.345426 -0.355225 -0.400235  0.608541  \n",
       "Displacement     -0.543423 -0.369486 -0.374646 -0.437174  0.654213  \n",
       "Horsepower       -0.688670 -0.415064 -0.286980 -0.319117  0.488148  \n",
       "Weight           -0.415836 -0.307805 -0.296699 -0.444370  0.598945  \n",
       "Acceleration      1.000000  0.288478  0.209536  0.112154 -0.256880  \n",
       "Year              0.288478  1.000000 -0.036896  0.198186 -0.134272  \n",
       "Europe            0.209536 -0.036896  1.000000 -0.227929 -0.597345  \n",
       "Japan             0.112154  0.198186 -0.227929  1.000000 -0.644722  \n",
       "USA              -0.256880 -0.134272 -0.597345 -0.644722  1.000000  "
      ]
     },
     "execution_count": 24,
     "metadata": {},
     "output_type": "execute_result"
    }
   ],
   "source": [
    "# pairwise correlation\n",
    "data.corr()"
   ]
  },
  {
   "cell_type": "code",
   "execution_count": 25,
   "id": "bcc9381b-d06b-4b3c-949c-9a98d69d74a4",
   "metadata": {},
   "outputs": [
    {
     "data": {
      "text/plain": [
       "<AxesSubplot:xlabel='Weight', ylabel='MPG'>"
      ]
     },
     "execution_count": 25,
     "metadata": {},
     "output_type": "execute_result"
    },
    {
     "data": {
      "image/png": "[encoded data removed]",
      "text/plain": [
       "<Figure size 640x480 with 1 Axes>"
      ]
     },
     "metadata": {},
     "output_type": "display_data"
    }
   ],
   "source": [
    "# Graph weight vs MPG\n",
    "data.plot(kind='scatter', x='Weight', y='MPG')"
   ]
  },
  {
   "cell_type": "code",
   "execution_count": 26,
   "id": "2bf81ba8-5af2-4e80-80e0-ee9fe764d28f",
   "metadata": {},
   "outputs": [
    {
     "data": {
      "text/plain": [
       "<AxesSubplot:xlabel='Displacement', ylabel='MPG'>"
      ]
     },
     "execution_count": 26,
     "metadata": {},
     "output_type": "execute_result"
    },
    {
     "data": {
      "image/png": "[encoded data removed]",
      "text/plain": [
       "<Figure size 640x480 with 1 Axes>"
      ]
     },
     "metadata": {},
     "output_type": "display_data"
    }
   ],
   "source": [
    "# Graph Displacement vs MPG\n",
    "data.plot(kind='scatter', x='Displacement', y='MPG')"
   ]
  },
  {
   "cell_type": "code",
   "execution_count": 27,
   "id": "cc532ac1-b80a-43d8-b865-27e26740b61a",
   "metadata": {},
   "outputs": [
    {
     "data": {
      "text/plain": [
       "<AxesSubplot:xlabel='Horsepower', ylabel='MPG'>"
      ]
     },
     "execution_count": 27,
     "metadata": {},
     "output_type": "execute_result"
    },
    {
     "data": {
      "image/png": "[encoded data removed]",
      "text/plain": [
       "<Figure size 640x480 with 1 Axes>"
      ]
     },
     "metadata": {},
     "output_type": "display_data"
    }
   ],
   "source": [
    "# Graph Horsepower vs MPG\n",
    "data.plot(kind='scatter', x='Horsepower', y='MPG')"
   ]
  },
  {
   "cell_type": "code",
   "execution_count": 28,
   "id": "c8deeb74-21c3-4dd1-bdb3-602050c864d7",
   "metadata": {},
   "outputs": [
    {
     "data": {
      "text/plain": [
       "<AxesSubplot:xlabel='Cylinders', ylabel='MPG'>"
      ]
     },
     "execution_count": 28,
     "metadata": {},
     "output_type": "execute_result"
    },
    {
     "data": {
      "image/png": "[encoded data removed]",
      "text/plain": [
       "<Figure size 640x480 with 1 Axes>"
      ]
     },
     "metadata": {},
     "output_type": "display_data"
    }
   ],
   "source": [
    "# Graph Cylinders vs MPG\n",
    "data.plot(kind='scatter', x='Cylinders', y='MPG')"
   ]
  },
  {
   "cell_type": "code",
   "execution_count": 29,
   "id": "85d722ee-8646-4889-befe-bbf5f1e4d7f3",
   "metadata": {},
   "outputs": [
    {
     "name": "stdout",
     "output_type": "stream",
     "text": [
      "USA:  245\n",
      "Europe:  68\n",
      "Japan:  77\n"
     ]
    }
   ],
   "source": [
    "# Check for class imbalance\n",
    "print('USA: ', data['USA'].sum())\n",
    "print('Europe: ', data['Europe'].sum())\n",
    "print('Japan: ', data['Japan'].sum())"
   ]
  },
  {
   "cell_type": "code",
   "execution_count": 30,
   "id": "7f6daa05-fab7-487f-a7b1-9dd6f4992560",
   "metadata": {},
   "outputs": [],
   "source": [
    "# droping country fields because they are less significant for the model\n",
    "\n",
    "data = data.drop('USA', axis=1)\n",
    "data = data.drop('Europe', axis=1)\n",
    "data = data.drop('Japan', axis=1)"
   ]
  },
  {
   "cell_type": "code",
   "execution_count": 31,
   "id": "0b7c6153-ac50-4c52-888d-a26c70dbfdad",
   "metadata": {},
   "outputs": [
    {
     "data": {
      "text/html": [
       "<div>\n",
       "<style scoped>\n",
       "    .dataframe tbody tr th:only-of-type {\n",
       "        vertical-align: middle;\n",
       "    }\n",
       "\n",
       "    .dataframe tbody tr th {\n",
       "        vertical-align: top;\n",
       "    }\n",
       "\n",
       "    .dataframe thead th {\n",
       "        text-align: right;\n",
       "    }\n",
       "</style>\n",
       "<table border=\"1\" class=\"dataframe\">\n",
       "  <thead>\n",
       "    <tr style=\"text-align: right;\">\n",
       "      <th></th>\n",
       "      <th>MPG</th>\n",
       "      <th>Cylinders</th>\n",
       "      <th>Displacement</th>\n",
       "      <th>Horsepower</th>\n",
       "      <th>Weight</th>\n",
       "      <th>Acceleration</th>\n",
       "      <th>Year</th>\n",
       "    </tr>\n",
       "  </thead>\n",
       "  <tbody>\n",
       "    <tr>\n",
       "      <th>0</th>\n",
       "      <td>18.0</td>\n",
       "      <td>8</td>\n",
       "      <td>307.0</td>\n",
       "      <td>130</td>\n",
       "      <td>3504</td>\n",
       "      <td>12.0</td>\n",
       "      <td>1970</td>\n",
       "    </tr>\n",
       "    <tr>\n",
       "      <th>1</th>\n",
       "      <td>15.0</td>\n",
       "      <td>8</td>\n",
       "      <td>350.0</td>\n",
       "      <td>165</td>\n",
       "      <td>3693</td>\n",
       "      <td>11.5</td>\n",
       "      <td>1970</td>\n",
       "    </tr>\n",
       "    <tr>\n",
       "      <th>2</th>\n",
       "      <td>18.0</td>\n",
       "      <td>8</td>\n",
       "      <td>318.0</td>\n",
       "      <td>150</td>\n",
       "      <td>3436</td>\n",
       "      <td>11.0</td>\n",
       "      <td>1970</td>\n",
       "    </tr>\n",
       "    <tr>\n",
       "      <th>3</th>\n",
       "      <td>16.0</td>\n",
       "      <td>8</td>\n",
       "      <td>304.0</td>\n",
       "      <td>150</td>\n",
       "      <td>3433</td>\n",
       "      <td>12.0</td>\n",
       "      <td>1970</td>\n",
       "    </tr>\n",
       "    <tr>\n",
       "      <th>4</th>\n",
       "      <td>17.0</td>\n",
       "      <td>8</td>\n",
       "      <td>302.0</td>\n",
       "      <td>140</td>\n",
       "      <td>3449</td>\n",
       "      <td>10.5</td>\n",
       "      <td>1970</td>\n",
       "    </tr>\n",
       "  </tbody>\n",
       "</table>\n",
       "</div>"
      ],
      "text/plain": [
       "    MPG  Cylinders  Displacement  Horsepower  Weight  Acceleration  Year\n",
       "0  18.0          8         307.0         130    3504          12.0  1970\n",
       "1  15.0          8         350.0         165    3693          11.5  1970\n",
       "2  18.0          8         318.0         150    3436          11.0  1970\n",
       "3  16.0          8         304.0         150    3433          12.0  1970\n",
       "4  17.0          8         302.0         140    3449          10.5  1970"
      ]
     },
     "execution_count": 31,
     "metadata": {},
     "output_type": "execute_result"
    }
   ],
   "source": [
    "data.head()"
   ]
  },
  {
   "cell_type": "markdown",
   "id": "45ccc7de-c9e9-4fe9-85d4-150c8202cedb",
   "metadata": {
    "tags": []
   },
   "source": [
    "## 4. Model Training and Evaluation"
   ]
  },
  {
   "cell_type": "markdown",
   "id": "5c8458f6-25e1-4fac-8d3c-2ec090a99d37",
   "metadata": {},
   "source": [
    "### Data split ( training vs testing)"
   ]
  },
  {
   "cell_type": "code",
   "execution_count": 32,
   "id": "2e8b9cde-c98d-4f69-8c5e-d40aeb504800",
   "metadata": {},
   "outputs": [],
   "source": [
    "# Training data\n",
    "training_data = data.head(310)\n",
    "\n",
    "# Testing data \n",
    "testing_data = data.tail(80)"
   ]
  },
  {
   "cell_type": "code",
   "execution_count": 33,
   "id": "19143625-0e2b-49c7-bc65-35c1c6ae4e1b",
   "metadata": {},
   "outputs": [
    {
     "data": {
      "text/html": [
       "<div>\n",
       "<style scoped>\n",
       "    .dataframe tbody tr th:only-of-type {\n",
       "        vertical-align: middle;\n",
       "    }\n",
       "\n",
       "    .dataframe tbody tr th {\n",
       "        vertical-align: top;\n",
       "    }\n",
       "\n",
       "    .dataframe thead th {\n",
       "        text-align: right;\n",
       "    }\n",
       "</style>\n",
       "<table border=\"1\" class=\"dataframe\">\n",
       "  <thead>\n",
       "    <tr style=\"text-align: right;\">\n",
       "      <th></th>\n",
       "      <th>MPG</th>\n",
       "      <th>Cylinders</th>\n",
       "      <th>Displacement</th>\n",
       "      <th>Horsepower</th>\n",
       "      <th>Weight</th>\n",
       "      <th>Acceleration</th>\n",
       "      <th>Year</th>\n",
       "    </tr>\n",
       "  </thead>\n",
       "  <tbody>\n",
       "    <tr>\n",
       "      <th>308</th>\n",
       "      <td>33.5</td>\n",
       "      <td>4</td>\n",
       "      <td>151.0</td>\n",
       "      <td>90</td>\n",
       "      <td>2556</td>\n",
       "      <td>13.2</td>\n",
       "      <td>1979</td>\n",
       "    </tr>\n",
       "    <tr>\n",
       "      <th>309</th>\n",
       "      <td>41.5</td>\n",
       "      <td>4</td>\n",
       "      <td>98.0</td>\n",
       "      <td>76</td>\n",
       "      <td>2144</td>\n",
       "      <td>14.7</td>\n",
       "      <td>1980</td>\n",
       "    </tr>\n",
       "    <tr>\n",
       "      <th>310</th>\n",
       "      <td>38.1</td>\n",
       "      <td>4</td>\n",
       "      <td>89.0</td>\n",
       "      <td>60</td>\n",
       "      <td>1968</td>\n",
       "      <td>18.8</td>\n",
       "      <td>1980</td>\n",
       "    </tr>\n",
       "    <tr>\n",
       "      <th>311</th>\n",
       "      <td>32.1</td>\n",
       "      <td>4</td>\n",
       "      <td>98.0</td>\n",
       "      <td>70</td>\n",
       "      <td>2120</td>\n",
       "      <td>15.5</td>\n",
       "      <td>1980</td>\n",
       "    </tr>\n",
       "    <tr>\n",
       "      <th>312</th>\n",
       "      <td>37.2</td>\n",
       "      <td>4</td>\n",
       "      <td>86.0</td>\n",
       "      <td>65</td>\n",
       "      <td>2019</td>\n",
       "      <td>16.4</td>\n",
       "      <td>1980</td>\n",
       "    </tr>\n",
       "  </tbody>\n",
       "</table>\n",
       "</div>"
      ],
      "text/plain": [
       "      MPG  Cylinders  Displacement  Horsepower  Weight  Acceleration  Year\n",
       "308  33.5          4         151.0          90    2556          13.2  1979\n",
       "309  41.5          4          98.0          76    2144          14.7  1980\n",
       "310  38.1          4          89.0          60    1968          18.8  1980\n",
       "311  32.1          4          98.0          70    2120          15.5  1980\n",
       "312  37.2          4          86.0          65    2019          16.4  1980"
      ]
     },
     "execution_count": 33,
     "metadata": {},
     "output_type": "execute_result"
    }
   ],
   "source": [
    "training_data.tail()"
   ]
  },
  {
   "cell_type": "code",
   "execution_count": 34,
   "id": "79c53722-35e0-4c18-b421-c9f2c68003dc",
   "metadata": {},
   "outputs": [
    {
     "data": {
      "text/html": [
       "<div>\n",
       "<style scoped>\n",
       "    .dataframe tbody tr th:only-of-type {\n",
       "        vertical-align: middle;\n",
       "    }\n",
       "\n",
       "    .dataframe tbody tr th {\n",
       "        vertical-align: top;\n",
       "    }\n",
       "\n",
       "    .dataframe thead th {\n",
       "        text-align: right;\n",
       "    }\n",
       "</style>\n",
       "<table border=\"1\" class=\"dataframe\">\n",
       "  <thead>\n",
       "    <tr style=\"text-align: right;\">\n",
       "      <th></th>\n",
       "      <th>MPG</th>\n",
       "      <th>Cylinders</th>\n",
       "      <th>Displacement</th>\n",
       "      <th>Horsepower</th>\n",
       "      <th>Weight</th>\n",
       "      <th>Acceleration</th>\n",
       "      <th>Year</th>\n",
       "    </tr>\n",
       "  </thead>\n",
       "  <tbody>\n",
       "    <tr>\n",
       "      <th>313</th>\n",
       "      <td>28.0</td>\n",
       "      <td>4</td>\n",
       "      <td>151.0</td>\n",
       "      <td>90</td>\n",
       "      <td>2678</td>\n",
       "      <td>16.5</td>\n",
       "      <td>1980</td>\n",
       "    </tr>\n",
       "    <tr>\n",
       "      <th>314</th>\n",
       "      <td>26.4</td>\n",
       "      <td>4</td>\n",
       "      <td>140.0</td>\n",
       "      <td>88</td>\n",
       "      <td>2870</td>\n",
       "      <td>18.1</td>\n",
       "      <td>1980</td>\n",
       "    </tr>\n",
       "    <tr>\n",
       "      <th>315</th>\n",
       "      <td>24.3</td>\n",
       "      <td>4</td>\n",
       "      <td>151.0</td>\n",
       "      <td>90</td>\n",
       "      <td>3003</td>\n",
       "      <td>20.1</td>\n",
       "      <td>1980</td>\n",
       "    </tr>\n",
       "    <tr>\n",
       "      <th>316</th>\n",
       "      <td>19.1</td>\n",
       "      <td>6</td>\n",
       "      <td>225.0</td>\n",
       "      <td>90</td>\n",
       "      <td>3381</td>\n",
       "      <td>18.7</td>\n",
       "      <td>1980</td>\n",
       "    </tr>\n",
       "    <tr>\n",
       "      <th>317</th>\n",
       "      <td>34.3</td>\n",
       "      <td>4</td>\n",
       "      <td>97.0</td>\n",
       "      <td>78</td>\n",
       "      <td>2188</td>\n",
       "      <td>15.8</td>\n",
       "      <td>1980</td>\n",
       "    </tr>\n",
       "  </tbody>\n",
       "</table>\n",
       "</div>"
      ],
      "text/plain": [
       "      MPG  Cylinders  Displacement  Horsepower  Weight  Acceleration  Year\n",
       "313  28.0          4         151.0          90    2678          16.5  1980\n",
       "314  26.4          4         140.0          88    2870          18.1  1980\n",
       "315  24.3          4         151.0          90    3003          20.1  1980\n",
       "316  19.1          6         225.0          90    3381          18.7  1980\n",
       "317  34.3          4          97.0          78    2188          15.8  1980"
      ]
     },
     "execution_count": 34,
     "metadata": {},
     "output_type": "execute_result"
    }
   ],
   "source": [
    "testing_data.head()"
   ]
  },
  {
   "cell_type": "markdown",
   "id": "c61eb939-bd97-4da5-91e0-f3f84d8c3134",
   "metadata": {},
   "source": [
    "### Model 1 ( Linerar Regression with a single variable)"
   ]
  },
  {
   "cell_type": "code",
   "execution_count": 35,
   "id": "e1393e00-bd25-4edd-868b-64c59e94e0dc",
   "metadata": {},
   "outputs": [],
   "source": [
    "# y = mx + b\n",
    "# x = horsepower (input variable, feature)\n",
    "# y = MPG ( represents result )\n",
    "# b = represents bias (constant added to 'mx' function to provide an offset\n",
    "\n"
   ]
  },
  {
   "cell_type": "code",
   "execution_count": 36,
   "id": "a3ed5e30-c618-46f7-ac99-b6617690539c",
   "metadata": {},
   "outputs": [],
   "source": [
    "# Import some libraries\n",
    "import matplotlib.pyplot as plt\n",
    "import numpy as np"
   ]
  },
  {
   "cell_type": "code",
   "execution_count": 37,
   "id": "d5a60ef6-d2fa-4cc6-8c9e-30f6c2d3fd62",
   "metadata": {},
   "outputs": [
    {
     "data": {
      "text/plain": [
       "[<matplotlib.lines.Line2D at 0x198d82e3eb0>]"
      ]
     },
     "execution_count": 37,
     "metadata": {},
     "output_type": "execute_result"
    },
    {
     "data": {
      "image/png": "[encoded data removed]",
      "text/plain": [
       "<Figure size 640x480 with 1 Axes>"
      ]
     },
     "metadata": {},
     "output_type": "display_data"
    }
   ],
   "source": [
    "# demonstrate bias\n",
    "x = np.linspace(0,10)\n",
    "plt.plot(x, x + 0)\n",
    "plt.plot(x, x - 4)"
   ]
  },
  {
   "cell_type": "code",
   "execution_count": 38,
   "id": "ba60ca77-c745-46e5-8e16-904159731062",
   "metadata": {},
   "outputs": [],
   "source": [
    "# import libraries\n",
    "import tensorflow as tf"
   ]
  },
  {
   "cell_type": "code",
   "execution_count": 39,
   "id": "14751b3e-6df0-4eca-98a3-6f9346da3f58",
   "metadata": {},
   "outputs": [],
   "source": [
    "# define our first model\n",
    "# keras are built up of nodes, more nodes is more complex\n",
    "model1 = tf.keras.Sequential()"
   ]
  },
  {
   "cell_type": "code",
   "execution_count": 40,
   "id": "f9dbba27-99a8-4b26-a00e-294de70b2329",
   "metadata": {},
   "outputs": [],
   "source": [
    "# Define layers \n",
    "\n",
    "# define layers 1\n",
    "layer1 = tf.keras.layers.Dense(1, input_shape = (1,))\n",
    "# add layers to the model\n",
    "model1.add(layer1)"
   ]
  },
  {
   "cell_type": "code",
   "execution_count": 41,
   "id": "cabd50a6-a110-489d-9e21-fb73b84b9563",
   "metadata": {},
   "outputs": [
    {
     "name": "stdout",
     "output_type": "stream",
     "text": [
      "Model: \"sequential\"\n",
      "_________________________________________________________________\n",
      " Layer (type)                Output Shape              Param #   \n",
      "=================================================================\n",
      " dense (Dense)               (None, 1)                 2         \n",
      "                                                                 \n",
      "=================================================================\n",
      "Total params: 2\n",
      "Trainable params: 2\n",
      "Non-trainable params: 0\n",
      "_________________________________________________________________\n"
     ]
    }
   ],
   "source": [
    "model1.summary()"
   ]
  },
  {
   "cell_type": "code",
   "execution_count": 42,
   "id": "3dcc1767-bdba-4702-a54b-cce3bb228c36",
   "metadata": {},
   "outputs": [
    {
     "name": "stdout",
     "output_type": "stream",
     "text": [
      "You must install pydot (`pip install pydot`) and install graphviz (see instructions at https://graphviz.gitlab.io/download/) for plot_model to work.\n"
     ]
    }
   ],
   "source": [
    "tf.keras.utils.plot_model(model1,show_shapes=True, show_layer_names=True)"
   ]
  },
  {
   "cell_type": "code",
   "execution_count": 43,
   "id": "23c5ac74-00d6-493a-a9ac-4ad4bad8886d",
   "metadata": {},
   "outputs": [],
   "source": [
    "# compile model1\n",
    "\n",
    "model1.compile(\n",
    "optimizer=tf.keras.optimizers.Adam(learning_rate=0.1),\n",
    "    loss = 'mean_absolute_error'\n",
    ")\n"
   ]
  },
  {
   "cell_type": "code",
   "execution_count": 44,
   "id": "c87f03e5-d440-4261-983d-82d96f6df59f",
   "metadata": {},
   "outputs": [
    {
     "name": "stdout",
     "output_type": "stream",
     "text": [
      "Epoch 1/100\n",
      "8/8 [==============================] - 1s 28ms/step - loss: 58.3830 - val_loss: 11.8018\n",
      "Epoch 2/100\n",
      "8/8 [==============================] - 0s 9ms/step - loss: 19.3708 - val_loss: 15.6864\n",
      "Epoch 3/100\n",
      "8/8 [==============================] - 0s 9ms/step - loss: 14.5887 - val_loss: 19.4313\n",
      "Epoch 4/100\n",
      "8/8 [==============================] - 0s 10ms/step - loss: 12.9404 - val_loss: 9.5668\n",
      "Epoch 5/100\n",
      "8/8 [==============================] - 0s 9ms/step - loss: 11.2362 - val_loss: 10.5572\n",
      "Epoch 6/100\n",
      "8/8 [==============================] - 0s 8ms/step - loss: 10.8574 - val_loss: 11.2459\n",
      "Epoch 7/100\n",
      "8/8 [==============================] - 0s 9ms/step - loss: 10.4377 - val_loss: 9.6076\n",
      "Epoch 8/100\n",
      "8/8 [==============================] - 0s 9ms/step - loss: 10.1691 - val_loss: 12.5027\n",
      "Epoch 9/100\n",
      "8/8 [==============================] - 0s 8ms/step - loss: 10.1097 - val_loss: 10.5402\n",
      "Epoch 10/100\n",
      "8/8 [==============================] - 0s 9ms/step - loss: 9.9043 - val_loss: 10.3488\n",
      "Epoch 11/100\n",
      "8/8 [==============================] - 0s 7ms/step - loss: 9.7199 - val_loss: 10.3419\n",
      "Epoch 12/100\n",
      "8/8 [==============================] - 0s 8ms/step - loss: 9.6094 - val_loss: 10.3008\n",
      "Epoch 13/100\n",
      "8/8 [==============================] - 0s 7ms/step - loss: 9.4014 - val_loss: 10.7922\n",
      "Epoch 14/100\n",
      "8/8 [==============================] - 0s 7ms/step - loss: 9.3396 - val_loss: 10.3183\n",
      "Epoch 15/100\n",
      "8/8 [==============================] - 0s 8ms/step - loss: 9.1641 - val_loss: 9.8227\n",
      "Epoch 16/100\n",
      "8/8 [==============================] - 0s 8ms/step - loss: 9.1772 - val_loss: 8.6254\n",
      "Epoch 17/100\n",
      "8/8 [==============================] - 0s 7ms/step - loss: 9.3223 - val_loss: 12.1274\n",
      "Epoch 18/100\n",
      "8/8 [==============================] - 0s 9ms/step - loss: 9.0363 - val_loss: 9.2893\n",
      "Epoch 19/100\n",
      "8/8 [==============================] - 0s 8ms/step - loss: 8.6216 - val_loss: 11.8782\n",
      "Epoch 20/100\n",
      "8/8 [==============================] - 0s 9ms/step - loss: 8.4205 - val_loss: 8.7886\n",
      "Epoch 21/100\n",
      "8/8 [==============================] - 0s 9ms/step - loss: 8.2635 - val_loss: 9.4388\n",
      "Epoch 22/100\n",
      "8/8 [==============================] - 0s 8ms/step - loss: 8.0899 - val_loss: 8.7679\n",
      "Epoch 23/100\n",
      "8/8 [==============================] - 0s 10ms/step - loss: 8.1823 - val_loss: 9.0222\n",
      "Epoch 24/100\n",
      "8/8 [==============================] - 0s 11ms/step - loss: 7.8843 - val_loss: 10.3700\n",
      "Epoch 25/100\n",
      "8/8 [==============================] - 0s 9ms/step - loss: 8.4262 - val_loss: 8.2727\n",
      "Epoch 26/100\n",
      "8/8 [==============================] - 0s 10ms/step - loss: 7.5214 - val_loss: 8.4516\n",
      "Epoch 27/100\n",
      "8/8 [==============================] - 0s 8ms/step - loss: 7.2100 - val_loss: 8.4895\n",
      "Epoch 28/100\n",
      "8/8 [==============================] - 0s 8ms/step - loss: 7.2424 - val_loss: 7.1839\n",
      "Epoch 29/100\n",
      "8/8 [==============================] - 0s 8ms/step - loss: 7.2288 - val_loss: 8.6729\n",
      "Epoch 30/100\n",
      "8/8 [==============================] - 0s 7ms/step - loss: 6.8048 - val_loss: 7.8105\n",
      "Epoch 31/100\n",
      "8/8 [==============================] - 0s 7ms/step - loss: 6.6155 - val_loss: 8.5837\n",
      "Epoch 32/100\n",
      "8/8 [==============================] - 0s 7ms/step - loss: 6.9459 - val_loss: 6.7633\n",
      "Epoch 33/100\n",
      "8/8 [==============================] - 0s 7ms/step - loss: 6.8154 - val_loss: 7.2164\n",
      "Epoch 34/100\n",
      "8/8 [==============================] - 0s 7ms/step - loss: 7.3852 - val_loss: 6.7947\n",
      "Epoch 35/100\n",
      "8/8 [==============================] - 0s 7ms/step - loss: 6.6149 - val_loss: 6.7847\n",
      "Epoch 36/100\n",
      "8/8 [==============================] - 0s 8ms/step - loss: 6.6807 - val_loss: 7.2559\n",
      "Epoch 37/100\n",
      "8/8 [==============================] - 0s 7ms/step - loss: 6.5075 - val_loss: 11.0921\n",
      "Epoch 38/100\n",
      "8/8 [==============================] - 0s 8ms/step - loss: 6.6186 - val_loss: 8.2580\n",
      "Epoch 39/100\n",
      "8/8 [==============================] - 0s 8ms/step - loss: 6.2592 - val_loss: 6.9738\n",
      "Epoch 40/100\n",
      "8/8 [==============================] - 0s 7ms/step - loss: 5.5846 - val_loss: 6.7050\n",
      "Epoch 41/100\n",
      "8/8 [==============================] - 0s 12ms/step - loss: 5.3586 - val_loss: 6.6595\n",
      "Epoch 42/100\n",
      "8/8 [==============================] - 0s 6ms/step - loss: 5.2063 - val_loss: 8.5765\n",
      "Epoch 43/100\n",
      "8/8 [==============================] - 0s 7ms/step - loss: 5.1393 - val_loss: 7.1489\n",
      "Epoch 44/100\n",
      "8/8 [==============================] - 0s 8ms/step - loss: 5.2042 - val_loss: 6.4635\n",
      "Epoch 45/100\n",
      "8/8 [==============================] - 0s 7ms/step - loss: 4.8448 - val_loss: 6.6558\n",
      "Epoch 46/100\n",
      "8/8 [==============================] - 0s 7ms/step - loss: 4.7972 - val_loss: 6.0604\n",
      "Epoch 47/100\n",
      "8/8 [==============================] - 0s 7ms/step - loss: 4.6287 - val_loss: 6.0765\n",
      "Epoch 48/100\n",
      "8/8 [==============================] - 0s 8ms/step - loss: 4.6255 - val_loss: 6.2339\n",
      "Epoch 49/100\n",
      "8/8 [==============================] - 0s 9ms/step - loss: 4.5433 - val_loss: 5.8549\n",
      "Epoch 50/100\n",
      "8/8 [==============================] - 0s 7ms/step - loss: 4.3655 - val_loss: 8.1735\n",
      "Epoch 51/100\n",
      "8/8 [==============================] - 0s 7ms/step - loss: 4.3981 - val_loss: 6.3052\n",
      "Epoch 52/100\n",
      "8/8 [==============================] - 0s 7ms/step - loss: 4.3402 - val_loss: 5.1057\n",
      "Epoch 53/100\n",
      "8/8 [==============================] - 0s 7ms/step - loss: 4.4235 - val_loss: 5.5792\n",
      "Epoch 54/100\n",
      "8/8 [==============================] - 0s 7ms/step - loss: 4.0850 - val_loss: 5.8073\n",
      "Epoch 55/100\n",
      "8/8 [==============================] - 0s 7ms/step - loss: 4.0992 - val_loss: 4.9430\n",
      "Epoch 56/100\n",
      "8/8 [==============================] - 0s 6ms/step - loss: 4.3367 - val_loss: 5.5700\n",
      "Epoch 57/100\n",
      "8/8 [==============================] - 0s 8ms/step - loss: 4.2536 - val_loss: 6.4317\n",
      "Epoch 58/100\n",
      "8/8 [==============================] - 0s 7ms/step - loss: 4.3811 - val_loss: 6.6818\n",
      "Epoch 59/100\n",
      "8/8 [==============================] - 0s 7ms/step - loss: 4.3998 - val_loss: 4.7555\n",
      "Epoch 60/100\n",
      "8/8 [==============================] - 0s 8ms/step - loss: 4.0794 - val_loss: 4.7157\n",
      "Epoch 61/100\n",
      "8/8 [==============================] - 0s 6ms/step - loss: 3.8766 - val_loss: 4.7322\n",
      "Epoch 62/100\n",
      "8/8 [==============================] - 0s 8ms/step - loss: 3.8092 - val_loss: 5.0715\n",
      "Epoch 63/100\n",
      "8/8 [==============================] - 0s 8ms/step - loss: 3.5447 - val_loss: 5.0172\n",
      "Epoch 64/100\n",
      "8/8 [==============================] - 0s 9ms/step - loss: 3.5724 - val_loss: 5.8925\n",
      "Epoch 65/100\n",
      "8/8 [==============================] - 0s 8ms/step - loss: 3.5758 - val_loss: 5.4835\n",
      "Epoch 66/100\n",
      "8/8 [==============================] - 0s 9ms/step - loss: 3.5757 - val_loss: 4.5015\n",
      "Epoch 67/100\n",
      "8/8 [==============================] - 0s 10ms/step - loss: 4.6410 - val_loss: 4.4543\n",
      "Epoch 68/100\n",
      "8/8 [==============================] - 0s 7ms/step - loss: 4.8719 - val_loss: 4.7492\n",
      "Epoch 69/100\n",
      "8/8 [==============================] - 0s 8ms/step - loss: 3.9847 - val_loss: 4.7300\n",
      "Epoch 70/100\n",
      "8/8 [==============================] - 0s 8ms/step - loss: 3.8478 - val_loss: 4.4113\n",
      "Epoch 71/100\n",
      "8/8 [==============================] - 0s 8ms/step - loss: 3.6538 - val_loss: 4.4181\n",
      "Epoch 72/100\n",
      "8/8 [==============================] - 0s 7ms/step - loss: 3.9180 - val_loss: 5.1249\n",
      "Epoch 73/100\n",
      "8/8 [==============================] - 0s 7ms/step - loss: 3.7343 - val_loss: 6.0602\n",
      "Epoch 74/100\n",
      "8/8 [==============================] - 0s 8ms/step - loss: 3.6403 - val_loss: 5.1018\n",
      "Epoch 75/100\n",
      "8/8 [==============================] - 0s 7ms/step - loss: 3.2767 - val_loss: 4.2262\n",
      "Epoch 76/100\n",
      "8/8 [==============================] - 0s 8ms/step - loss: 3.9240 - val_loss: 4.3037\n",
      "Epoch 77/100\n",
      "8/8 [==============================] - 0s 14ms/step - loss: 3.7983 - val_loss: 4.1886\n",
      "Epoch 78/100\n",
      "8/8 [==============================] - 0s 7ms/step - loss: 3.5482 - val_loss: 4.9496\n",
      "Epoch 79/100\n",
      "8/8 [==============================] - 0s 7ms/step - loss: 3.3978 - val_loss: 5.6779\n",
      "Epoch 80/100\n",
      "8/8 [==============================] - 0s 7ms/step - loss: 3.2289 - val_loss: 4.6226\n",
      "Epoch 81/100\n",
      "8/8 [==============================] - 0s 6ms/step - loss: 3.3281 - val_loss: 5.0759\n",
      "Epoch 82/100\n",
      "8/8 [==============================] - 0s 6ms/step - loss: 3.3412 - val_loss: 4.1225\n",
      "Epoch 83/100\n",
      "8/8 [==============================] - 0s 7ms/step - loss: 3.2402 - val_loss: 4.2041\n",
      "Epoch 84/100\n",
      "8/8 [==============================] - 0s 6ms/step - loss: 3.1971 - val_loss: 4.2358\n",
      "Epoch 85/100\n",
      "8/8 [==============================] - 0s 7ms/step - loss: 3.2376 - val_loss: 4.3231\n",
      "Epoch 86/100\n",
      "8/8 [==============================] - 0s 7ms/step - loss: 3.1492 - val_loss: 4.6419\n",
      "Epoch 87/100\n",
      "8/8 [==============================] - 0s 6ms/step - loss: 3.1928 - val_loss: 4.3031\n",
      "Epoch 88/100\n",
      "8/8 [==============================] - 0s 6ms/step - loss: 3.1840 - val_loss: 4.6930\n",
      "Epoch 89/100\n",
      "8/8 [==============================] - 0s 6ms/step - loss: 3.2352 - val_loss: 5.3466\n",
      "Epoch 90/100\n",
      "8/8 [==============================] - 0s 6ms/step - loss: 3.4321 - val_loss: 4.5838\n",
      "Epoch 91/100\n",
      "8/8 [==============================] - 0s 6ms/step - loss: 3.2358 - val_loss: 3.9979\n",
      "Epoch 92/100\n",
      "8/8 [==============================] - 0s 6ms/step - loss: 3.2041 - val_loss: 4.0959\n",
      "Epoch 93/100\n",
      "8/8 [==============================] - 0s 6ms/step - loss: 3.1183 - val_loss: 4.4681\n",
      "Epoch 94/100\n",
      "8/8 [==============================] - 0s 6ms/step - loss: 3.2075 - val_loss: 4.1666\n",
      "Epoch 95/100\n",
      "8/8 [==============================] - 0s 6ms/step - loss: 3.1134 - val_loss: 3.9749\n",
      "Epoch 96/100\n",
      "8/8 [==============================] - 0s 6ms/step - loss: 3.5556 - val_loss: 3.9154\n",
      "Epoch 97/100\n",
      "8/8 [==============================] - 0s 6ms/step - loss: 3.5552 - val_loss: 4.8227\n",
      "Epoch 98/100\n",
      "8/8 [==============================] - 0s 5ms/step - loss: 3.1437 - val_loss: 3.9423\n",
      "Epoch 99/100\n",
      "8/8 [==============================] - 0s 7ms/step - loss: 3.2175 - val_loss: 3.9123\n",
      "Epoch 100/100\n",
      "8/8 [==============================] - 0s 7ms/step - loss: 3.4219 - val_loss: 4.1491\n"
     ]
    }
   ],
   "source": [
    "# train model\n",
    "history1 = model1.fit(\n",
    "    training_data['Horsepower'], # feature\n",
    "    training_data['MPG'],        # Label (Target value)\n",
    "    epochs = 100,                # rounds of training\n",
    "    validation_split=0.2)        # use 20% of the training data for validation\n",
    "    \n"
   ]
  },
  {
   "cell_type": "code",
   "execution_count": 45,
   "id": "18c9041b-710e-490c-b421-7681fb6d9dfb",
   "metadata": {},
   "outputs": [],
   "source": [
    "# plot horsepower vs MPG\n",
    "\n",
    "def plotHPvsMPG(data_hp, data_mph, pred_hp, pred_mpg):\n",
    "    # plot real data\n",
    "    plt.scatter(data_hp, data_mph, label='Data')\n",
    "    \n",
    "    # plot prediction\n",
    "    plt.plot(pred_hp,pred_mpg, color='k', label ='Predictions')\n",
    "             \n",
    "    # show legend\n",
    "    plt.xlabel('Horsepower')\n",
    "    plt.ylabel('MPG')\n",
    "    plt.legend()"
   ]
  },
  {
   "cell_type": "code",
   "execution_count": 46,
   "id": "3aa5fda0-08ca-4bfe-b412-9c4fdaaa47bc",
   "metadata": {},
   "outputs": [
    {
     "name": "stdout",
     "output_type": "stream",
     "text": [
      "8/8 [==============================] - 0s 1ms/step\n"
     ]
    }
   ],
   "source": [
    "# real data\n",
    "hp1 = training_data['Horsepower']\n",
    "mpg1 = training_data['MPG']\n",
    "\n",
    "# predicted data\n",
    "hp2 = tf.linspace(0, 250, 251)\n",
    "mpg2 = model1.predict(hp2)\n"
   ]
  },
  {
   "cell_type": "code",
   "execution_count": 47,
   "id": "86a91fe4-4f7c-4b57-81c0-09dafc07f124",
   "metadata": {},
   "outputs": [
    {
     "data": {
      "image/png": "[encoded data removed]",
      "text/plain": [
       "<Figure size 640x480 with 1 Axes>"
      ]
     },
     "metadata": {},
     "output_type": "display_data"
    }
   ],
   "source": [
    "plotHPvsMPG(hp1, mpg1, hp2, mpg2)"
   ]
  },
  {
   "cell_type": "code",
   "execution_count": 48,
   "id": "d104dc40-a289-4144-a3bb-83bd781181ac",
   "metadata": {},
   "outputs": [],
   "source": [
    "# Get final results for model1\n",
    "testing = model1.evaluate(testing_data['Horsepower'], testing_data['MPG'], verbose=0)\n",
    "training = pd.DataFrame(history1.history).iloc[99]['loss']\n",
    "\n",
    "results = {}\n",
    "results['Baseline'] = training, testing"
   ]
  },
  {
   "cell_type": "code",
   "execution_count": 49,
   "id": "4e0b991b-f7c5-47f8-bcb2-ec3dc71b36ee",
   "metadata": {},
   "outputs": [
    {
     "data": {
      "text/html": [
       "<div>\n",
       "<style scoped>\n",
       "    .dataframe tbody tr th:only-of-type {\n",
       "        vertical-align: middle;\n",
       "    }\n",
       "\n",
       "    .dataframe tbody tr th {\n",
       "        vertical-align: top;\n",
       "    }\n",
       "\n",
       "    .dataframe thead th {\n",
       "        text-align: right;\n",
       "    }\n",
       "</style>\n",
       "<table border=\"1\" class=\"dataframe\">\n",
       "  <thead>\n",
       "    <tr style=\"text-align: right;\">\n",
       "      <th></th>\n",
       "      <th>training loss</th>\n",
       "      <th>testing loss</th>\n",
       "    </tr>\n",
       "  </thead>\n",
       "  <tbody>\n",
       "    <tr>\n",
       "      <th>Baseline</th>\n",
       "      <td>3.421946</td>\n",
       "      <td>8.605809</td>\n",
       "    </tr>\n",
       "  </tbody>\n",
       "</table>\n",
       "</div>"
      ],
      "text/plain": [
       "          training loss  testing loss\n",
       "Baseline       3.421946      8.605809"
      ]
     },
     "execution_count": 49,
     "metadata": {},
     "output_type": "execute_result"
    }
   ],
   "source": [
    "pd.DataFrame(results, index=['training loss', 'testing loss']).T"
   ]
  },
  {
   "cell_type": "markdown",
   "id": "ebaf5f42-0fb3-41e2-82cf-3f87949dce4e",
   "metadata": {},
   "source": [
    "## 4. Data Normalization"
   ]
  },
  {
   "cell_type": "code",
   "execution_count": 50,
   "id": "1059b8f5-d352-4f23-9ba8-16353c2c2425",
   "metadata": {},
   "outputs": [
    {
     "data": {
      "text/html": [
       "<div>\n",
       "<style scoped>\n",
       "    .dataframe tbody tr th:only-of-type {\n",
       "        vertical-align: middle;\n",
       "    }\n",
       "\n",
       "    .dataframe tbody tr th {\n",
       "        vertical-align: top;\n",
       "    }\n",
       "\n",
       "    .dataframe thead th {\n",
       "        text-align: right;\n",
       "    }\n",
       "</style>\n",
       "<table border=\"1\" class=\"dataframe\">\n",
       "  <thead>\n",
       "    <tr style=\"text-align: right;\">\n",
       "      <th></th>\n",
       "      <th>MPG</th>\n",
       "      <th>Cylinders</th>\n",
       "      <th>Displacement</th>\n",
       "      <th>Horsepower</th>\n",
       "      <th>Weight</th>\n",
       "      <th>Acceleration</th>\n",
       "      <th>Year</th>\n",
       "    </tr>\n",
       "  </thead>\n",
       "  <tbody>\n",
       "    <tr>\n",
       "      <th>0</th>\n",
       "      <td>18.0</td>\n",
       "      <td>8</td>\n",
       "      <td>307.0</td>\n",
       "      <td>130</td>\n",
       "      <td>3504</td>\n",
       "      <td>12.0</td>\n",
       "      <td>1970</td>\n",
       "    </tr>\n",
       "    <tr>\n",
       "      <th>1</th>\n",
       "      <td>15.0</td>\n",
       "      <td>8</td>\n",
       "      <td>350.0</td>\n",
       "      <td>165</td>\n",
       "      <td>3693</td>\n",
       "      <td>11.5</td>\n",
       "      <td>1970</td>\n",
       "    </tr>\n",
       "    <tr>\n",
       "      <th>2</th>\n",
       "      <td>18.0</td>\n",
       "      <td>8</td>\n",
       "      <td>318.0</td>\n",
       "      <td>150</td>\n",
       "      <td>3436</td>\n",
       "      <td>11.0</td>\n",
       "      <td>1970</td>\n",
       "    </tr>\n",
       "    <tr>\n",
       "      <th>3</th>\n",
       "      <td>16.0</td>\n",
       "      <td>8</td>\n",
       "      <td>304.0</td>\n",
       "      <td>150</td>\n",
       "      <td>3433</td>\n",
       "      <td>12.0</td>\n",
       "      <td>1970</td>\n",
       "    </tr>\n",
       "    <tr>\n",
       "      <th>4</th>\n",
       "      <td>17.0</td>\n",
       "      <td>8</td>\n",
       "      <td>302.0</td>\n",
       "      <td>140</td>\n",
       "      <td>3449</td>\n",
       "      <td>10.5</td>\n",
       "      <td>1970</td>\n",
       "    </tr>\n",
       "  </tbody>\n",
       "</table>\n",
       "</div>"
      ],
      "text/plain": [
       "    MPG  Cylinders  Displacement  Horsepower  Weight  Acceleration  Year\n",
       "0  18.0          8         307.0         130    3504          12.0  1970\n",
       "1  15.0          8         350.0         165    3693          11.5  1970\n",
       "2  18.0          8         318.0         150    3436          11.0  1970\n",
       "3  16.0          8         304.0         150    3433          12.0  1970\n",
       "4  17.0          8         302.0         140    3449          10.5  1970"
      ]
     },
     "execution_count": 50,
     "metadata": {},
     "output_type": "execute_result"
    }
   ],
   "source": [
    "data.head()"
   ]
  },
  {
   "cell_type": "markdown",
   "id": "68248cfb-c465-420e-8766-63c7903f5992",
   "metadata": {},
   "source": [
    "### Model 2 (with normalized data)"
   ]
  },
  {
   "cell_type": "code",
   "execution_count": 51,
   "id": "827084d8-a8f1-49b3-8363-05cc1b7be987",
   "metadata": {},
   "outputs": [],
   "source": [
    "# define model 2\n",
    "\n",
    "model2 = tf.keras.Sequential()\n",
    "\n",
    "# define layer 1 (also normalization layer)\n",
    "layer1 = tf.keras.layers.Normalization(input_shape=[1,], axis=None)\n",
    "layer1.adapt(np.array(training_data['Horsepower']))\n",
    "\n",
    "# define layer 2\n",
    "layer2 = tf.keras.layers.Dense(1)\n",
    "\n",
    "# add layers\n",
    "model2.add(layer1)\n",
    "model2.add(layer2)\n",
    "\n"
   ]
  },
  {
   "cell_type": "code",
   "execution_count": 52,
   "id": "3026bbc2-225d-44c1-9dfa-1ac23a8f4dda",
   "metadata": {},
   "outputs": [
    {
     "name": "stdout",
     "output_type": "stream",
     "text": [
      "You must install pydot (`pip install pydot`) and install graphviz (see instructions at https://graphviz.gitlab.io/download/) for plot_model to work.\n"
     ]
    }
   ],
   "source": [
    "tf.keras.utils.plot_model(model2, show_shapes=True, show_layer_names=True)"
   ]
  },
  {
   "cell_type": "code",
   "execution_count": 53,
   "id": "a4a92f4d-91fe-491b-8df8-b2bdbb2e2101",
   "metadata": {},
   "outputs": [],
   "source": [
    "# compile new model\n",
    "\n",
    "model2.compile(\n",
    "    optimizer=tf.keras.optimizers.Adam(learning_rate=0.1),\n",
    "    loss='mean_absolute_error')"
   ]
  },
  {
   "cell_type": "code",
   "execution_count": 54,
   "id": "d51a07d4-194d-435f-8ee7-402252cc4f17",
   "metadata": {},
   "outputs": [],
   "source": [
    "# training model 2\n",
    "\n",
    "history2 = model2.fit(\n",
    "    training_data['Horsepower'],\n",
    "    training_data['MPG'],\n",
    "    epochs = 100,\n",
    "    verbose = 0,\n",
    "    validation_split= 0.2)"
   ]
  },
  {
   "cell_type": "code",
   "execution_count": 55,
   "id": "b92ca591-9093-4c16-98ce-82b27b8f8f9e",
   "metadata": {},
   "outputs": [
    {
     "name": "stdout",
     "output_type": "stream",
     "text": [
      "8/8 [==============================] - 0s 2ms/step\n"
     ]
    },
    {
     "data": {
      "image/png": "[encoded data removed]",
      "text/plain": [
       "<Figure size 640x480 with 1 Axes>"
      ]
     },
     "metadata": {},
     "output_type": "display_data"
    }
   ],
   "source": [
    "# real data\n",
    "hp1 = training_data['Horsepower']\n",
    "mpg1 = training_data['MPG']\n",
    "\n",
    "# predicted data\n",
    "hp2 = tf.linspace(0, 250, 251)\n",
    "mpg2 = model1.predict(hp2)\n",
    "\n",
    "plotHPvsMPG(hp1, mpg1, hp2, mpg2)"
   ]
  },
  {
   "cell_type": "code",
   "execution_count": 56,
   "id": "4ba8e70c-85ec-4fd0-be77-64a1126581e1",
   "metadata": {},
   "outputs": [],
   "source": [
    "# see the results\n",
    "\n",
    "testing = model2.evaluate(testing_data['Horsepower'], testing_data['MPG'], verbose=0)\n",
    "training = pd.DataFrame(history2.history).iloc[99]['loss']\n",
    "results['Normalization'] = training, testing"
   ]
  },
  {
   "cell_type": "code",
   "execution_count": 57,
   "id": "e5681357-335d-4b3f-b559-375c2dbd192f",
   "metadata": {},
   "outputs": [
    {
     "data": {
      "text/html": [
       "<div>\n",
       "<style scoped>\n",
       "    .dataframe tbody tr th:only-of-type {\n",
       "        vertical-align: middle;\n",
       "    }\n",
       "\n",
       "    .dataframe tbody tr th {\n",
       "        vertical-align: top;\n",
       "    }\n",
       "\n",
       "    .dataframe thead th {\n",
       "        text-align: right;\n",
       "    }\n",
       "</style>\n",
       "<table border=\"1\" class=\"dataframe\">\n",
       "  <thead>\n",
       "    <tr style=\"text-align: right;\">\n",
       "      <th></th>\n",
       "      <th>training loss</th>\n",
       "      <th>testing loss</th>\n",
       "    </tr>\n",
       "  </thead>\n",
       "  <tbody>\n",
       "    <tr>\n",
       "      <th>Baseline</th>\n",
       "      <td>3.421946</td>\n",
       "      <td>8.605809</td>\n",
       "    </tr>\n",
       "    <tr>\n",
       "      <th>Normalization</th>\n",
       "      <td>3.002728</td>\n",
       "      <td>7.857375</td>\n",
       "    </tr>\n",
       "  </tbody>\n",
       "</table>\n",
       "</div>"
      ],
      "text/plain": [
       "               training loss  testing loss\n",
       "Baseline            3.421946      8.605809\n",
       "Normalization       3.002728      7.857375"
      ]
     },
     "execution_count": 57,
     "metadata": {},
     "output_type": "execute_result"
    }
   ],
   "source": [
    "pd.DataFrame(results, index=['training loss', 'testing loss']).T"
   ]
  },
  {
   "cell_type": "markdown",
   "id": "e4d532d5-7768-497e-b49c-4b94fa950a57",
   "metadata": {},
   "source": [
    "### Model 3 (with proper sampling)"
   ]
  },
  {
   "cell_type": "code",
   "execution_count": 58,
   "id": "770ef1a7-8d3b-433c-8c2b-22e4741c29f8",
   "metadata": {},
   "outputs": [],
   "source": [
    "# re-defining training and testing data\n",
    "\n",
    "training_data = data.sample(frac=.8, random_state=0)\n",
    "testing_data = data.drop(training_data.index)"
   ]
  },
  {
   "cell_type": "code",
   "execution_count": 59,
   "id": "7740c270-7c44-4683-a429-068bab85a7ac",
   "metadata": {},
   "outputs": [
    {
     "data": {
      "text/html": [
       "<div>\n",
       "<style scoped>\n",
       "    .dataframe tbody tr th:only-of-type {\n",
       "        vertical-align: middle;\n",
       "    }\n",
       "\n",
       "    .dataframe tbody tr th {\n",
       "        vertical-align: top;\n",
       "    }\n",
       "\n",
       "    .dataframe thead th {\n",
       "        text-align: right;\n",
       "    }\n",
       "</style>\n",
       "<table border=\"1\" class=\"dataframe\">\n",
       "  <thead>\n",
       "    <tr style=\"text-align: right;\">\n",
       "      <th></th>\n",
       "      <th>MPG</th>\n",
       "      <th>Cylinders</th>\n",
       "      <th>Displacement</th>\n",
       "      <th>Horsepower</th>\n",
       "      <th>Weight</th>\n",
       "      <th>Acceleration</th>\n",
       "      <th>Year</th>\n",
       "    </tr>\n",
       "  </thead>\n",
       "  <tbody>\n",
       "    <tr>\n",
       "      <th>55</th>\n",
       "      <td>27.0</td>\n",
       "      <td>4</td>\n",
       "      <td>97.0</td>\n",
       "      <td>60</td>\n",
       "      <td>1834</td>\n",
       "      <td>19.0</td>\n",
       "      <td>1971</td>\n",
       "    </tr>\n",
       "    <tr>\n",
       "      <th>125</th>\n",
       "      <td>20.0</td>\n",
       "      <td>6</td>\n",
       "      <td>198.0</td>\n",
       "      <td>95</td>\n",
       "      <td>3102</td>\n",
       "      <td>16.5</td>\n",
       "      <td>1974</td>\n",
       "    </tr>\n",
       "    <tr>\n",
       "      <th>356</th>\n",
       "      <td>32.4</td>\n",
       "      <td>4</td>\n",
       "      <td>108.0</td>\n",
       "      <td>75</td>\n",
       "      <td>2350</td>\n",
       "      <td>16.8</td>\n",
       "      <td>1981</td>\n",
       "    </tr>\n",
       "    <tr>\n",
       "      <th>178</th>\n",
       "      <td>23.0</td>\n",
       "      <td>4</td>\n",
       "      <td>120.0</td>\n",
       "      <td>88</td>\n",
       "      <td>2957</td>\n",
       "      <td>17.0</td>\n",
       "      <td>1975</td>\n",
       "    </tr>\n",
       "    <tr>\n",
       "      <th>287</th>\n",
       "      <td>16.5</td>\n",
       "      <td>8</td>\n",
       "      <td>351.0</td>\n",
       "      <td>138</td>\n",
       "      <td>3955</td>\n",
       "      <td>13.2</td>\n",
       "      <td>1979</td>\n",
       "    </tr>\n",
       "  </tbody>\n",
       "</table>\n",
       "</div>"
      ],
      "text/plain": [
       "      MPG  Cylinders  Displacement  Horsepower  Weight  Acceleration  Year\n",
       "55   27.0          4          97.0          60    1834          19.0  1971\n",
       "125  20.0          6         198.0          95    3102          16.5  1974\n",
       "356  32.4          4         108.0          75    2350          16.8  1981\n",
       "178  23.0          4         120.0          88    2957          17.0  1975\n",
       "287  16.5          8         351.0         138    3955          13.2  1979"
      ]
     },
     "execution_count": 59,
     "metadata": {},
     "output_type": "execute_result"
    }
   ],
   "source": [
    "training_data.head()"
   ]
  },
  {
   "cell_type": "code",
   "execution_count": 60,
   "id": "d8a753ae-c81f-4a1c-a3dc-252af0fc88cb",
   "metadata": {},
   "outputs": [
    {
     "data": {
      "text/html": [
       "<div>\n",
       "<style scoped>\n",
       "    .dataframe tbody tr th:only-of-type {\n",
       "        vertical-align: middle;\n",
       "    }\n",
       "\n",
       "    .dataframe tbody tr th {\n",
       "        vertical-align: top;\n",
       "    }\n",
       "\n",
       "    .dataframe thead th {\n",
       "        text-align: right;\n",
       "    }\n",
       "</style>\n",
       "<table border=\"1\" class=\"dataframe\">\n",
       "  <thead>\n",
       "    <tr style=\"text-align: right;\">\n",
       "      <th></th>\n",
       "      <th>MPG</th>\n",
       "      <th>Cylinders</th>\n",
       "      <th>Displacement</th>\n",
       "      <th>Horsepower</th>\n",
       "      <th>Weight</th>\n",
       "      <th>Acceleration</th>\n",
       "      <th>Year</th>\n",
       "    </tr>\n",
       "  </thead>\n",
       "  <tbody>\n",
       "    <tr>\n",
       "      <th>9</th>\n",
       "      <td>15.0</td>\n",
       "      <td>8</td>\n",
       "      <td>390.0</td>\n",
       "      <td>190</td>\n",
       "      <td>3850</td>\n",
       "      <td>8.5</td>\n",
       "      <td>1970</td>\n",
       "    </tr>\n",
       "    <tr>\n",
       "      <th>25</th>\n",
       "      <td>10.0</td>\n",
       "      <td>8</td>\n",
       "      <td>360.0</td>\n",
       "      <td>215</td>\n",
       "      <td>4615</td>\n",
       "      <td>14.0</td>\n",
       "      <td>1970</td>\n",
       "    </tr>\n",
       "    <tr>\n",
       "      <th>28</th>\n",
       "      <td>9.0</td>\n",
       "      <td>8</td>\n",
       "      <td>304.0</td>\n",
       "      <td>193</td>\n",
       "      <td>4732</td>\n",
       "      <td>18.5</td>\n",
       "      <td>1970</td>\n",
       "    </tr>\n",
       "    <tr>\n",
       "      <th>31</th>\n",
       "      <td>25.0</td>\n",
       "      <td>4</td>\n",
       "      <td>113.0</td>\n",
       "      <td>95</td>\n",
       "      <td>2228</td>\n",
       "      <td>14.0</td>\n",
       "      <td>1971</td>\n",
       "    </tr>\n",
       "    <tr>\n",
       "      <th>33</th>\n",
       "      <td>19.0</td>\n",
       "      <td>6</td>\n",
       "      <td>232.0</td>\n",
       "      <td>100</td>\n",
       "      <td>2634</td>\n",
       "      <td>13.0</td>\n",
       "      <td>1971</td>\n",
       "    </tr>\n",
       "  </tbody>\n",
       "</table>\n",
       "</div>"
      ],
      "text/plain": [
       "     MPG  Cylinders  Displacement  Horsepower  Weight  Acceleration  Year\n",
       "9   15.0          8         390.0         190    3850           8.5  1970\n",
       "25  10.0          8         360.0         215    4615          14.0  1970\n",
       "28   9.0          8         304.0         193    4732          18.5  1970\n",
       "31  25.0          4         113.0          95    2228          14.0  1971\n",
       "33  19.0          6         232.0         100    2634          13.0  1971"
      ]
     },
     "execution_count": 60,
     "metadata": {},
     "output_type": "execute_result"
    }
   ],
   "source": [
    "testing_data.head()"
   ]
  },
  {
   "cell_type": "code",
   "execution_count": 61,
   "id": "807d700d-6879-48a3-90cb-673cd59403be",
   "metadata": {},
   "outputs": [],
   "source": [
    "# Define model 3\n",
    "model3 = tf.keras.Sequential()\n",
    "\n",
    "# define layer 3\n",
    "layer1 = tf.keras.layers.Normalization(input_shape=[1,], axis=None)\n",
    "layer1.adapt(np.array(training_data['Horsepower']))\n",
    "\n",
    "# define layer 3\n",
    "layer2 = tf.keras.layers.Dense(1)\n",
    "\n",
    "# add layers\n",
    "model3.add(layer1)\n",
    "model3.add(layer2)\n"
   ]
  },
  {
   "cell_type": "code",
   "execution_count": 62,
   "id": "d983862f-d4fd-4022-ab79-5b88343a25c4",
   "metadata": {},
   "outputs": [],
   "source": [
    "# compile model3\n",
    "\n",
    "model3.compile(\n",
    "optimizer=tf.keras.optimizers.Adam(learning_rate=0.1),\n",
    "    loss = 'mean_absolute_error'\n",
    ")\n"
   ]
  },
  {
   "cell_type": "code",
   "execution_count": 63,
   "id": "ce25fe95-e972-46ba-92f6-2e6aa55bf741",
   "metadata": {},
   "outputs": [],
   "source": [
    "\n",
    "# Train model 3\n",
    "history3 = model3.fit(\n",
    "    training_data['Horsepower'],\n",
    "    training_data['MPG'],\n",
    "    epochs = 100,\n",
    "    verbose = 0,\n",
    "    validation_split = 0.2)"
   ]
  },
  {
   "cell_type": "code",
   "execution_count": 64,
   "id": "1117becf-3f36-44cc-a739-223833ac9a5b",
   "metadata": {},
   "outputs": [
    {
     "name": "stdout",
     "output_type": "stream",
     "text": [
      "8/8 [==============================] - 0s 2ms/step\n"
     ]
    },
    {
     "data": {
      "image/png": "[encoded data removed]",
      "text/plain": [
       "<Figure size 640x480 with 1 Axes>"
      ]
     },
     "metadata": {},
     "output_type": "display_data"
    }
   ],
   "source": [
    "# plot the results\n",
    "\n",
    "# real data\n",
    "hp1 = training_data['Horsepower']\n",
    "mpg1 = training_data['MPG']\n",
    "\n",
    "# predicted data\n",
    "hp2 = tf.linspace(0, 250, 251)\n",
    "mpg2 = model1.predict(hp2)\n",
    "\n",
    "plotHPvsMPG(hp1, mpg1, hp2, mpg2)"
   ]
  },
  {
   "cell_type": "code",
   "execution_count": 65,
   "id": "136d4482-71d8-4fea-b737-0cc83b3df22f",
   "metadata": {},
   "outputs": [],
   "source": [
    "# see the results\n",
    "\n",
    "testing = model3.evaluate(testing_data['Horsepower'], testing_data['MPG'], verbose=0)\n",
    "training = pd.DataFrame(history3.history).iloc[99]['loss']\n",
    "results['Sampling'] = training, testing"
   ]
  },
  {
   "cell_type": "code",
   "execution_count": 66,
   "id": "707d8596-4eaf-4da3-8004-0baf2bbe9c01",
   "metadata": {},
   "outputs": [
    {
     "data": {
      "text/html": [
       "<div>\n",
       "<style scoped>\n",
       "    .dataframe tbody tr th:only-of-type {\n",
       "        vertical-align: middle;\n",
       "    }\n",
       "\n",
       "    .dataframe tbody tr th {\n",
       "        vertical-align: top;\n",
       "    }\n",
       "\n",
       "    .dataframe thead th {\n",
       "        text-align: right;\n",
       "    }\n",
       "</style>\n",
       "<table border=\"1\" class=\"dataframe\">\n",
       "  <thead>\n",
       "    <tr style=\"text-align: right;\">\n",
       "      <th></th>\n",
       "      <th>training loss</th>\n",
       "      <th>testing loss</th>\n",
       "    </tr>\n",
       "  </thead>\n",
       "  <tbody>\n",
       "    <tr>\n",
       "      <th>Baseline</th>\n",
       "      <td>3.421946</td>\n",
       "      <td>8.605809</td>\n",
       "    </tr>\n",
       "    <tr>\n",
       "      <th>Normalization</th>\n",
       "      <td>3.002728</td>\n",
       "      <td>7.857375</td>\n",
       "    </tr>\n",
       "    <tr>\n",
       "      <th>Sampling</th>\n",
       "      <td>3.768604</td>\n",
       "      <td>4.042127</td>\n",
       "    </tr>\n",
       "  </tbody>\n",
       "</table>\n",
       "</div>"
      ],
      "text/plain": [
       "               training loss  testing loss\n",
       "Baseline            3.421946      8.605809\n",
       "Normalization       3.002728      7.857375\n",
       "Sampling            3.768604      4.042127"
      ]
     },
     "execution_count": 66,
     "metadata": {},
     "output_type": "execute_result"
    }
   ],
   "source": [
    "pd.DataFrame(results, index=['training loss', 'testing loss']).T"
   ]
  },
  {
   "cell_type": "markdown",
   "id": "e586b814-4a9c-4538-8fb0-667cf4295fc9",
   "metadata": {},
   "source": [
    "### Model 4 (using deep learning)"
   ]
  },
  {
   "cell_type": "code",
   "execution_count": 67,
   "id": "205ab9df-deaf-4303-851f-db306a916f99",
   "metadata": {},
   "outputs": [],
   "source": [
    "# define model 4\n",
    "\n",
    "model4 = tf.keras.Sequential()\n",
    "\n",
    "# define layer 1\n",
    "layer1 = tf.keras.layers.Normalization(input_shape=[1,], axis=None)\n",
    "layer1.adapt(np.array(training_data['Horsepower']))\n",
    "\n",
    "# define layer 2\n",
    "layer2 = tf.keras.layers.Dense(64, activation='relu')\n",
    "\n",
    "# define layer 3\n",
    "layer3 = tf.keras.layers.Dense(64, activation='relu')\n",
    "\n",
    "# define layer 4\n",
    "layer4 = tf.keras.layers.Dense(1)\n",
    "\n",
    "# add layers\n",
    "model4.add(layer1)\n",
    "model4.add(layer2)\n",
    "model4.add(layer3)\n",
    "model4.add(layer4)"
   ]
  },
  {
   "cell_type": "code",
   "execution_count": 68,
   "id": "886fdd27-49e2-460e-ada3-bd23d9b30afe",
   "metadata": {},
   "outputs": [],
   "source": [
    "# compile model 4\n",
    "\n",
    "model4.compile(\n",
    "    optimizer=tf.keras.optimizers.Adam(0.01),\n",
    "    loss = 'mean_absolute_error')"
   ]
  },
  {
   "cell_type": "code",
   "execution_count": 69,
   "id": "06bd7ba5-b9aa-4817-9554-d5d0be117b46",
   "metadata": {},
   "outputs": [
    {
     "name": "stdout",
     "output_type": "stream",
     "text": [
      "Model: \"sequential_3\"\n",
      "_________________________________________________________________\n",
      " Layer (type)                Output Shape              Param #   \n",
      "=================================================================\n",
      " normalization_2 (Normalizat  (None, 1)                3         \n",
      " ion)                                                            \n",
      "                                                                 \n",
      " dense_3 (Dense)             (None, 64)                128       \n",
      "                                                                 \n",
      " dense_4 (Dense)             (None, 64)                4160      \n",
      "                                                                 \n",
      " dense_5 (Dense)             (None, 1)                 65        \n",
      "                                                                 \n",
      "=================================================================\n",
      "Total params: 4,356\n",
      "Trainable params: 4,353\n",
      "Non-trainable params: 3\n",
      "_________________________________________________________________\n"
     ]
    }
   ],
   "source": [
    "model4.summary()"
   ]
  },
  {
   "cell_type": "code",
   "execution_count": 70,
   "id": "d92819f8-e806-4f61-8ff2-824e06fbb834",
   "metadata": {},
   "outputs": [],
   "source": [
    "# Train model 4\n",
    "history4 = model4.fit(\n",
    "    training_data['Horsepower'],\n",
    "    training_data['MPG'],\n",
    "    epochs = 100,\n",
    "    verbose = 0,\n",
    "    validation_split = 0.2)"
   ]
  },
  {
   "cell_type": "code",
   "execution_count": 71,
   "id": "0560b579-5df4-4c16-ab18-5815ce427a41",
   "metadata": {},
   "outputs": [
    {
     "name": "stdout",
     "output_type": "stream",
     "text": [
      "8/8 [==============================] - 0s 3ms/step\n"
     ]
    },
    {
     "data": {
      "image/png": "[encoded data removed]",
      "text/plain": [
       "<Figure size 640x480 with 1 Axes>"
      ]
     },
     "metadata": {},
     "output_type": "display_data"
    }
   ],
   "source": [
    "# plot the results\n",
    "\n",
    "# real data\n",
    "hp1 = training_data['Horsepower']\n",
    "mpg1 = training_data['MPG']\n",
    "\n",
    "# predicted data\n",
    "hp2 = tf.linspace(0, 250, 251)\n",
    "mpg2 = model4.predict(hp2)\n",
    "\n",
    "plotHPvsMPG(hp1, mpg1, hp2, mpg2)"
   ]
  },
  {
   "cell_type": "code",
   "execution_count": 72,
   "id": "33694778-1ed1-4a8a-8c58-18d8f520890f",
   "metadata": {},
   "outputs": [],
   "source": [
    "# Get the final results\n",
    "testing = model4.evaluate(testing_data['Horsepower'], testing_data['MPG'], verbose=0)\n",
    "training = pd.DataFrame(history4.history).iloc[99]['loss']\n",
    "results['DeepLearning'] = training, testing"
   ]
  },
  {
   "cell_type": "code",
   "execution_count": 73,
   "id": "ac7eac5f-133a-4162-9d4d-4c9e054fe6f2",
   "metadata": {},
   "outputs": [
    {
     "data": {
      "text/html": [
       "<div>\n",
       "<style scoped>\n",
       "    .dataframe tbody tr th:only-of-type {\n",
       "        vertical-align: middle;\n",
       "    }\n",
       "\n",
       "    .dataframe tbody tr th {\n",
       "        vertical-align: top;\n",
       "    }\n",
       "\n",
       "    .dataframe thead th {\n",
       "        text-align: right;\n",
       "    }\n",
       "</style>\n",
       "<table border=\"1\" class=\"dataframe\">\n",
       "  <thead>\n",
       "    <tr style=\"text-align: right;\">\n",
       "      <th></th>\n",
       "      <th>training loss</th>\n",
       "      <th>testing loss</th>\n",
       "    </tr>\n",
       "  </thead>\n",
       "  <tbody>\n",
       "    <tr>\n",
       "      <th>Baseline</th>\n",
       "      <td>3.421946</td>\n",
       "      <td>8.605809</td>\n",
       "    </tr>\n",
       "    <tr>\n",
       "      <th>Normalization</th>\n",
       "      <td>3.002728</td>\n",
       "      <td>7.857375</td>\n",
       "    </tr>\n",
       "    <tr>\n",
       "      <th>Sampling</th>\n",
       "      <td>3.768604</td>\n",
       "      <td>4.042127</td>\n",
       "    </tr>\n",
       "    <tr>\n",
       "      <th>DeepLearning</th>\n",
       "      <td>3.121968</td>\n",
       "      <td>3.476500</td>\n",
       "    </tr>\n",
       "  </tbody>\n",
       "</table>\n",
       "</div>"
      ],
      "text/plain": [
       "               training loss  testing loss\n",
       "Baseline            3.421946      8.605809\n",
       "Normalization       3.002728      7.857375\n",
       "Sampling            3.768604      4.042127\n",
       "DeepLearning        3.121968      3.476500"
      ]
     },
     "execution_count": 73,
     "metadata": {},
     "output_type": "execute_result"
    }
   ],
   "source": [
    "pd.DataFrame(results, index=['training loss', 'testing loss']).T\n"
   ]
  },
  {
   "cell_type": "code",
   "execution_count": null,
   "id": "790f1aa2-87f5-4ab0-be5a-d6e2eab8eec4",
   "metadata": {},
   "outputs": [],
   "source": []
  }
 ],
 "metadata": {
  "kernelspec": {
   "display_name": "Python 3 (ipykernel)",
   "language": "python",
   "name": "python3"
  },
  "language_info": {
   "codemirror_mode": {
    "name": "ipython",
    "version": 3
   },
   "file_extension": ".py",
   "mimetype": "text/x-python",
   "name": "python",
   "nbconvert_exporter": "python",
   "pygments_lexer": "ipython3",
   "version": "3.9.13"
  }
 },
 "nbformat": 4,
 "nbformat_minor": 5
}
