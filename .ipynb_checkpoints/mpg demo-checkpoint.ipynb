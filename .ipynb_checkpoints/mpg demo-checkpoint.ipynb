{
 "cells": [
  {
   "cell_type": "markdown",
   "id": "d8e3cf60-ad6c-4bf9-a1ef-1f25094d8c64",
   "metadata": {},
   "source": [
    "## 1. Preparing the data"
   ]
  },
  {
   "cell_type": "markdown",
   "id": "b11a9884-3cb6-4958-ab60-163c39d3611f",
   "metadata": {
    "tags": []
   },
   "source": [
    "### Import"
   ]
  },
  {
   "cell_type": "code",
   "execution_count": 1,
   "id": "48986007-a302-4760-b6ec-d6830af35a3f",
   "metadata": {},
   "outputs": [],
   "source": [
    "import pandas as pd"
   ]
  },
  {
   "cell_type": "code",
   "execution_count": 2,
   "id": "67177527-297d-4451-a3cf-b7b785bf17b9",
   "metadata": {},
   "outputs": [],
   "source": [
    "# read in the CSV file\n",
    "original_data = pd.read_csv(\"car-data.csv\")"
   ]
  },
  {
   "cell_type": "code",
   "execution_count": 3,
   "id": "d8268c3f-a692-4c6b-ad2c-da92d73c8418",
   "metadata": {},
   "outputs": [
    {
     "data": {
      "text/html": [
       "<div>\n",
       "<style scoped>\n",
       "    .dataframe tbody tr th:only-of-type {\n",
       "        vertical-align: middle;\n",
       "    }\n",
       "\n",
       "    .dataframe tbody tr th {\n",
       "        vertical-align: top;\n",
       "    }\n",
       "\n",
       "    .dataframe thead th {\n",
       "        text-align: right;\n",
       "    }\n",
       "</style>\n",
       "<table border=\"1\" class=\"dataframe\">\n",
       "  <thead>\n",
       "    <tr style=\"text-align: right;\">\n",
       "      <th></th>\n",
       "      <th>mpg</th>\n",
       "      <th>cyl</th>\n",
       "      <th>disp</th>\n",
       "      <th>hp</th>\n",
       "      <th>wgt</th>\n",
       "      <th>acc</th>\n",
       "      <th>country</th>\n",
       "      <th>year</th>\n",
       "      <th>make</th>\n",
       "      <th>model</th>\n",
       "    </tr>\n",
       "  </thead>\n",
       "  <tbody>\n",
       "    <tr>\n",
       "      <th>0</th>\n",
       "      <td>18.0</td>\n",
       "      <td>8</td>\n",
       "      <td>307.0</td>\n",
       "      <td>130</td>\n",
       "      <td>3504</td>\n",
       "      <td>12.0</td>\n",
       "      <td>1</td>\n",
       "      <td>70</td>\n",
       "      <td>chevrolet</td>\n",
       "      <td>chevelle malibu</td>\n",
       "    </tr>\n",
       "    <tr>\n",
       "      <th>1</th>\n",
       "      <td>15.0</td>\n",
       "      <td>8</td>\n",
       "      <td>350.0</td>\n",
       "      <td>165</td>\n",
       "      <td>3693</td>\n",
       "      <td>11.5</td>\n",
       "      <td>1</td>\n",
       "      <td>70</td>\n",
       "      <td>buick</td>\n",
       "      <td>skylark 320</td>\n",
       "    </tr>\n",
       "    <tr>\n",
       "      <th>2</th>\n",
       "      <td>18.0</td>\n",
       "      <td>8</td>\n",
       "      <td>318.0</td>\n",
       "      <td>150</td>\n",
       "      <td>3436</td>\n",
       "      <td>11.0</td>\n",
       "      <td>1</td>\n",
       "      <td>70</td>\n",
       "      <td>plymouth</td>\n",
       "      <td>satellite</td>\n",
       "    </tr>\n",
       "    <tr>\n",
       "      <th>3</th>\n",
       "      <td>16.0</td>\n",
       "      <td>8</td>\n",
       "      <td>304.0</td>\n",
       "      <td>150</td>\n",
       "      <td>3433</td>\n",
       "      <td>12.0</td>\n",
       "      <td>1</td>\n",
       "      <td>70</td>\n",
       "      <td>amc</td>\n",
       "      <td>rebel sst</td>\n",
       "    </tr>\n",
       "    <tr>\n",
       "      <th>4</th>\n",
       "      <td>17.0</td>\n",
       "      <td>8</td>\n",
       "      <td>302.0</td>\n",
       "      <td>140</td>\n",
       "      <td>3449</td>\n",
       "      <td>10.5</td>\n",
       "      <td>1</td>\n",
       "      <td>70</td>\n",
       "      <td>ford</td>\n",
       "      <td>torino</td>\n",
       "    </tr>\n",
       "    <tr>\n",
       "      <th>5</th>\n",
       "      <td>15.0</td>\n",
       "      <td>8</td>\n",
       "      <td>429.0</td>\n",
       "      <td>198</td>\n",
       "      <td>4341</td>\n",
       "      <td>10.0</td>\n",
       "      <td>1</td>\n",
       "      <td>70</td>\n",
       "      <td>ford</td>\n",
       "      <td>galaxie 500</td>\n",
       "    </tr>\n",
       "    <tr>\n",
       "      <th>6</th>\n",
       "      <td>14.0</td>\n",
       "      <td>8</td>\n",
       "      <td>454.0</td>\n",
       "      <td>220</td>\n",
       "      <td>4354</td>\n",
       "      <td>9.0</td>\n",
       "      <td>1</td>\n",
       "      <td>70</td>\n",
       "      <td>chevrolet</td>\n",
       "      <td>impala</td>\n",
       "    </tr>\n",
       "    <tr>\n",
       "      <th>7</th>\n",
       "      <td>14.0</td>\n",
       "      <td>8</td>\n",
       "      <td>440.0</td>\n",
       "      <td>215</td>\n",
       "      <td>4312</td>\n",
       "      <td>8.5</td>\n",
       "      <td>1</td>\n",
       "      <td>70</td>\n",
       "      <td>plymouth</td>\n",
       "      <td>fury iii</td>\n",
       "    </tr>\n",
       "    <tr>\n",
       "      <th>8</th>\n",
       "      <td>14.0</td>\n",
       "      <td>8</td>\n",
       "      <td>455.0</td>\n",
       "      <td>225</td>\n",
       "      <td>4425</td>\n",
       "      <td>10.0</td>\n",
       "      <td>1</td>\n",
       "      <td>70</td>\n",
       "      <td>pontiac</td>\n",
       "      <td>catalina</td>\n",
       "    </tr>\n",
       "    <tr>\n",
       "      <th>9</th>\n",
       "      <td>15.0</td>\n",
       "      <td>8</td>\n",
       "      <td>390.0</td>\n",
       "      <td>190</td>\n",
       "      <td>3850</td>\n",
       "      <td>8.5</td>\n",
       "      <td>1</td>\n",
       "      <td>70</td>\n",
       "      <td>amc</td>\n",
       "      <td>ambassador dpl</td>\n",
       "    </tr>\n",
       "  </tbody>\n",
       "</table>\n",
       "</div>"
      ],
      "text/plain": [
       "    mpg  cyl   disp   hp   wgt   acc  country  year       make  \\\n",
       "0  18.0    8  307.0  130  3504  12.0        1    70  chevrolet   \n",
       "1  15.0    8  350.0  165  3693  11.5        1    70      buick   \n",
       "2  18.0    8  318.0  150  3436  11.0        1    70   plymouth   \n",
       "3  16.0    8  304.0  150  3433  12.0        1    70        amc   \n",
       "4  17.0    8  302.0  140  3449  10.5        1    70       ford   \n",
       "5  15.0    8  429.0  198  4341  10.0        1    70       ford   \n",
       "6  14.0    8  454.0  220  4354   9.0        1    70  chevrolet   \n",
       "7  14.0    8  440.0  215  4312   8.5        1    70   plymouth   \n",
       "8  14.0    8  455.0  225  4425  10.0        1    70    pontiac   \n",
       "9  15.0    8  390.0  190  3850   8.5        1    70        amc   \n",
       "\n",
       "             model  \n",
       "0  chevelle malibu  \n",
       "1      skylark 320  \n",
       "2        satellite  \n",
       "3        rebel sst  \n",
       "4           torino  \n",
       "5      galaxie 500  \n",
       "6           impala  \n",
       "7         fury iii  \n",
       "8         catalina  \n",
       "9   ambassador dpl  "
      ]
     },
     "execution_count": 3,
     "metadata": {},
     "output_type": "execute_result"
    }
   ],
   "source": [
    "original_data.head(10)"
   ]
  },
  {
   "cell_type": "code",
   "execution_count": 4,
   "id": "96da82d9-6bf5-4940-87de-5a69a428eecf",
   "metadata": {},
   "outputs": [
    {
     "data": {
      "text/plain": [
       "mpg                 15.0\n",
       "cyl                    8\n",
       "disp               383.0\n",
       "hp                   170\n",
       "wgt                 3563\n",
       "acc                 10.0\n",
       "country                1\n",
       "year                  70\n",
       "make               dodge\n",
       "model      challenger se\n",
       "Name: 10, dtype: object"
      ]
     },
     "execution_count": 4,
     "metadata": {},
     "output_type": "execute_result"
    }
   ],
   "source": [
    "# view specific row #11\n",
    "original_data.iloc[10]"
   ]
  },
  {
   "cell_type": "markdown",
   "id": "4d82bef4-d65e-4424-aac0-a8075eb6306d",
   "metadata": {
    "tags": []
   },
   "source": [
    "## 2. Cleanup / Validation"
   ]
  },
  {
   "cell_type": "code",
   "execution_count": 5,
   "id": "2c9f53be-b9aa-4aa9-abc3-7d57b07c0d48",
   "metadata": {},
   "outputs": [],
   "source": [
    "# making a copy of imported data\n",
    "data = original_data.copy()"
   ]
  },
  {
   "cell_type": "code",
   "execution_count": 6,
   "id": "de7c293f-5a98-4b73-836f-c924084db147",
   "metadata": {},
   "outputs": [
    {
     "data": {
      "text/html": [
       "<div>\n",
       "<style scoped>\n",
       "    .dataframe tbody tr th:only-of-type {\n",
       "        vertical-align: middle;\n",
       "    }\n",
       "\n",
       "    .dataframe tbody tr th {\n",
       "        vertical-align: top;\n",
       "    }\n",
       "\n",
       "    .dataframe thead th {\n",
       "        text-align: right;\n",
       "    }\n",
       "</style>\n",
       "<table border=\"1\" class=\"dataframe\">\n",
       "  <thead>\n",
       "    <tr style=\"text-align: right;\">\n",
       "      <th></th>\n",
       "      <th>mpg</th>\n",
       "      <th>cyl</th>\n",
       "      <th>disp</th>\n",
       "      <th>hp</th>\n",
       "      <th>wgt</th>\n",
       "      <th>acc</th>\n",
       "      <th>country</th>\n",
       "      <th>year</th>\n",
       "      <th>make</th>\n",
       "      <th>model</th>\n",
       "    </tr>\n",
       "  </thead>\n",
       "  <tbody>\n",
       "    <tr>\n",
       "      <th>0</th>\n",
       "      <td>18.0</td>\n",
       "      <td>8</td>\n",
       "      <td>307.0</td>\n",
       "      <td>130</td>\n",
       "      <td>3504</td>\n",
       "      <td>12.0</td>\n",
       "      <td>1</td>\n",
       "      <td>70</td>\n",
       "      <td>chevrolet</td>\n",
       "      <td>chevelle malibu</td>\n",
       "    </tr>\n",
       "    <tr>\n",
       "      <th>1</th>\n",
       "      <td>15.0</td>\n",
       "      <td>8</td>\n",
       "      <td>350.0</td>\n",
       "      <td>165</td>\n",
       "      <td>3693</td>\n",
       "      <td>11.5</td>\n",
       "      <td>1</td>\n",
       "      <td>70</td>\n",
       "      <td>buick</td>\n",
       "      <td>skylark 320</td>\n",
       "    </tr>\n",
       "    <tr>\n",
       "      <th>2</th>\n",
       "      <td>18.0</td>\n",
       "      <td>8</td>\n",
       "      <td>318.0</td>\n",
       "      <td>150</td>\n",
       "      <td>3436</td>\n",
       "      <td>11.0</td>\n",
       "      <td>1</td>\n",
       "      <td>70</td>\n",
       "      <td>plymouth</td>\n",
       "      <td>satellite</td>\n",
       "    </tr>\n",
       "    <tr>\n",
       "      <th>3</th>\n",
       "      <td>16.0</td>\n",
       "      <td>8</td>\n",
       "      <td>304.0</td>\n",
       "      <td>150</td>\n",
       "      <td>3433</td>\n",
       "      <td>12.0</td>\n",
       "      <td>1</td>\n",
       "      <td>70</td>\n",
       "      <td>amc</td>\n",
       "      <td>rebel sst</td>\n",
       "    </tr>\n",
       "    <tr>\n",
       "      <th>4</th>\n",
       "      <td>17.0</td>\n",
       "      <td>8</td>\n",
       "      <td>302.0</td>\n",
       "      <td>140</td>\n",
       "      <td>3449</td>\n",
       "      <td>10.5</td>\n",
       "      <td>1</td>\n",
       "      <td>70</td>\n",
       "      <td>ford</td>\n",
       "      <td>torino</td>\n",
       "    </tr>\n",
       "  </tbody>\n",
       "</table>\n",
       "</div>"
      ],
      "text/plain": [
       "    mpg  cyl   disp   hp   wgt   acc  country  year       make  \\\n",
       "0  18.0    8  307.0  130  3504  12.0        1    70  chevrolet   \n",
       "1  15.0    8  350.0  165  3693  11.5        1    70      buick   \n",
       "2  18.0    8  318.0  150  3436  11.0        1    70   plymouth   \n",
       "3  16.0    8  304.0  150  3433  12.0        1    70        amc   \n",
       "4  17.0    8  302.0  140  3449  10.5        1    70       ford   \n",
       "\n",
       "             model  \n",
       "0  chevelle malibu  \n",
       "1      skylark 320  \n",
       "2        satellite  \n",
       "3        rebel sst  \n",
       "4           torino  "
      ]
     },
     "execution_count": 6,
     "metadata": {},
     "output_type": "execute_result"
    }
   ],
   "source": [
    "data.head()"
   ]
  },
  {
   "cell_type": "code",
   "execution_count": 7,
   "id": "100c2991-fd80-4936-99d3-d058140a1063",
   "metadata": {},
   "outputs": [],
   "source": [
    "# rename the coulumns\n",
    "cols = { \n",
    "    \"mpg\": \"MPG\",\n",
    "    \"cyl\": \"Cylinders\",\n",
    "    \"disp\": \"Displacement\",\n",
    "    \"hp\": \"Horsepower\",\n",
    "    \"wgt\": \"Weight\",\n",
    "    \"acc\": \"Acceleration\",\n",
    "    \"country\": \"Country\",\n",
    "    \"year\": \"Year\",\n",
    "    \"make\": \"Make\",\n",
    "    \"model\": \"Model\" }\n",
    "data = data.rename(columns=cols)"
   ]
  },
  {
   "cell_type": "code",
   "execution_count": 8,
   "id": "6d8e73a6-681d-40b8-aacc-361018af2cda",
   "metadata": {},
   "outputs": [
    {
     "data": {
      "text/html": [
       "<div>\n",
       "<style scoped>\n",
       "    .dataframe tbody tr th:only-of-type {\n",
       "        vertical-align: middle;\n",
       "    }\n",
       "\n",
       "    .dataframe tbody tr th {\n",
       "        vertical-align: top;\n",
       "    }\n",
       "\n",
       "    .dataframe thead th {\n",
       "        text-align: right;\n",
       "    }\n",
       "</style>\n",
       "<table border=\"1\" class=\"dataframe\">\n",
       "  <thead>\n",
       "    <tr style=\"text-align: right;\">\n",
       "      <th></th>\n",
       "      <th>MPG</th>\n",
       "      <th>Cylinders</th>\n",
       "      <th>Displacement</th>\n",
       "      <th>Horsepower</th>\n",
       "      <th>Weight</th>\n",
       "      <th>Acceleration</th>\n",
       "      <th>Country</th>\n",
       "      <th>Year</th>\n",
       "      <th>Make</th>\n",
       "      <th>Model</th>\n",
       "    </tr>\n",
       "  </thead>\n",
       "  <tbody>\n",
       "    <tr>\n",
       "      <th>0</th>\n",
       "      <td>18.0</td>\n",
       "      <td>8</td>\n",
       "      <td>307.0</td>\n",
       "      <td>130</td>\n",
       "      <td>3504</td>\n",
       "      <td>12.0</td>\n",
       "      <td>1</td>\n",
       "      <td>70</td>\n",
       "      <td>chevrolet</td>\n",
       "      <td>chevelle malibu</td>\n",
       "    </tr>\n",
       "    <tr>\n",
       "      <th>1</th>\n",
       "      <td>15.0</td>\n",
       "      <td>8</td>\n",
       "      <td>350.0</td>\n",
       "      <td>165</td>\n",
       "      <td>3693</td>\n",
       "      <td>11.5</td>\n",
       "      <td>1</td>\n",
       "      <td>70</td>\n",
       "      <td>buick</td>\n",
       "      <td>skylark 320</td>\n",
       "    </tr>\n",
       "    <tr>\n",
       "      <th>2</th>\n",
       "      <td>18.0</td>\n",
       "      <td>8</td>\n",
       "      <td>318.0</td>\n",
       "      <td>150</td>\n",
       "      <td>3436</td>\n",
       "      <td>11.0</td>\n",
       "      <td>1</td>\n",
       "      <td>70</td>\n",
       "      <td>plymouth</td>\n",
       "      <td>satellite</td>\n",
       "    </tr>\n",
       "    <tr>\n",
       "      <th>3</th>\n",
       "      <td>16.0</td>\n",
       "      <td>8</td>\n",
       "      <td>304.0</td>\n",
       "      <td>150</td>\n",
       "      <td>3433</td>\n",
       "      <td>12.0</td>\n",
       "      <td>1</td>\n",
       "      <td>70</td>\n",
       "      <td>amc</td>\n",
       "      <td>rebel sst</td>\n",
       "    </tr>\n",
       "    <tr>\n",
       "      <th>4</th>\n",
       "      <td>17.0</td>\n",
       "      <td>8</td>\n",
       "      <td>302.0</td>\n",
       "      <td>140</td>\n",
       "      <td>3449</td>\n",
       "      <td>10.5</td>\n",
       "      <td>1</td>\n",
       "      <td>70</td>\n",
       "      <td>ford</td>\n",
       "      <td>torino</td>\n",
       "    </tr>\n",
       "  </tbody>\n",
       "</table>\n",
       "</div>"
      ],
      "text/plain": [
       "    MPG  Cylinders  Displacement Horsepower  Weight  Acceleration  Country  \\\n",
       "0  18.0          8         307.0        130    3504          12.0        1   \n",
       "1  15.0          8         350.0        165    3693          11.5        1   \n",
       "2  18.0          8         318.0        150    3436          11.0        1   \n",
       "3  16.0          8         304.0        150    3433          12.0        1   \n",
       "4  17.0          8         302.0        140    3449          10.5        1   \n",
       "\n",
       "   Year       Make            Model  \n",
       "0    70  chevrolet  chevelle malibu  \n",
       "1    70      buick      skylark 320  \n",
       "2    70   plymouth        satellite  \n",
       "3    70        amc        rebel sst  \n",
       "4    70       ford           torino  "
      ]
     },
     "execution_count": 8,
     "metadata": {},
     "output_type": "execute_result"
    }
   ],
   "source": [
    "data.head()"
   ]
  },
  {
   "cell_type": "code",
   "execution_count": 9,
   "id": "dd42c8a4-2d10-41f6-8d14-9e533fce2647",
   "metadata": {},
   "outputs": [
    {
     "data": {
      "text/plain": [
       "MPG             0\n",
       "Cylinders       0\n",
       "Displacement    0\n",
       "Horsepower      0\n",
       "Weight          0\n",
       "Acceleration    0\n",
       "Country         0\n",
       "Year            0\n",
       "Make            0\n",
       "Model           2\n",
       "dtype: int64"
      ]
     },
     "execution_count": 9,
     "metadata": {},
     "output_type": "execute_result"
    }
   ],
   "source": [
    "# check for null values \n",
    "\n",
    "data.isnull().sum()"
   ]
  },
  {
   "cell_type": "code",
   "execution_count": 10,
   "id": "0316ad59-71d6-4e3a-91cc-2d5521d0289f",
   "metadata": {},
   "outputs": [
    {
     "data": {
      "text/plain": [
       "MPG             float64\n",
       "Cylinders         int64\n",
       "Displacement    float64\n",
       "Horsepower       object\n",
       "Weight            int64\n",
       "Acceleration    float64\n",
       "Country           int64\n",
       "Year              int64\n",
       "Make             object\n",
       "Model            object\n",
       "dtype: object"
      ]
     },
     "execution_count": 10,
     "metadata": {},
     "output_type": "execute_result"
    }
   ],
   "source": [
    "# view the data types\n",
    "data.dtypes"
   ]
  },
  {
   "cell_type": "code",
   "execution_count": 11,
   "id": "4c706e31-0162-4f54-bc6b-cd96e0cb5010",
   "metadata": {},
   "outputs": [
    {
     "data": {
      "text/plain": [
       "MPG              25.0\n",
       "Cylinders           4\n",
       "Displacement     98.0\n",
       "Horsepower          ?\n",
       "Weight           2046\n",
       "Acceleration     19.0\n",
       "Country             1\n",
       "Year               71\n",
       "Make             ford\n",
       "Model           pinto\n",
       "Name: 32, dtype: object"
      ]
     },
     "execution_count": 11,
     "metadata": {},
     "output_type": "execute_result"
    }
   ],
   "source": [
    "data.iloc[32]"
   ]
  },
  {
   "cell_type": "code",
   "execution_count": 12,
   "id": "bf437aec-7064-447b-8fe0-383a7d8f2c98",
   "metadata": {},
   "outputs": [],
   "source": [
    "# replace ? with blanks \n",
    "data.replace(to_replace=\"?\", value=None, inplace=True)"
   ]
  },
  {
   "cell_type": "code",
   "execution_count": 13,
   "id": "8fdb38e6-51e0-4120-8719-6883191ebb0d",
   "metadata": {},
   "outputs": [
    {
     "data": {
      "text/plain": [
       "MPG              25.0\n",
       "Cylinders           4\n",
       "Displacement     98.0\n",
       "Horsepower       None\n",
       "Weight           2046\n",
       "Acceleration     19.0\n",
       "Country             1\n",
       "Year               71\n",
       "Make             ford\n",
       "Model           pinto\n",
       "Name: 32, dtype: object"
      ]
     },
     "execution_count": 13,
     "metadata": {},
     "output_type": "execute_result"
    }
   ],
   "source": [
    "data.iloc[32]"
   ]
  },
  {
   "cell_type": "code",
   "execution_count": 14,
   "id": "3b90aedb-8005-451f-8fcd-af8dafa70da4",
   "metadata": {},
   "outputs": [],
   "source": [
    "# drop records with missing values\n",
    "data = data.dropna()"
   ]
  },
  {
   "cell_type": "code",
   "execution_count": 15,
   "id": "09ad47c8-3d52-4053-a982-e88a7bc61a7e",
   "metadata": {},
   "outputs": [],
   "source": [
    "# convert horsepower to int\n",
    "data['Horsepower'] = data['Horsepower'].astype(int)"
   ]
  },
  {
   "cell_type": "code",
   "execution_count": 16,
   "id": "cd5a4cb6-d55a-45f9-a0d2-e5c7b48c20cf",
   "metadata": {},
   "outputs": [
    {
     "data": {
      "text/plain": [
       "MPG             float64\n",
       "Cylinders         int64\n",
       "Displacement    float64\n",
       "Horsepower        int32\n",
       "Weight            int64\n",
       "Acceleration    float64\n",
       "Country           int64\n",
       "Year              int64\n",
       "Make             object\n",
       "Model            object\n",
       "dtype: object"
      ]
     },
     "execution_count": 16,
     "metadata": {},
     "output_type": "execute_result"
    }
   ],
   "source": [
    "data.dtypes"
   ]
  },
  {
   "cell_type": "code",
   "execution_count": 17,
   "id": "f84cc728-d938-40ad-a384-97064306b663",
   "metadata": {},
   "outputs": [],
   "source": [
    "# format year from two digit to four digit\n",
    "data['Year'] = data['Year'].add(1900)"
   ]
  },
  {
   "cell_type": "code",
   "execution_count": 18,
   "id": "be92e8df-af05-4d4f-bc44-aba3c0b14f63",
   "metadata": {},
   "outputs": [
    {
     "data": {
      "text/html": [
       "<div>\n",
       "<style scoped>\n",
       "    .dataframe tbody tr th:only-of-type {\n",
       "        vertical-align: middle;\n",
       "    }\n",
       "\n",
       "    .dataframe tbody tr th {\n",
       "        vertical-align: top;\n",
       "    }\n",
       "\n",
       "    .dataframe thead th {\n",
       "        text-align: right;\n",
       "    }\n",
       "</style>\n",
       "<table border=\"1\" class=\"dataframe\">\n",
       "  <thead>\n",
       "    <tr style=\"text-align: right;\">\n",
       "      <th></th>\n",
       "      <th>MPG</th>\n",
       "      <th>Cylinders</th>\n",
       "      <th>Displacement</th>\n",
       "      <th>Horsepower</th>\n",
       "      <th>Weight</th>\n",
       "      <th>Acceleration</th>\n",
       "      <th>Country</th>\n",
       "      <th>Year</th>\n",
       "      <th>Make</th>\n",
       "      <th>Model</th>\n",
       "    </tr>\n",
       "  </thead>\n",
       "  <tbody>\n",
       "    <tr>\n",
       "      <th>0</th>\n",
       "      <td>18.0</td>\n",
       "      <td>8</td>\n",
       "      <td>307.0</td>\n",
       "      <td>130</td>\n",
       "      <td>3504</td>\n",
       "      <td>12.0</td>\n",
       "      <td>1</td>\n",
       "      <td>1970</td>\n",
       "      <td>chevrolet</td>\n",
       "      <td>chevelle malibu</td>\n",
       "    </tr>\n",
       "    <tr>\n",
       "      <th>1</th>\n",
       "      <td>15.0</td>\n",
       "      <td>8</td>\n",
       "      <td>350.0</td>\n",
       "      <td>165</td>\n",
       "      <td>3693</td>\n",
       "      <td>11.5</td>\n",
       "      <td>1</td>\n",
       "      <td>1970</td>\n",
       "      <td>buick</td>\n",
       "      <td>skylark 320</td>\n",
       "    </tr>\n",
       "    <tr>\n",
       "      <th>2</th>\n",
       "      <td>18.0</td>\n",
       "      <td>8</td>\n",
       "      <td>318.0</td>\n",
       "      <td>150</td>\n",
       "      <td>3436</td>\n",
       "      <td>11.0</td>\n",
       "      <td>1</td>\n",
       "      <td>1970</td>\n",
       "      <td>plymouth</td>\n",
       "      <td>satellite</td>\n",
       "    </tr>\n",
       "    <tr>\n",
       "      <th>3</th>\n",
       "      <td>16.0</td>\n",
       "      <td>8</td>\n",
       "      <td>304.0</td>\n",
       "      <td>150</td>\n",
       "      <td>3433</td>\n",
       "      <td>12.0</td>\n",
       "      <td>1</td>\n",
       "      <td>1970</td>\n",
       "      <td>amc</td>\n",
       "      <td>rebel sst</td>\n",
       "    </tr>\n",
       "    <tr>\n",
       "      <th>4</th>\n",
       "      <td>17.0</td>\n",
       "      <td>8</td>\n",
       "      <td>302.0</td>\n",
       "      <td>140</td>\n",
       "      <td>3449</td>\n",
       "      <td>10.5</td>\n",
       "      <td>1</td>\n",
       "      <td>1970</td>\n",
       "      <td>ford</td>\n",
       "      <td>torino</td>\n",
       "    </tr>\n",
       "  </tbody>\n",
       "</table>\n",
       "</div>"
      ],
      "text/plain": [
       "    MPG  Cylinders  Displacement  Horsepower  Weight  Acceleration  Country  \\\n",
       "0  18.0          8         307.0         130    3504          12.0        1   \n",
       "1  15.0          8         350.0         165    3693          11.5        1   \n",
       "2  18.0          8         318.0         150    3436          11.0        1   \n",
       "3  16.0          8         304.0         150    3433          12.0        1   \n",
       "4  17.0          8         302.0         140    3449          10.5        1   \n",
       "\n",
       "   Year       Make            Model  \n",
       "0  1970  chevrolet  chevelle malibu  \n",
       "1  1970      buick      skylark 320  \n",
       "2  1970   plymouth        satellite  \n",
       "3  1970        amc        rebel sst  \n",
       "4  1970       ford           torino  "
      ]
     },
     "execution_count": 18,
     "metadata": {},
     "output_type": "execute_result"
    }
   ],
   "source": [
    "data.head()"
   ]
  },
  {
   "cell_type": "markdown",
   "id": "0e5725fd-0ce6-4bd5-b64a-8bc7e735cf68",
   "metadata": {
    "jp-MarkdownHeadingCollapsed": true,
    "tags": []
   },
   "source": [
    "## 3. Feature Selection & Feature Engineering"
   ]
  },
  {
   "cell_type": "code",
   "execution_count": 19,
   "id": "aa534323-e3eb-4ecb-ba00-3625c7f791d2",
   "metadata": {},
   "outputs": [
    {
     "data": {
      "text/html": [
       "<div>\n",
       "<style scoped>\n",
       "    .dataframe tbody tr th:only-of-type {\n",
       "        vertical-align: middle;\n",
       "    }\n",
       "\n",
       "    .dataframe tbody tr th {\n",
       "        vertical-align: top;\n",
       "    }\n",
       "\n",
       "    .dataframe thead th {\n",
       "        text-align: right;\n",
       "    }\n",
       "</style>\n",
       "<table border=\"1\" class=\"dataframe\">\n",
       "  <thead>\n",
       "    <tr style=\"text-align: right;\">\n",
       "      <th></th>\n",
       "      <th>MPG</th>\n",
       "      <th>Cylinders</th>\n",
       "      <th>Displacement</th>\n",
       "      <th>Horsepower</th>\n",
       "      <th>Weight</th>\n",
       "      <th>Acceleration</th>\n",
       "      <th>Country</th>\n",
       "      <th>Year</th>\n",
       "      <th>Make</th>\n",
       "      <th>Model</th>\n",
       "    </tr>\n",
       "  </thead>\n",
       "  <tbody>\n",
       "    <tr>\n",
       "      <th>0</th>\n",
       "      <td>18.0</td>\n",
       "      <td>8</td>\n",
       "      <td>307.0</td>\n",
       "      <td>130</td>\n",
       "      <td>3504</td>\n",
       "      <td>12.0</td>\n",
       "      <td>1</td>\n",
       "      <td>1970</td>\n",
       "      <td>chevrolet</td>\n",
       "      <td>chevelle malibu</td>\n",
       "    </tr>\n",
       "  </tbody>\n",
       "</table>\n",
       "</div>"
      ],
      "text/plain": [
       "    MPG  Cylinders  Displacement  Horsepower  Weight  Acceleration  Country  \\\n",
       "0  18.0          8         307.0         130    3504          12.0        1   \n",
       "\n",
       "   Year       Make            Model  \n",
       "0  1970  chevrolet  chevelle malibu  "
      ]
     },
     "execution_count": 19,
     "metadata": {},
     "output_type": "execute_result"
    }
   ],
   "source": [
    "data.head(1)"
   ]
  },
  {
   "cell_type": "code",
   "execution_count": 20,
   "id": "5603b427-0212-4bdf-b062-9541abd95cf9",
   "metadata": {},
   "outputs": [],
   "source": [
    "# drop the make and model columns\n",
    "data = data.drop('Make',axis =1 )\n",
    "data = data.drop('Model',axis =1 )"
   ]
  },
  {
   "cell_type": "code",
   "execution_count": 21,
   "id": "adf031fd-ba3a-4523-9ae9-74deeb7b7cd3",
   "metadata": {},
   "outputs": [
    {
     "data": {
      "text/html": [
       "<div>\n",
       "<style scoped>\n",
       "    .dataframe tbody tr th:only-of-type {\n",
       "        vertical-align: middle;\n",
       "    }\n",
       "\n",
       "    .dataframe tbody tr th {\n",
       "        vertical-align: top;\n",
       "    }\n",
       "\n",
       "    .dataframe thead th {\n",
       "        text-align: right;\n",
       "    }\n",
       "</style>\n",
       "<table border=\"1\" class=\"dataframe\">\n",
       "  <thead>\n",
       "    <tr style=\"text-align: right;\">\n",
       "      <th></th>\n",
       "      <th>MPG</th>\n",
       "      <th>Cylinders</th>\n",
       "      <th>Displacement</th>\n",
       "      <th>Horsepower</th>\n",
       "      <th>Weight</th>\n",
       "      <th>Acceleration</th>\n",
       "      <th>Country</th>\n",
       "      <th>Year</th>\n",
       "    </tr>\n",
       "  </thead>\n",
       "  <tbody>\n",
       "    <tr>\n",
       "      <th>0</th>\n",
       "      <td>18.0</td>\n",
       "      <td>8</td>\n",
       "      <td>307.0</td>\n",
       "      <td>130</td>\n",
       "      <td>3504</td>\n",
       "      <td>12.0</td>\n",
       "      <td>1</td>\n",
       "      <td>1970</td>\n",
       "    </tr>\n",
       "  </tbody>\n",
       "</table>\n",
       "</div>"
      ],
      "text/plain": [
       "    MPG  Cylinders  Displacement  Horsepower  Weight  Acceleration  Country  \\\n",
       "0  18.0          8         307.0         130    3504          12.0        1   \n",
       "\n",
       "   Year  \n",
       "0  1970  "
      ]
     },
     "execution_count": 21,
     "metadata": {},
     "output_type": "execute_result"
    }
   ],
   "source": [
    "data.head(1)"
   ]
  },
  {
   "cell_type": "code",
   "execution_count": 22,
   "id": "70c96ff6-f323-409c-bbe2-2ed20a5cc64b",
   "metadata": {},
   "outputs": [],
   "source": [
    "# change country to one hot encoding\n",
    "data['Country'] = data['Country'].map({1: 'USA', 2: 'Europe', 3: 'Japan'})\n",
    "data = pd.get_dummies(data, columns=['Country'], prefix='', prefix_sep='')"
   ]
  },
  {
   "cell_type": "code",
   "execution_count": 23,
   "id": "cd00550f-fe68-480c-bd4b-bad089068b66",
   "metadata": {},
   "outputs": [
    {
     "data": {
      "text/html": [
       "<div>\n",
       "<style scoped>\n",
       "    .dataframe tbody tr th:only-of-type {\n",
       "        vertical-align: middle;\n",
       "    }\n",
       "\n",
       "    .dataframe tbody tr th {\n",
       "        vertical-align: top;\n",
       "    }\n",
       "\n",
       "    .dataframe thead th {\n",
       "        text-align: right;\n",
       "    }\n",
       "</style>\n",
       "<table border=\"1\" class=\"dataframe\">\n",
       "  <thead>\n",
       "    <tr style=\"text-align: right;\">\n",
       "      <th></th>\n",
       "      <th>MPG</th>\n",
       "      <th>Cylinders</th>\n",
       "      <th>Displacement</th>\n",
       "      <th>Horsepower</th>\n",
       "      <th>Weight</th>\n",
       "      <th>Acceleration</th>\n",
       "      <th>Year</th>\n",
       "      <th>Europe</th>\n",
       "      <th>Japan</th>\n",
       "      <th>USA</th>\n",
       "    </tr>\n",
       "  </thead>\n",
       "  <tbody>\n",
       "    <tr>\n",
       "      <th>0</th>\n",
       "      <td>18.0</td>\n",
       "      <td>8</td>\n",
       "      <td>307.0</td>\n",
       "      <td>130</td>\n",
       "      <td>3504</td>\n",
       "      <td>12.0</td>\n",
       "      <td>1970</td>\n",
       "      <td>0</td>\n",
       "      <td>0</td>\n",
       "      <td>1</td>\n",
       "    </tr>\n",
       "    <tr>\n",
       "      <th>1</th>\n",
       "      <td>15.0</td>\n",
       "      <td>8</td>\n",
       "      <td>350.0</td>\n",
       "      <td>165</td>\n",
       "      <td>3693</td>\n",
       "      <td>11.5</td>\n",
       "      <td>1970</td>\n",
       "      <td>0</td>\n",
       "      <td>0</td>\n",
       "      <td>1</td>\n",
       "    </tr>\n",
       "    <tr>\n",
       "      <th>2</th>\n",
       "      <td>18.0</td>\n",
       "      <td>8</td>\n",
       "      <td>318.0</td>\n",
       "      <td>150</td>\n",
       "      <td>3436</td>\n",
       "      <td>11.0</td>\n",
       "      <td>1970</td>\n",
       "      <td>0</td>\n",
       "      <td>0</td>\n",
       "      <td>1</td>\n",
       "    </tr>\n",
       "    <tr>\n",
       "      <th>3</th>\n",
       "      <td>16.0</td>\n",
       "      <td>8</td>\n",
       "      <td>304.0</td>\n",
       "      <td>150</td>\n",
       "      <td>3433</td>\n",
       "      <td>12.0</td>\n",
       "      <td>1970</td>\n",
       "      <td>0</td>\n",
       "      <td>0</td>\n",
       "      <td>1</td>\n",
       "    </tr>\n",
       "    <tr>\n",
       "      <th>4</th>\n",
       "      <td>17.0</td>\n",
       "      <td>8</td>\n",
       "      <td>302.0</td>\n",
       "      <td>140</td>\n",
       "      <td>3449</td>\n",
       "      <td>10.5</td>\n",
       "      <td>1970</td>\n",
       "      <td>0</td>\n",
       "      <td>0</td>\n",
       "      <td>1</td>\n",
       "    </tr>\n",
       "  </tbody>\n",
       "</table>\n",
       "</div>"
      ],
      "text/plain": [
       "    MPG  Cylinders  Displacement  Horsepower  Weight  Acceleration  Year  \\\n",
       "0  18.0          8         307.0         130    3504          12.0  1970   \n",
       "1  15.0          8         350.0         165    3693          11.5  1970   \n",
       "2  18.0          8         318.0         150    3436          11.0  1970   \n",
       "3  16.0          8         304.0         150    3433          12.0  1970   \n",
       "4  17.0          8         302.0         140    3449          10.5  1970   \n",
       "\n",
       "   Europe  Japan  USA  \n",
       "0       0      0    1  \n",
       "1       0      0    1  \n",
       "2       0      0    1  \n",
       "3       0      0    1  \n",
       "4       0      0    1  "
      ]
     },
     "execution_count": 23,
     "metadata": {},
     "output_type": "execute_result"
    }
   ],
   "source": [
    "data.head()"
   ]
  },
  {
   "cell_type": "code",
   "execution_count": 24,
   "id": "03b79f0d-bc0c-4e48-a9d4-3b51ac4b388d",
   "metadata": {},
   "outputs": [
    {
     "data": {
      "text/html": [
       "<div>\n",
       "<style scoped>\n",
       "    .dataframe tbody tr th:only-of-type {\n",
       "        vertical-align: middle;\n",
       "    }\n",
       "\n",
       "    .dataframe tbody tr th {\n",
       "        vertical-align: top;\n",
       "    }\n",
       "\n",
       "    .dataframe thead th {\n",
       "        text-align: right;\n",
       "    }\n",
       "</style>\n",
       "<table border=\"1\" class=\"dataframe\">\n",
       "  <thead>\n",
       "    <tr style=\"text-align: right;\">\n",
       "      <th></th>\n",
       "      <th>MPG</th>\n",
       "      <th>Cylinders</th>\n",
       "      <th>Displacement</th>\n",
       "      <th>Horsepower</th>\n",
       "      <th>Weight</th>\n",
       "      <th>Acceleration</th>\n",
       "      <th>Year</th>\n",
       "      <th>Europe</th>\n",
       "      <th>Japan</th>\n",
       "      <th>USA</th>\n",
       "    </tr>\n",
       "  </thead>\n",
       "  <tbody>\n",
       "    <tr>\n",
       "      <th>MPG</th>\n",
       "      <td>1.000000</td>\n",
       "      <td>-0.777254</td>\n",
       "      <td>-0.804760</td>\n",
       "      <td>-0.777768</td>\n",
       "      <td>-0.831764</td>\n",
       "      <td>0.422076</td>\n",
       "      <td>0.579658</td>\n",
       "      <td>0.246606</td>\n",
       "      <td>0.449369</td>\n",
       "      <td>-0.563736</td>\n",
       "    </tr>\n",
       "    <tr>\n",
       "      <th>Cylinders</th>\n",
       "      <td>-0.777254</td>\n",
       "      <td>1.000000</td>\n",
       "      <td>0.950638</td>\n",
       "      <td>0.842898</td>\n",
       "      <td>0.897210</td>\n",
       "      <td>-0.504300</td>\n",
       "      <td>-0.345426</td>\n",
       "      <td>-0.355225</td>\n",
       "      <td>-0.400235</td>\n",
       "      <td>0.608541</td>\n",
       "    </tr>\n",
       "    <tr>\n",
       "      <th>Displacement</th>\n",
       "      <td>-0.804760</td>\n",
       "      <td>0.950638</td>\n",
       "      <td>1.000000</td>\n",
       "      <td>0.897275</td>\n",
       "      <td>0.932769</td>\n",
       "      <td>-0.543423</td>\n",
       "      <td>-0.369486</td>\n",
       "      <td>-0.374646</td>\n",
       "      <td>-0.437174</td>\n",
       "      <td>0.654213</td>\n",
       "    </tr>\n",
       "    <tr>\n",
       "      <th>Horsepower</th>\n",
       "      <td>-0.777768</td>\n",
       "      <td>0.842898</td>\n",
       "      <td>0.897275</td>\n",
       "      <td>1.000000</td>\n",
       "      <td>0.864284</td>\n",
       "      <td>-0.688670</td>\n",
       "      <td>-0.415064</td>\n",
       "      <td>-0.286980</td>\n",
       "      <td>-0.319117</td>\n",
       "      <td>0.488148</td>\n",
       "    </tr>\n",
       "    <tr>\n",
       "      <th>Weight</th>\n",
       "      <td>-0.831764</td>\n",
       "      <td>0.897210</td>\n",
       "      <td>0.932769</td>\n",
       "      <td>0.864284</td>\n",
       "      <td>1.000000</td>\n",
       "      <td>-0.415836</td>\n",
       "      <td>-0.307805</td>\n",
       "      <td>-0.296699</td>\n",
       "      <td>-0.444370</td>\n",
       "      <td>0.598945</td>\n",
       "    </tr>\n",
       "    <tr>\n",
       "      <th>Acceleration</th>\n",
       "      <td>0.422076</td>\n",
       "      <td>-0.504300</td>\n",
       "      <td>-0.543423</td>\n",
       "      <td>-0.688670</td>\n",
       "      <td>-0.415836</td>\n",
       "      <td>1.000000</td>\n",
       "      <td>0.288478</td>\n",
       "      <td>0.209536</td>\n",
       "      <td>0.112154</td>\n",
       "      <td>-0.256880</td>\n",
       "    </tr>\n",
       "    <tr>\n",
       "      <th>Year</th>\n",
       "      <td>0.579658</td>\n",
       "      <td>-0.345426</td>\n",
       "      <td>-0.369486</td>\n",
       "      <td>-0.415064</td>\n",
       "      <td>-0.307805</td>\n",
       "      <td>0.288478</td>\n",
       "      <td>1.000000</td>\n",
       "      <td>-0.036896</td>\n",
       "      <td>0.198186</td>\n",
       "      <td>-0.134272</td>\n",
       "    </tr>\n",
       "    <tr>\n",
       "      <th>Europe</th>\n",
       "      <td>0.246606</td>\n",
       "      <td>-0.355225</td>\n",
       "      <td>-0.374646</td>\n",
       "      <td>-0.286980</td>\n",
       "      <td>-0.296699</td>\n",
       "      <td>0.209536</td>\n",
       "      <td>-0.036896</td>\n",
       "      <td>1.000000</td>\n",
       "      <td>-0.227929</td>\n",
       "      <td>-0.597345</td>\n",
       "    </tr>\n",
       "    <tr>\n",
       "      <th>Japan</th>\n",
       "      <td>0.449369</td>\n",
       "      <td>-0.400235</td>\n",
       "      <td>-0.437174</td>\n",
       "      <td>-0.319117</td>\n",
       "      <td>-0.444370</td>\n",
       "      <td>0.112154</td>\n",
       "      <td>0.198186</td>\n",
       "      <td>-0.227929</td>\n",
       "      <td>1.000000</td>\n",
       "      <td>-0.644722</td>\n",
       "    </tr>\n",
       "    <tr>\n",
       "      <th>USA</th>\n",
       "      <td>-0.563736</td>\n",
       "      <td>0.608541</td>\n",
       "      <td>0.654213</td>\n",
       "      <td>0.488148</td>\n",
       "      <td>0.598945</td>\n",
       "      <td>-0.256880</td>\n",
       "      <td>-0.134272</td>\n",
       "      <td>-0.597345</td>\n",
       "      <td>-0.644722</td>\n",
       "      <td>1.000000</td>\n",
       "    </tr>\n",
       "  </tbody>\n",
       "</table>\n",
       "</div>"
      ],
      "text/plain": [
       "                   MPG  Cylinders  Displacement  Horsepower    Weight  \\\n",
       "MPG           1.000000  -0.777254     -0.804760   -0.777768 -0.831764   \n",
       "Cylinders    -0.777254   1.000000      0.950638    0.842898  0.897210   \n",
       "Displacement -0.804760   0.950638      1.000000    0.897275  0.932769   \n",
       "Horsepower   -0.777768   0.842898      0.897275    1.000000  0.864284   \n",
       "Weight       -0.831764   0.897210      0.932769    0.864284  1.000000   \n",
       "Acceleration  0.422076  -0.504300     -0.543423   -0.688670 -0.415836   \n",
       "Year          0.579658  -0.345426     -0.369486   -0.415064 -0.307805   \n",
       "Europe        0.246606  -0.355225     -0.374646   -0.286980 -0.296699   \n",
       "Japan         0.449369  -0.400235     -0.437174   -0.319117 -0.444370   \n",
       "USA          -0.563736   0.608541      0.654213    0.488148  0.598945   \n",
       "\n",
       "              Acceleration      Year    Europe     Japan       USA  \n",
       "MPG               0.422076  0.579658  0.246606  0.449369 -0.563736  \n",
       "Cylinders        -0.504300 -0.345426 -0.355225 -0.400235  0.608541  \n",
       "Displacement     -0.543423 -0.369486 -0.374646 -0.437174  0.654213  \n",
       "Horsepower       -0.688670 -0.415064 -0.286980 -0.319117  0.488148  \n",
       "Weight           -0.415836 -0.307805 -0.296699 -0.444370  0.598945  \n",
       "Acceleration      1.000000  0.288478  0.209536  0.112154 -0.256880  \n",
       "Year              0.288478  1.000000 -0.036896  0.198186 -0.134272  \n",
       "Europe            0.209536 -0.036896  1.000000 -0.227929 -0.597345  \n",
       "Japan             0.112154  0.198186 -0.227929  1.000000 -0.644722  \n",
       "USA              -0.256880 -0.134272 -0.597345 -0.644722  1.000000  "
      ]
     },
     "execution_count": 24,
     "metadata": {},
     "output_type": "execute_result"
    }
   ],
   "source": [
    "# pairwise correlation\n",
    "data.corr()"
   ]
  },
  {
   "cell_type": "code",
   "execution_count": 25,
   "id": "bcc9381b-d06b-4b3c-949c-9a98d69d74a4",
   "metadata": {},
   "outputs": [
    {
     "data": {
      "text/plain": [
       "<AxesSubplot:xlabel='Weight', ylabel='MPG'>"
      ]
     },
     "execution_count": 25,
     "metadata": {},
     "output_type": "execute_result"
    },
    {
     "data": {
      "image/png": "[encoded data removed]",
      "text/plain": [
       "<Figure size 640x480 with 1 Axes>"
      ]
     },
     "metadata": {},
     "output_type": "display_data"
    }
   ],
   "source": [
    "# Graph weight vs MPG\n",
    "data.plot(kind='scatter', x='Weight', y='MPG')"
   ]
  },
  {
   "cell_type": "code",
   "execution_count": 26,
   "id": "2bf81ba8-5af2-4e80-80e0-ee9fe764d28f",
   "metadata": {},
   "outputs": [
    {
     "data": {
      "text/plain": [
       "<AxesSubplot:xlabel='Displacement', ylabel='MPG'>"
      ]
     },
     "execution_count": 26,
     "metadata": {},
     "output_type": "execute_result"
    },
    {
     "data": {
      "image/png": "[encoded data removed]",
      "text/plain": [
       "<Figure size 640x480 with 1 Axes>"
      ]
     },
     "metadata": {},
     "output_type": "display_data"
    }
   ],
   "source": [
    "# Graph Displacement vs MPG\n",
    "data.plot(kind='scatter', x='Displacement', y='MPG')"
   ]
  },
  {
   "cell_type": "code",
   "execution_count": 27,
   "id": "cc532ac1-b80a-43d8-b865-27e26740b61a",
   "metadata": {},
   "outputs": [
    {
     "data": {
      "text/plain": [
       "<AxesSubplot:xlabel='Horsepower', ylabel='MPG'>"
      ]
     },
     "execution_count": 27,
     "metadata": {},
     "output_type": "execute_result"
    },
    {
     "data": {
      "image/png": "[encoded data removed]",
      "text/plain": [
       "<Figure size 640x480 with 1 Axes>"
      ]
     },
     "metadata": {},
     "output_type": "display_data"
    }
   ],
   "source": [
    "# Graph Horsepower vs MPG\n",
    "data.plot(kind='scatter', x='Horsepower', y='MPG')"
   ]
  },
  {
   "cell_type": "code",
   "execution_count": 28,
   "id": "c8deeb74-21c3-4dd1-bdb3-602050c864d7",
   "metadata": {},
   "outputs": [
    {
     "data": {
      "text/plain": [
       "<AxesSubplot:xlabel='Cylinders', ylabel='MPG'>"
      ]
     },
     "execution_count": 28,
     "metadata": {},
     "output_type": "execute_result"
    },
    {
     "data": {
      "image/png": "[encoded data removed]",
      "text/plain": [
       "<Figure size 640x480 with 1 Axes>"
      ]
     },
     "metadata": {},
     "output_type": "display_data"
    }
   ],
   "source": [
    "# Graph Cylinders vs MPG\n",
    "data.plot(kind='scatter', x='Cylinders', y='MPG')"
   ]
  },
  {
   "cell_type": "code",
   "execution_count": 29,
   "id": "85d722ee-8646-4889-befe-bbf5f1e4d7f3",
   "metadata": {},
   "outputs": [
    {
     "name": "stdout",
     "output_type": "stream",
     "text": [
      "USA:  245\n",
      "Europe:  68\n",
      "Japan:  77\n"
     ]
    }
   ],
   "source": [
    "# Check for class imbalance\n",
    "print('USA: ', data['USA'].sum())\n",
    "print('Europe: ', data['Europe'].sum())\n",
    "print('Japan: ', data['Japan'].sum())"
   ]
  },
  {
   "cell_type": "code",
   "execution_count": 30,
   "id": "7f6daa05-fab7-487f-a7b1-9dd6f4992560",
   "metadata": {},
   "outputs": [],
   "source": [
    "# droping country fields because they are less significant for the model\n",
    "\n",
    "data = data.drop('USA', axis=1)\n",
    "data = data.drop('Europe', axis=1)\n",
    "data = data.drop('Japan', axis=1)"
   ]
  },
  {
   "cell_type": "code",
   "execution_count": 31,
   "id": "0b7c6153-ac50-4c52-888d-a26c70dbfdad",
   "metadata": {},
   "outputs": [
    {
     "data": {
      "text/html": [
       "<div>\n",
       "<style scoped>\n",
       "    .dataframe tbody tr th:only-of-type {\n",
       "        vertical-align: middle;\n",
       "    }\n",
       "\n",
       "    .dataframe tbody tr th {\n",
       "        vertical-align: top;\n",
       "    }\n",
       "\n",
       "    .dataframe thead th {\n",
       "        text-align: right;\n",
       "    }\n",
       "</style>\n",
       "<table border=\"1\" class=\"dataframe\">\n",
       "  <thead>\n",
       "    <tr style=\"text-align: right;\">\n",
       "      <th></th>\n",
       "      <th>MPG</th>\n",
       "      <th>Cylinders</th>\n",
       "      <th>Displacement</th>\n",
       "      <th>Horsepower</th>\n",
       "      <th>Weight</th>\n",
       "      <th>Acceleration</th>\n",
       "      <th>Year</th>\n",
       "    </tr>\n",
       "  </thead>\n",
       "  <tbody>\n",
       "    <tr>\n",
       "      <th>0</th>\n",
       "      <td>18.0</td>\n",
       "      <td>8</td>\n",
       "      <td>307.0</td>\n",
       "      <td>130</td>\n",
       "      <td>3504</td>\n",
       "      <td>12.0</td>\n",
       "      <td>1970</td>\n",
       "    </tr>\n",
       "    <tr>\n",
       "      <th>1</th>\n",
       "      <td>15.0</td>\n",
       "      <td>8</td>\n",
       "      <td>350.0</td>\n",
       "      <td>165</td>\n",
       "      <td>3693</td>\n",
       "      <td>11.5</td>\n",
       "      <td>1970</td>\n",
       "    </tr>\n",
       "    <tr>\n",
       "      <th>2</th>\n",
       "      <td>18.0</td>\n",
       "      <td>8</td>\n",
       "      <td>318.0</td>\n",
       "      <td>150</td>\n",
       "      <td>3436</td>\n",
       "      <td>11.0</td>\n",
       "      <td>1970</td>\n",
       "    </tr>\n",
       "    <tr>\n",
       "      <th>3</th>\n",
       "      <td>16.0</td>\n",
       "      <td>8</td>\n",
       "      <td>304.0</td>\n",
       "      <td>150</td>\n",
       "      <td>3433</td>\n",
       "      <td>12.0</td>\n",
       "      <td>1970</td>\n",
       "    </tr>\n",
       "    <tr>\n",
       "      <th>4</th>\n",
       "      <td>17.0</td>\n",
       "      <td>8</td>\n",
       "      <td>302.0</td>\n",
       "      <td>140</td>\n",
       "      <td>3449</td>\n",
       "      <td>10.5</td>\n",
       "      <td>1970</td>\n",
       "    </tr>\n",
       "  </tbody>\n",
       "</table>\n",
       "</div>"
      ],
      "text/plain": [
       "    MPG  Cylinders  Displacement  Horsepower  Weight  Acceleration  Year\n",
       "0  18.0          8         307.0         130    3504          12.0  1970\n",
       "1  15.0          8         350.0         165    3693          11.5  1970\n",
       "2  18.0          8         318.0         150    3436          11.0  1970\n",
       "3  16.0          8         304.0         150    3433          12.0  1970\n",
       "4  17.0          8         302.0         140    3449          10.5  1970"
      ]
     },
     "execution_count": 31,
     "metadata": {},
     "output_type": "execute_result"
    }
   ],
   "source": [
    "data.head()"
   ]
  },
  {
   "cell_type": "markdown",
   "id": "45ccc7de-c9e9-4fe9-85d4-150c8202cedb",
   "metadata": {
    "tags": []
   },
   "source": [
    "## 4. Model Training and Evaluation"
   ]
  },
  {
   "cell_type": "markdown",
   "id": "5c8458f6-25e1-4fac-8d3c-2ec090a99d37",
   "metadata": {},
   "source": [
    "### Data split ( training vs testing)"
   ]
  },
  {
   "cell_type": "code",
   "execution_count": 32,
   "id": "2e8b9cde-c98d-4f69-8c5e-d40aeb504800",
   "metadata": {},
   "outputs": [],
   "source": [
    "# Training data\n",
    "training_data = data.head(310)\n",
    "\n",
    "# Testing data \n",
    "testing_data = data.tail(80)"
   ]
  },
  {
   "cell_type": "code",
   "execution_count": 33,
   "id": "19143625-0e2b-49c7-bc65-35c1c6ae4e1b",
   "metadata": {},
   "outputs": [
    {
     "data": {
      "text/html": [
       "<div>\n",
       "<style scoped>\n",
       "    .dataframe tbody tr th:only-of-type {\n",
       "        vertical-align: middle;\n",
       "    }\n",
       "\n",
       "    .dataframe tbody tr th {\n",
       "        vertical-align: top;\n",
       "    }\n",
       "\n",
       "    .dataframe thead th {\n",
       "        text-align: right;\n",
       "    }\n",
       "</style>\n",
       "<table border=\"1\" class=\"dataframe\">\n",
       "  <thead>\n",
       "    <tr style=\"text-align: right;\">\n",
       "      <th></th>\n",
       "      <th>MPG</th>\n",
       "      <th>Cylinders</th>\n",
       "      <th>Displacement</th>\n",
       "      <th>Horsepower</th>\n",
       "      <th>Weight</th>\n",
       "      <th>Acceleration</th>\n",
       "      <th>Year</th>\n",
       "    </tr>\n",
       "  </thead>\n",
       "  <tbody>\n",
       "    <tr>\n",
       "      <th>308</th>\n",
       "      <td>33.5</td>\n",
       "      <td>4</td>\n",
       "      <td>151.0</td>\n",
       "      <td>90</td>\n",
       "      <td>2556</td>\n",
       "      <td>13.2</td>\n",
       "      <td>1979</td>\n",
       "    </tr>\n",
       "    <tr>\n",
       "      <th>309</th>\n",
       "      <td>41.5</td>\n",
       "      <td>4</td>\n",
       "      <td>98.0</td>\n",
       "      <td>76</td>\n",
       "      <td>2144</td>\n",
       "      <td>14.7</td>\n",
       "      <td>1980</td>\n",
       "    </tr>\n",
       "    <tr>\n",
       "      <th>310</th>\n",
       "      <td>38.1</td>\n",
       "      <td>4</td>\n",
       "      <td>89.0</td>\n",
       "      <td>60</td>\n",
       "      <td>1968</td>\n",
       "      <td>18.8</td>\n",
       "      <td>1980</td>\n",
       "    </tr>\n",
       "    <tr>\n",
       "      <th>311</th>\n",
       "      <td>32.1</td>\n",
       "      <td>4</td>\n",
       "      <td>98.0</td>\n",
       "      <td>70</td>\n",
       "      <td>2120</td>\n",
       "      <td>15.5</td>\n",
       "      <td>1980</td>\n",
       "    </tr>\n",
       "    <tr>\n",
       "      <th>312</th>\n",
       "      <td>37.2</td>\n",
       "      <td>4</td>\n",
       "      <td>86.0</td>\n",
       "      <td>65</td>\n",
       "      <td>2019</td>\n",
       "      <td>16.4</td>\n",
       "      <td>1980</td>\n",
       "    </tr>\n",
       "  </tbody>\n",
       "</table>\n",
       "</div>"
      ],
      "text/plain": [
       "      MPG  Cylinders  Displacement  Horsepower  Weight  Acceleration  Year\n",
       "308  33.5          4         151.0          90    2556          13.2  1979\n",
       "309  41.5          4          98.0          76    2144          14.7  1980\n",
       "310  38.1          4          89.0          60    1968          18.8  1980\n",
       "311  32.1          4          98.0          70    2120          15.5  1980\n",
       "312  37.2          4          86.0          65    2019          16.4  1980"
      ]
     },
     "execution_count": 33,
     "metadata": {},
     "output_type": "execute_result"
    }
   ],
   "source": [
    "training_data.tail()"
   ]
  },
  {
   "cell_type": "code",
   "execution_count": 34,
   "id": "79c53722-35e0-4c18-b421-c9f2c68003dc",
   "metadata": {},
   "outputs": [
    {
     "data": {
      "text/html": [
       "<div>\n",
       "<style scoped>\n",
       "    .dataframe tbody tr th:only-of-type {\n",
       "        vertical-align: middle;\n",
       "    }\n",
       "\n",
       "    .dataframe tbody tr th {\n",
       "        vertical-align: top;\n",
       "    }\n",
       "\n",
       "    .dataframe thead th {\n",
       "        text-align: right;\n",
       "    }\n",
       "</style>\n",
       "<table border=\"1\" class=\"dataframe\">\n",
       "  <thead>\n",
       "    <tr style=\"text-align: right;\">\n",
       "      <th></th>\n",
       "      <th>MPG</th>\n",
       "      <th>Cylinders</th>\n",
       "      <th>Displacement</th>\n",
       "      <th>Horsepower</th>\n",
       "      <th>Weight</th>\n",
       "      <th>Acceleration</th>\n",
       "      <th>Year</th>\n",
       "    </tr>\n",
       "  </thead>\n",
       "  <tbody>\n",
       "    <tr>\n",
       "      <th>313</th>\n",
       "      <td>28.0</td>\n",
       "      <td>4</td>\n",
       "      <td>151.0</td>\n",
       "      <td>90</td>\n",
       "      <td>2678</td>\n",
       "      <td>16.5</td>\n",
       "      <td>1980</td>\n",
       "    </tr>\n",
       "    <tr>\n",
       "      <th>314</th>\n",
       "      <td>26.4</td>\n",
       "      <td>4</td>\n",
       "      <td>140.0</td>\n",
       "      <td>88</td>\n",
       "      <td>2870</td>\n",
       "      <td>18.1</td>\n",
       "      <td>1980</td>\n",
       "    </tr>\n",
       "    <tr>\n",
       "      <th>315</th>\n",
       "      <td>24.3</td>\n",
       "      <td>4</td>\n",
       "      <td>151.0</td>\n",
       "      <td>90</td>\n",
       "      <td>3003</td>\n",
       "      <td>20.1</td>\n",
       "      <td>1980</td>\n",
       "    </tr>\n",
       "    <tr>\n",
       "      <th>316</th>\n",
       "      <td>19.1</td>\n",
       "      <td>6</td>\n",
       "      <td>225.0</td>\n",
       "      <td>90</td>\n",
       "      <td>3381</td>\n",
       "      <td>18.7</td>\n",
       "      <td>1980</td>\n",
       "    </tr>\n",
       "    <tr>\n",
       "      <th>317</th>\n",
       "      <td>34.3</td>\n",
       "      <td>4</td>\n",
       "      <td>97.0</td>\n",
       "      <td>78</td>\n",
       "      <td>2188</td>\n",
       "      <td>15.8</td>\n",
       "      <td>1980</td>\n",
       "    </tr>\n",
       "  </tbody>\n",
       "</table>\n",
       "</div>"
      ],
      "text/plain": [
       "      MPG  Cylinders  Displacement  Horsepower  Weight  Acceleration  Year\n",
       "313  28.0          4         151.0          90    2678          16.5  1980\n",
       "314  26.4          4         140.0          88    2870          18.1  1980\n",
       "315  24.3          4         151.0          90    3003          20.1  1980\n",
       "316  19.1          6         225.0          90    3381          18.7  1980\n",
       "317  34.3          4          97.0          78    2188          15.8  1980"
      ]
     },
     "execution_count": 34,
     "metadata": {},
     "output_type": "execute_result"
    }
   ],
   "source": [
    "testing_data.head()"
   ]
  },
  {
   "cell_type": "markdown",
   "id": "c61eb939-bd97-4da5-91e0-f3f84d8c3134",
   "metadata": {},
   "source": [
    "### Model 1 ( Linerar Regression with a single variable)"
   ]
  },
  {
   "cell_type": "code",
   "execution_count": 35,
   "id": "e1393e00-bd25-4edd-868b-64c59e94e0dc",
   "metadata": {},
   "outputs": [],
   "source": [
    "# y = mx + b\n",
    "# x = horsepower (input variable, feature)\n",
    "# y = MPG ( represents result )\n",
    "# b = represents bias (constant added to 'mx' function to provide an offset\n",
    "\n"
   ]
  },
  {
   "cell_type": "code",
   "execution_count": 36,
   "id": "a3ed5e30-c618-46f7-ac99-b6617690539c",
   "metadata": {},
   "outputs": [],
   "source": [
    "# Import some libraries\n",
    "import matplotlib.pyplot as plt\n",
    "import numpy as np"
   ]
  },
  {
   "cell_type": "code",
   "execution_count": 37,
   "id": "d5a60ef6-d2fa-4cc6-8c9e-30f6c2d3fd62",
   "metadata": {},
   "outputs": [
    {
     "data": {
      "text/plain": [
       "[<matplotlib.lines.Line2D at 0x153575cf340>]"
      ]
     },
     "execution_count": 37,
     "metadata": {},
     "output_type": "execute_result"
    },
    {
     "data": {
      "image/png": "[encoded data removed]",
      "text/plain": [
       "<Figure size 640x480 with 1 Axes>"
      ]
     },
     "metadata": {},
     "output_type": "display_data"
    }
   ],
   "source": [
    "# demonstrate bias\n",
    "x = np.linspace(0,10)\n",
    "plt.plot(x, x + 0)\n",
    "plt.plot(x, x - 4)"
   ]
  },
  {
   "cell_type": "code",
   "execution_count": 38,
   "id": "ba60ca77-c745-46e5-8e16-904159731062",
   "metadata": {},
   "outputs": [],
   "source": [
    "# import libraries\n",
    "import tensorflow as tf"
   ]
  },
  {
   "cell_type": "code",
   "execution_count": 39,
   "id": "14751b3e-6df0-4eca-98a3-6f9346da3f58",
   "metadata": {},
   "outputs": [],
   "source": [
    "# define our first model\n",
    "# keras are built up of nodes, more nodes is more complex\n",
    "model1 = tf.keras.Sequential()"
   ]
  },
  {
   "cell_type": "code",
   "execution_count": 40,
   "id": "f9dbba27-99a8-4b26-a00e-294de70b2329",
   "metadata": {},
   "outputs": [],
   "source": [
    "# Define layers \n",
    "\n",
    "# define layers 1\n",
    "layer1 = tf.keras.layers.Dense(1, input_shape = (1,))\n",
    "# add layers to the model\n",
    "model1.add(layer1)"
   ]
  },
  {
   "cell_type": "code",
   "execution_count": 41,
   "id": "cabd50a6-a110-489d-9e21-fb73b84b9563",
   "metadata": {},
   "outputs": [
    {
     "name": "stdout",
     "output_type": "stream",
     "text": [
      "Model: \"sequential\"\n",
      "_________________________________________________________________\n",
      " Layer (type)                Output Shape              Param #   \n",
      "=================================================================\n",
      " dense (Dense)               (None, 1)                 2         \n",
      "                                                                 \n",
      "=================================================================\n",
      "Total params: 2\n",
      "Trainable params: 2\n",
      "Non-trainable params: 0\n",
      "_________________________________________________________________\n"
     ]
    }
   ],
   "source": [
    "model1.summary()"
   ]
  },
  {
   "cell_type": "code",
   "execution_count": 42,
   "id": "3dcc1767-bdba-4702-a54b-cce3bb228c36",
   "metadata": {},
   "outputs": [
    {
     "name": "stdout",
     "output_type": "stream",
     "text": [
      "You must install pydot (`pip install pydot`) and install graphviz (see instructions at https://graphviz.gitlab.io/download/) for plot_model to work.\n"
     ]
    }
   ],
   "source": [
    "tf.keras.utils.plot_model(model1,show_shapes=True, show_layer_names=True)"
   ]
  },
  {
   "cell_type": "code",
   "execution_count": 43,
   "id": "23c5ac74-00d6-493a-a9ac-4ad4bad8886d",
   "metadata": {},
   "outputs": [],
   "source": [
    "# compile model1\n",
    "\n",
    "model1.compile(\n",
    "optimizer=tf.keras.optimizers.Adam(learning_rate=0.1),\n",
    "    loss = 'mean_absolute_error'\n",
    ")\n"
   ]
  },
  {
   "cell_type": "code",
   "execution_count": 46,
   "id": "c87f03e5-d440-4261-983d-82d96f6df59f",
   "metadata": {},
   "outputs": [
    {
     "name": "stdout",
     "output_type": "stream",
     "text": [
      "Epoch 1/100\n",
      "8/8 [==============================] - 1s 26ms/step - loss: 118.8426 - val_loss: 53.2715\n",
      "Epoch 2/100\n",
      "8/8 [==============================] - 0s 7ms/step - loss: 32.7868 - val_loss: 23.8457\n",
      "Epoch 3/100\n",
      "8/8 [==============================] - 0s 6ms/step - loss: 27.5013 - val_loss: 24.2913\n",
      "Epoch 4/100\n",
      "8/8 [==============================] - 0s 7ms/step - loss: 14.5382 - val_loss: 11.9390\n",
      "Epoch 5/100\n",
      "8/8 [==============================] - 0s 6ms/step - loss: 14.0594 - val_loss: 11.5342\n",
      "Epoch 6/100\n",
      "8/8 [==============================] - 0s 7ms/step - loss: 12.5861 - val_loss: 12.5589\n",
      "Epoch 7/100\n",
      "8/8 [==============================] - 0s 6ms/step - loss: 10.9607 - val_loss: 9.9310\n",
      "Epoch 8/100\n",
      "8/8 [==============================] - 0s 7ms/step - loss: 11.3298 - val_loss: 11.5818\n",
      "Epoch 9/100\n",
      "8/8 [==============================] - 0s 7ms/step - loss: 10.8688 - val_loss: 12.3921\n",
      "Epoch 10/100\n",
      "8/8 [==============================] - 0s 6ms/step - loss: 10.8741 - val_loss: 11.1851\n",
      "Epoch 11/100\n",
      "8/8 [==============================] - 0s 6ms/step - loss: 10.6498 - val_loss: 10.5615\n",
      "Epoch 12/100\n",
      "8/8 [==============================] - 0s 6ms/step - loss: 10.5289 - val_loss: 11.3540\n",
      "Epoch 13/100\n",
      "8/8 [==============================] - 0s 6ms/step - loss: 10.3781 - val_loss: 10.8199\n",
      "Epoch 14/100\n",
      "8/8 [==============================] - 0s 7ms/step - loss: 10.3006 - val_loss: 10.8616\n",
      "Epoch 15/100\n",
      "8/8 [==============================] - 0s 6ms/step - loss: 10.5844 - val_loss: 9.7397\n",
      "Epoch 16/100\n",
      "8/8 [==============================] - 0s 6ms/step - loss: 10.7245 - val_loss: 10.1929\n",
      "Epoch 17/100\n",
      "8/8 [==============================] - 0s 8ms/step - loss: 10.0109 - val_loss: 11.2792\n",
      "Epoch 18/100\n",
      "8/8 [==============================] - 0s 7ms/step - loss: 9.8309 - val_loss: 9.5420\n",
      "Epoch 19/100\n",
      "8/8 [==============================] - 0s 7ms/step - loss: 9.5011 - val_loss: 11.8357\n",
      "Epoch 20/100\n",
      "8/8 [==============================] - 0s 7ms/step - loss: 9.5760 - val_loss: 11.4459\n",
      "Epoch 21/100\n",
      "8/8 [==============================] - 0s 6ms/step - loss: 9.3486 - val_loss: 9.0522\n",
      "Epoch 22/100\n",
      "8/8 [==============================] - 0s 10ms/step - loss: 9.5962 - val_loss: 9.8492\n",
      "Epoch 23/100\n",
      "8/8 [==============================] - 0s 7ms/step - loss: 9.0868 - val_loss: 9.7875\n",
      "Epoch 24/100\n",
      "8/8 [==============================] - 0s 12ms/step - loss: 8.8378 - val_loss: 10.6049\n",
      "Epoch 25/100\n",
      "8/8 [==============================] - 0s 9ms/step - loss: 8.6953 - val_loss: 9.3415\n",
      "Epoch 26/100\n",
      "8/8 [==============================] - 0s 8ms/step - loss: 8.7177 - val_loss: 10.0043\n",
      "Epoch 27/100\n",
      "8/8 [==============================] - 0s 8ms/step - loss: 8.4719 - val_loss: 9.3309\n",
      "Epoch 28/100\n",
      "8/8 [==============================] - 0s 7ms/step - loss: 8.3248 - val_loss: 8.4215\n",
      "Epoch 29/100\n",
      "8/8 [==============================] - 0s 7ms/step - loss: 8.1797 - val_loss: 10.6923\n",
      "Epoch 30/100\n",
      "8/8 [==============================] - 0s 6ms/step - loss: 7.8718 - val_loss: 8.3187\n",
      "Epoch 31/100\n",
      "8/8 [==============================] - 0s 6ms/step - loss: 7.8757 - val_loss: 9.5066\n",
      "Epoch 32/100\n",
      "8/8 [==============================] - 0s 7ms/step - loss: 7.7237 - val_loss: 9.2824\n",
      "Epoch 33/100\n",
      "8/8 [==============================] - 0s 7ms/step - loss: 7.5996 - val_loss: 7.5938\n",
      "Epoch 34/100\n",
      "8/8 [==============================] - 0s 6ms/step - loss: 7.8294 - val_loss: 7.2757\n",
      "Epoch 35/100\n",
      "8/8 [==============================] - 0s 6ms/step - loss: 8.3452 - val_loss: 11.7909\n",
      "Epoch 36/100\n",
      "8/8 [==============================] - 0s 7ms/step - loss: 7.9889 - val_loss: 7.7299\n",
      "Epoch 37/100\n",
      "8/8 [==============================] - 0s 6ms/step - loss: 7.3714 - val_loss: 7.0489\n",
      "Epoch 38/100\n",
      "8/8 [==============================] - 0s 6ms/step - loss: 6.9820 - val_loss: 8.7254\n",
      "Epoch 39/100\n",
      "8/8 [==============================] - 0s 6ms/step - loss: 6.5284 - val_loss: 6.7989\n",
      "Epoch 40/100\n",
      "8/8 [==============================] - 0s 5ms/step - loss: 7.4944 - val_loss: 6.8281\n",
      "Epoch 41/100\n",
      "8/8 [==============================] - 0s 6ms/step - loss: 6.5992 - val_loss: 10.2125\n",
      "Epoch 42/100\n",
      "8/8 [==============================] - 0s 6ms/step - loss: 6.9079 - val_loss: 9.4393\n",
      "Epoch 43/100\n",
      "8/8 [==============================] - 0s 6ms/step - loss: 6.9419 - val_loss: 6.5518\n",
      "Epoch 44/100\n",
      "8/8 [==============================] - 0s 7ms/step - loss: 6.0064 - val_loss: 6.5528\n",
      "Epoch 45/100\n",
      "8/8 [==============================] - 0s 6ms/step - loss: 6.0640 - val_loss: 9.4005\n",
      "Epoch 46/100\n",
      "8/8 [==============================] - 0s 7ms/step - loss: 6.1594 - val_loss: 9.1073\n",
      "Epoch 47/100\n",
      "8/8 [==============================] - 0s 5ms/step - loss: 5.7717 - val_loss: 9.1511\n",
      "Epoch 48/100\n",
      "8/8 [==============================] - 0s 5ms/step - loss: 6.0024 - val_loss: 9.6035\n",
      "Epoch 49/100\n",
      "8/8 [==============================] - 0s 8ms/step - loss: 5.6704 - val_loss: 8.0122\n",
      "Epoch 50/100\n",
      "8/8 [==============================] - 0s 7ms/step - loss: 5.7785 - val_loss: 5.8873\n",
      "Epoch 51/100\n",
      "8/8 [==============================] - 0s 6ms/step - loss: 5.3428 - val_loss: 5.8261\n",
      "Epoch 52/100\n",
      "8/8 [==============================] - 0s 6ms/step - loss: 5.3193 - val_loss: 6.6476\n",
      "Epoch 53/100\n",
      "8/8 [==============================] - 0s 6ms/step - loss: 4.9040 - val_loss: 5.8885\n",
      "Epoch 54/100\n",
      "8/8 [==============================] - 0s 6ms/step - loss: 5.0376 - val_loss: 6.3020\n",
      "Epoch 55/100\n",
      "8/8 [==============================] - 0s 7ms/step - loss: 4.8479 - val_loss: 5.6130\n",
      "Epoch 56/100\n",
      "8/8 [==============================] - 0s 6ms/step - loss: 4.9550 - val_loss: 6.3631\n",
      "Epoch 57/100\n",
      "8/8 [==============================] - 0s 6ms/step - loss: 4.6152 - val_loss: 6.7532\n",
      "Epoch 58/100\n",
      "8/8 [==============================] - 0s 8ms/step - loss: 4.5790 - val_loss: 5.9390\n",
      "Epoch 59/100\n",
      "8/8 [==============================] - 0s 7ms/step - loss: 4.5600 - val_loss: 6.0227\n",
      "Epoch 60/100\n",
      "8/8 [==============================] - 0s 6ms/step - loss: 4.4094 - val_loss: 5.4895\n",
      "Epoch 61/100\n",
      "8/8 [==============================] - 0s 7ms/step - loss: 4.2565 - val_loss: 6.3845\n",
      "Epoch 62/100\n",
      "8/8 [==============================] - 0s 7ms/step - loss: 4.2443 - val_loss: 6.8857\n",
      "Epoch 63/100\n",
      "8/8 [==============================] - 0s 7ms/step - loss: 4.4594 - val_loss: 7.2287\n",
      "Epoch 64/100\n",
      "8/8 [==============================] - 0s 8ms/step - loss: 4.8665 - val_loss: 5.9158\n",
      "Epoch 65/100\n",
      "8/8 [==============================] - 0s 6ms/step - loss: 4.4604 - val_loss: 4.9337\n",
      "Epoch 66/100\n",
      "8/8 [==============================] - 0s 7ms/step - loss: 4.1954 - val_loss: 4.9233\n",
      "Epoch 67/100\n",
      "8/8 [==============================] - 0s 7ms/step - loss: 4.1804 - val_loss: 4.8742\n",
      "Epoch 68/100\n",
      "8/8 [==============================] - 0s 8ms/step - loss: 4.1674 - val_loss: 6.4516\n",
      "Epoch 69/100\n",
      "8/8 [==============================] - 0s 7ms/step - loss: 3.9413 - val_loss: 6.3012\n",
      "Epoch 70/100\n",
      "8/8 [==============================] - 0s 7ms/step - loss: 3.6864 - val_loss: 5.6816\n",
      "Epoch 71/100\n",
      "8/8 [==============================] - 0s 6ms/step - loss: 3.7368 - val_loss: 5.1229\n",
      "Epoch 72/100\n",
      "8/8 [==============================] - 0s 7ms/step - loss: 3.6379 - val_loss: 6.9129\n",
      "Epoch 73/100\n",
      "8/8 [==============================] - 0s 6ms/step - loss: 3.9385 - val_loss: 5.7082\n",
      "Epoch 74/100\n",
      "8/8 [==============================] - 0s 6ms/step - loss: 3.8108 - val_loss: 4.5865\n",
      "Epoch 75/100\n",
      "8/8 [==============================] - 0s 6ms/step - loss: 4.0131 - val_loss: 4.5606\n",
      "Epoch 76/100\n",
      "8/8 [==============================] - 0s 6ms/step - loss: 4.5747 - val_loss: 4.8316\n",
      "Epoch 77/100\n",
      "8/8 [==============================] - 0s 7ms/step - loss: 5.1688 - val_loss: 4.7468\n",
      "Epoch 78/100\n",
      "8/8 [==============================] - 0s 6ms/step - loss: 4.3447 - val_loss: 4.4283\n",
      "Epoch 79/100\n",
      "8/8 [==============================] - 0s 8ms/step - loss: 3.6789 - val_loss: 4.5463\n",
      "Epoch 80/100\n",
      "8/8 [==============================] - 0s 8ms/step - loss: 3.4690 - val_loss: 4.7952\n",
      "Epoch 81/100\n",
      "8/8 [==============================] - 0s 8ms/step - loss: 3.3697 - val_loss: 4.3296\n",
      "Epoch 82/100\n",
      "8/8 [==============================] - 0s 9ms/step - loss: 3.7530 - val_loss: 5.0159\n",
      "Epoch 83/100\n",
      "8/8 [==============================] - 0s 7ms/step - loss: 3.7289 - val_loss: 6.1780\n",
      "Epoch 84/100\n",
      "8/8 [==============================] - 0s 8ms/step - loss: 3.6825 - val_loss: 5.5055\n",
      "Epoch 85/100\n",
      "8/8 [==============================] - 0s 9ms/step - loss: 3.4582 - val_loss: 4.4927\n",
      "Epoch 86/100\n",
      "8/8 [==============================] - 0s 9ms/step - loss: 3.4375 - val_loss: 4.3879\n",
      "Epoch 87/100\n",
      "8/8 [==============================] - 0s 8ms/step - loss: 3.2545 - val_loss: 4.3989\n",
      "Epoch 88/100\n",
      "8/8 [==============================] - 0s 7ms/step - loss: 3.6341 - val_loss: 4.3733\n",
      "Epoch 89/100\n",
      "8/8 [==============================] - 0s 7ms/step - loss: 3.4411 - val_loss: 5.5935\n",
      "Epoch 90/100\n",
      "8/8 [==============================] - 0s 6ms/step - loss: 3.4082 - val_loss: 6.2649\n",
      "Epoch 91/100\n",
      "8/8 [==============================] - 0s 6ms/step - loss: 3.6291 - val_loss: 6.1786\n",
      "Epoch 92/100\n",
      "8/8 [==============================] - 0s 6ms/step - loss: 3.3861 - val_loss: 4.6080\n",
      "Epoch 93/100\n",
      "8/8 [==============================] - 0s 6ms/step - loss: 3.1583 - val_loss: 4.1460\n",
      "Epoch 94/100\n",
      "8/8 [==============================] - 0s 6ms/step - loss: 3.2378 - val_loss: 4.0918\n",
      "Epoch 95/100\n",
      "8/8 [==============================] - 0s 7ms/step - loss: 3.1982 - val_loss: 4.0919\n",
      "Epoch 96/100\n",
      "8/8 [==============================] - 0s 6ms/step - loss: 3.7106 - val_loss: 4.3653\n",
      "Epoch 97/100\n",
      "8/8 [==============================] - 0s 6ms/step - loss: 3.7984 - val_loss: 4.0400\n",
      "Epoch 98/100\n",
      "8/8 [==============================] - 0s 5ms/step - loss: 3.6345 - val_loss: 5.1577\n",
      "Epoch 99/100\n",
      "8/8 [==============================] - 0s 7ms/step - loss: 3.6960 - val_loss: 5.9743\n",
      "Epoch 100/100\n",
      "8/8 [==============================] - 0s 8ms/step - loss: 4.2290 - val_loss: 7.1214\n"
     ]
    }
   ],
   "source": [
    "# train model\n",
    "history1 = model1.fit(\n",
    "    training_data['Horsepower'], # feature\n",
    "    training_data['MPG'],        # Label (Target value)\n",
    "    epochs = 100,                # rounds of training\n",
    "    validation_split=0.2)        # use 20% of the training data for validation\n",
    "    \n"
   ]
  },
  {
   "cell_type": "code",
   "execution_count": 51,
   "id": "18c9041b-710e-490c-b421-7681fb6d9dfb",
   "metadata": {},
   "outputs": [],
   "source": [
    "# plot horsepower vs MPG\n",
    "\n",
    "def plotHPvsMPG(data_hp, data_mph, pred_hp, pred_mpg):\n",
    "    # plot real data\n",
    "    plt.scatter(data_hp, data_mph, label='Data')\n",
    "    \n",
    "    # plot prediction\n",
    "    plt.plot(pred_hp,pred_mpg, color='k', label ='Predictions')\n",
    "             \n",
    "    # show legend\n",
    "    plt.xlabel('Horsepower')\n",
    "    plt.ylabel('MPG')\n",
    "    plt.legend()"
   ]
  },
  {
   "cell_type": "code",
   "execution_count": 52,
   "id": "3aa5fda0-08ca-4bfe-b412-9c4fdaaa47bc",
   "metadata": {},
   "outputs": [
    {
     "name": "stdout",
     "output_type": "stream",
     "text": [
      "8/8 [==============================] - 0s 2ms/step\n"
     ]
    }
   ],
   "source": [
    "# real data\n",
    "hp1 = training_data['Horsepower']\n",
    "mpg1 = training_data['MPG']\n",
    "\n",
    "# predicted data\n",
    "hp2 = tf.linspace(0, 250, 251)\n",
    "mpg2 = model1.predict(hp2)\n"
   ]
  },
  {
   "cell_type": "code",
   "execution_count": 54,
   "id": "86a91fe4-4f7c-4b57-81c0-09dafc07f124",
   "metadata": {},
   "outputs": [
    {
     "data": {
      "image/png": "[encoded data removed]",
      "text/plain": [
       "<Figure size 640x480 with 1 Axes>"
      ]
     },
     "metadata": {},
     "output_type": "display_data"
    }
   ],
   "source": [
    "plotHPvsMPG(hp1, mpg1, hp2, mpg2)"
   ]
  },
  {
   "cell_type": "code",
   "execution_count": 57,
   "id": "d104dc40-a289-4144-a3bb-83bd781181ac",
   "metadata": {},
   "outputs": [],
   "source": [
    "# Get final results for model1\n",
    "testing = model1.evaluate(testing_data['Horsepower'], testing_data['MPG'], verbose=0)\n",
    "training = pd.DataFrame(history1.history).iloc[99]['loss']\n",
    "\n",
    "results = {}\n",
    "results['Baseline'] = training, testing"
   ]
  },
  {
   "cell_type": "code",
   "execution_count": 58,
   "id": "4e0b991b-f7c5-47f8-bcb2-ec3dc71b36ee",
   "metadata": {},
   "outputs": [
    {
     "data": {
      "text/html": [
       "<div>\n",
       "<style scoped>\n",
       "    .dataframe tbody tr th:only-of-type {\n",
       "        vertical-align: middle;\n",
       "    }\n",
       "\n",
       "    .dataframe tbody tr th {\n",
       "        vertical-align: top;\n",
       "    }\n",
       "\n",
       "    .dataframe thead th {\n",
       "        text-align: right;\n",
       "    }\n",
       "</style>\n",
       "<table border=\"1\" class=\"dataframe\">\n",
       "  <thead>\n",
       "    <tr style=\"text-align: right;\">\n",
       "      <th></th>\n",
       "      <th>training loss</th>\n",
       "      <th>testing loss</th>\n",
       "    </tr>\n",
       "  </thead>\n",
       "  <tbody>\n",
       "    <tr>\n",
       "      <th>Baseline</th>\n",
       "      <td>4.229037</td>\n",
       "      <td>11.649529</td>\n",
       "    </tr>\n",
       "  </tbody>\n",
       "</table>\n",
       "</div>"
      ],
      "text/plain": [
       "          training loss  testing loss\n",
       "Baseline       4.229037     11.649529"
      ]
     },
     "execution_count": 58,
     "metadata": {},
     "output_type": "execute_result"
    }
   ],
   "source": [
    "pd.DataFrame(results, index=['training loss', 'testing loss']).T"
   ]
  },
  {
   "cell_type": "code",
   "execution_count": null,
   "id": "36503ff6-5ca4-4f4c-be39-221c804025b3",
   "metadata": {},
   "outputs": [],
   "source": []
  }
 ],
 "metadata": {
  "kernelspec": {
   "display_name": "Python 3 (ipykernel)",
   "language": "python",
   "name": "python3"
  },
  "language_info": {
   "codemirror_mode": {
    "name": "ipython",
    "version": 3
   },
   "file_extension": ".py",
   "mimetype": "text/x-python",
   "name": "python",
   "nbconvert_exporter": "python",
   "pygments_lexer": "ipython3",
   "version": "3.9.13"
  }
 },
 "nbformat": 4,
 "nbformat_minor": 5
}
